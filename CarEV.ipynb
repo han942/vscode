{
 "cells": [
  {
   "cell_type": "markdown",
   "metadata": {},
   "source": [
    "# 차량 EV 경진대회"
   ]
  },
  {
   "cell_type": "markdown",
   "metadata": {},
   "source": [
    "## Data Import"
   ]
  },
  {
   "cell_type": "code",
   "execution_count": 109,
   "metadata": {},
   "outputs": [],
   "source": [
    "import pandas as pd\n",
    "import os \n",
    "\n",
    "train = pd.read_csv('https://raw.githubusercontent.com/han942/vscode/refs/heads/main/datafile/dacon/CarEV/train.csv')\n",
    "test = pd.read_csv('https://raw.githubusercontent.com/han942/vscode/refs/heads/main/datafile/dacon/CarEV/test.csv')\n",
    "submit = pd.read_csv('https://raw.githubusercontent.com/han942/vscode/refs/heads/main/datafile/dacon/CarEV/sample_submission.csv')"
   ]
  },
  {
   "cell_type": "code",
   "execution_count": 110,
   "metadata": {},
   "outputs": [
    {
     "data": {
      "text/html": [
       "<div>\n",
       "<style scoped>\n",
       "    .dataframe tbody tr th:only-of-type {\n",
       "        vertical-align: middle;\n",
       "    }\n",
       "\n",
       "    .dataframe tbody tr th {\n",
       "        vertical-align: top;\n",
       "    }\n",
       "\n",
       "    .dataframe thead th {\n",
       "        text-align: right;\n",
       "    }\n",
       "</style>\n",
       "<table border=\"1\" class=\"dataframe\">\n",
       "  <thead>\n",
       "    <tr style=\"text-align: right;\">\n",
       "      <th></th>\n",
       "      <th>ID</th>\n",
       "      <th>제조사</th>\n",
       "      <th>모델</th>\n",
       "      <th>차량상태</th>\n",
       "      <th>배터리용량</th>\n",
       "      <th>구동방식</th>\n",
       "      <th>주행거리(km)</th>\n",
       "      <th>보증기간(년)</th>\n",
       "      <th>사고이력</th>\n",
       "      <th>연식(년)</th>\n",
       "      <th>가격(백만원)</th>\n",
       "    </tr>\n",
       "  </thead>\n",
       "  <tbody>\n",
       "    <tr>\n",
       "      <th>0</th>\n",
       "      <td>TRAIN_0000</td>\n",
       "      <td>P사</td>\n",
       "      <td>TayGTS</td>\n",
       "      <td>Nearly New</td>\n",
       "      <td>86.077</td>\n",
       "      <td>AWD</td>\n",
       "      <td>13642</td>\n",
       "      <td>0</td>\n",
       "      <td>No</td>\n",
       "      <td>2</td>\n",
       "      <td>159.66</td>\n",
       "    </tr>\n",
       "    <tr>\n",
       "      <th>1</th>\n",
       "      <td>TRAIN_0001</td>\n",
       "      <td>K사</td>\n",
       "      <td>Niro</td>\n",
       "      <td>Nearly New</td>\n",
       "      <td>56.000</td>\n",
       "      <td>FWD</td>\n",
       "      <td>10199</td>\n",
       "      <td>6</td>\n",
       "      <td>No</td>\n",
       "      <td>0</td>\n",
       "      <td>28.01</td>\n",
       "    </tr>\n",
       "    <tr>\n",
       "      <th>2</th>\n",
       "      <td>TRAIN_0002</td>\n",
       "      <td>A사</td>\n",
       "      <td>eT</td>\n",
       "      <td>Brand New</td>\n",
       "      <td>91.200</td>\n",
       "      <td>AWD</td>\n",
       "      <td>2361</td>\n",
       "      <td>7</td>\n",
       "      <td>No</td>\n",
       "      <td>0</td>\n",
       "      <td>66.27</td>\n",
       "    </tr>\n",
       "    <tr>\n",
       "      <th>3</th>\n",
       "      <td>TRAIN_0003</td>\n",
       "      <td>A사</td>\n",
       "      <td>RSeTGT</td>\n",
       "      <td>Nearly New</td>\n",
       "      <td>NaN</td>\n",
       "      <td>AWD</td>\n",
       "      <td>21683</td>\n",
       "      <td>3</td>\n",
       "      <td>No</td>\n",
       "      <td>0</td>\n",
       "      <td>99.16</td>\n",
       "    </tr>\n",
       "    <tr>\n",
       "      <th>4</th>\n",
       "      <td>TRAIN_0004</td>\n",
       "      <td>B사</td>\n",
       "      <td>i5</td>\n",
       "      <td>Pre-Owned</td>\n",
       "      <td>61.018</td>\n",
       "      <td>AWD</td>\n",
       "      <td>178205</td>\n",
       "      <td>1</td>\n",
       "      <td>No</td>\n",
       "      <td>0</td>\n",
       "      <td>62.02</td>\n",
       "    </tr>\n",
       "  </tbody>\n",
       "</table>\n",
       "</div>"
      ],
      "text/plain": [
       "           ID 제조사      모델        차량상태   배터리용량 구동방식  주행거리(km)  보증기간(년) 사고이력  \\\n",
       "0  TRAIN_0000  P사  TayGTS  Nearly New  86.077  AWD     13642        0   No   \n",
       "1  TRAIN_0001  K사    Niro  Nearly New  56.000  FWD     10199        6   No   \n",
       "2  TRAIN_0002  A사      eT   Brand New  91.200  AWD      2361        7   No   \n",
       "3  TRAIN_0003  A사  RSeTGT  Nearly New     NaN  AWD     21683        3   No   \n",
       "4  TRAIN_0004  B사      i5   Pre-Owned  61.018  AWD    178205        1   No   \n",
       "\n",
       "   연식(년)  가격(백만원)  \n",
       "0      2   159.66  \n",
       "1      0    28.01  \n",
       "2      0    66.27  \n",
       "3      0    99.16  \n",
       "4      0    62.02  "
      ]
     },
     "execution_count": 110,
     "metadata": {},
     "output_type": "execute_result"
    }
   ],
   "source": [
    "train.head()"
   ]
  },
  {
   "cell_type": "code",
   "execution_count": 111,
   "metadata": {},
   "outputs": [
    {
     "data": {
      "text/html": [
       "<div>\n",
       "<style scoped>\n",
       "    .dataframe tbody tr th:only-of-type {\n",
       "        vertical-align: middle;\n",
       "    }\n",
       "\n",
       "    .dataframe tbody tr th {\n",
       "        vertical-align: top;\n",
       "    }\n",
       "\n",
       "    .dataframe thead th {\n",
       "        text-align: right;\n",
       "    }\n",
       "</style>\n",
       "<table border=\"1\" class=\"dataframe\">\n",
       "  <thead>\n",
       "    <tr style=\"text-align: right;\">\n",
       "      <th></th>\n",
       "      <th>ID</th>\n",
       "      <th>제조사</th>\n",
       "      <th>모델</th>\n",
       "      <th>차량상태</th>\n",
       "      <th>배터리용량</th>\n",
       "      <th>구동방식</th>\n",
       "      <th>주행거리(km)</th>\n",
       "      <th>보증기간(년)</th>\n",
       "      <th>사고이력</th>\n",
       "      <th>연식(년)</th>\n",
       "    </tr>\n",
       "  </thead>\n",
       "  <tbody>\n",
       "    <tr>\n",
       "      <th>0</th>\n",
       "      <td>TEST_000</td>\n",
       "      <td>P사</td>\n",
       "      <td>TayCT</td>\n",
       "      <td>Nearly New</td>\n",
       "      <td>76.093</td>\n",
       "      <td>AWD</td>\n",
       "      <td>14057</td>\n",
       "      <td>2</td>\n",
       "      <td>No</td>\n",
       "      <td>0</td>\n",
       "    </tr>\n",
       "    <tr>\n",
       "      <th>1</th>\n",
       "      <td>TEST_001</td>\n",
       "      <td>B사</td>\n",
       "      <td>iX</td>\n",
       "      <td>Brand New</td>\n",
       "      <td>90.000</td>\n",
       "      <td>AWD</td>\n",
       "      <td>7547</td>\n",
       "      <td>8</td>\n",
       "      <td>No</td>\n",
       "      <td>0</td>\n",
       "    </tr>\n",
       "    <tr>\n",
       "      <th>2</th>\n",
       "      <td>TEST_002</td>\n",
       "      <td>B사</td>\n",
       "      <td>i5</td>\n",
       "      <td>Brand New</td>\n",
       "      <td>NaN</td>\n",
       "      <td>RWD</td>\n",
       "      <td>7197</td>\n",
       "      <td>7</td>\n",
       "      <td>Yes</td>\n",
       "      <td>0</td>\n",
       "    </tr>\n",
       "    <tr>\n",
       "      <th>3</th>\n",
       "      <td>TEST_003</td>\n",
       "      <td>H사</td>\n",
       "      <td>ION5</td>\n",
       "      <td>Nearly New</td>\n",
       "      <td>68.479</td>\n",
       "      <td>AWD</td>\n",
       "      <td>10357</td>\n",
       "      <td>7</td>\n",
       "      <td>No</td>\n",
       "      <td>1</td>\n",
       "    </tr>\n",
       "    <tr>\n",
       "      <th>4</th>\n",
       "      <td>TEST_004</td>\n",
       "      <td>K사</td>\n",
       "      <td>EV6</td>\n",
       "      <td>Brand New</td>\n",
       "      <td>NaN</td>\n",
       "      <td>FWD</td>\n",
       "      <td>7597</td>\n",
       "      <td>10</td>\n",
       "      <td>No</td>\n",
       "      <td>0</td>\n",
       "    </tr>\n",
       "  </tbody>\n",
       "</table>\n",
       "</div>"
      ],
      "text/plain": [
       "         ID 제조사     모델        차량상태   배터리용량 구동방식  주행거리(km)  보증기간(년) 사고이력  연식(년)\n",
       "0  TEST_000  P사  TayCT  Nearly New  76.093  AWD     14057        2   No      0\n",
       "1  TEST_001  B사     iX   Brand New  90.000  AWD      7547        8   No      0\n",
       "2  TEST_002  B사     i5   Brand New     NaN  RWD      7197        7  Yes      0\n",
       "3  TEST_003  H사   ION5  Nearly New  68.479  AWD     10357        7   No      1\n",
       "4  TEST_004  K사    EV6   Brand New     NaN  FWD      7597       10   No      0"
      ]
     },
     "execution_count": 111,
     "metadata": {},
     "output_type": "execute_result"
    }
   ],
   "source": [
    "test.head()"
   ]
  },
  {
   "cell_type": "code",
   "execution_count": 112,
   "metadata": {},
   "outputs": [
    {
     "data": {
      "text/html": [
       "<div>\n",
       "<style scoped>\n",
       "    .dataframe tbody tr th:only-of-type {\n",
       "        vertical-align: middle;\n",
       "    }\n",
       "\n",
       "    .dataframe tbody tr th {\n",
       "        vertical-align: top;\n",
       "    }\n",
       "\n",
       "    .dataframe thead th {\n",
       "        text-align: right;\n",
       "    }\n",
       "</style>\n",
       "<table border=\"1\" class=\"dataframe\">\n",
       "  <thead>\n",
       "    <tr style=\"text-align: right;\">\n",
       "      <th></th>\n",
       "      <th>ID</th>\n",
       "      <th>가격(백만원)</th>\n",
       "    </tr>\n",
       "  </thead>\n",
       "  <tbody>\n",
       "    <tr>\n",
       "      <th>0</th>\n",
       "      <td>TEST_000</td>\n",
       "      <td>0</td>\n",
       "    </tr>\n",
       "    <tr>\n",
       "      <th>1</th>\n",
       "      <td>TEST_001</td>\n",
       "      <td>0</td>\n",
       "    </tr>\n",
       "    <tr>\n",
       "      <th>2</th>\n",
       "      <td>TEST_002</td>\n",
       "      <td>0</td>\n",
       "    </tr>\n",
       "    <tr>\n",
       "      <th>3</th>\n",
       "      <td>TEST_003</td>\n",
       "      <td>0</td>\n",
       "    </tr>\n",
       "    <tr>\n",
       "      <th>4</th>\n",
       "      <td>TEST_004</td>\n",
       "      <td>0</td>\n",
       "    </tr>\n",
       "  </tbody>\n",
       "</table>\n",
       "</div>"
      ],
      "text/plain": [
       "         ID  가격(백만원)\n",
       "0  TEST_000        0\n",
       "1  TEST_001        0\n",
       "2  TEST_002        0\n",
       "3  TEST_003        0\n",
       "4  TEST_004        0"
      ]
     },
     "execution_count": 112,
     "metadata": {},
     "output_type": "execute_result"
    }
   ],
   "source": [
    "submit.head()"
   ]
  },
  {
   "cell_type": "code",
   "execution_count": 113,
   "metadata": {},
   "outputs": [
    {
     "name": "stdout",
     "output_type": "stream",
     "text": [
      "data shape: (7497, 11)\n"
     ]
    },
    {
     "data": {
      "text/html": [
       "<div>\n",
       "<style scoped>\n",
       "    .dataframe tbody tr th:only-of-type {\n",
       "        vertical-align: middle;\n",
       "    }\n",
       "\n",
       "    .dataframe tbody tr th {\n",
       "        vertical-align: top;\n",
       "    }\n",
       "\n",
       "    .dataframe thead th {\n",
       "        text-align: right;\n",
       "    }\n",
       "</style>\n",
       "<table border=\"1\" class=\"dataframe\">\n",
       "  <thead>\n",
       "    <tr style=\"text-align: right;\">\n",
       "      <th></th>\n",
       "      <th>data type</th>\n",
       "      <th>#missing</th>\n",
       "      <th>%missing</th>\n",
       "      <th>#unique</th>\n",
       "      <th>min</th>\n",
       "      <th>max</th>\n",
       "    </tr>\n",
       "  </thead>\n",
       "  <tbody>\n",
       "    <tr>\n",
       "      <th>ID</th>\n",
       "      <td>object</td>\n",
       "      <td>0</td>\n",
       "      <td>0.000000</td>\n",
       "      <td>7497</td>\n",
       "      <td>NaN</td>\n",
       "      <td>NaN</td>\n",
       "    </tr>\n",
       "    <tr>\n",
       "      <th>제조사</th>\n",
       "      <td>object</td>\n",
       "      <td>0</td>\n",
       "      <td>0.000000</td>\n",
       "      <td>7</td>\n",
       "      <td>NaN</td>\n",
       "      <td>NaN</td>\n",
       "    </tr>\n",
       "    <tr>\n",
       "      <th>모델</th>\n",
       "      <td>object</td>\n",
       "      <td>0</td>\n",
       "      <td>0.000000</td>\n",
       "      <td>21</td>\n",
       "      <td>NaN</td>\n",
       "      <td>NaN</td>\n",
       "    </tr>\n",
       "    <tr>\n",
       "      <th>차량상태</th>\n",
       "      <td>object</td>\n",
       "      <td>0</td>\n",
       "      <td>0.000000</td>\n",
       "      <td>3</td>\n",
       "      <td>NaN</td>\n",
       "      <td>NaN</td>\n",
       "    </tr>\n",
       "    <tr>\n",
       "      <th>배터리용량</th>\n",
       "      <td>float64</td>\n",
       "      <td>2711</td>\n",
       "      <td>36.161131</td>\n",
       "      <td>194</td>\n",
       "      <td>46.0</td>\n",
       "      <td>99.8</td>\n",
       "    </tr>\n",
       "    <tr>\n",
       "      <th>구동방식</th>\n",
       "      <td>object</td>\n",
       "      <td>0</td>\n",
       "      <td>0.000000</td>\n",
       "      <td>3</td>\n",
       "      <td>NaN</td>\n",
       "      <td>NaN</td>\n",
       "    </tr>\n",
       "    <tr>\n",
       "      <th>주행거리(km)</th>\n",
       "      <td>int64</td>\n",
       "      <td>0</td>\n",
       "      <td>0.000000</td>\n",
       "      <td>6916</td>\n",
       "      <td>3.0</td>\n",
       "      <td>199827.0</td>\n",
       "    </tr>\n",
       "    <tr>\n",
       "      <th>보증기간(년)</th>\n",
       "      <td>int64</td>\n",
       "      <td>0</td>\n",
       "      <td>0.000000</td>\n",
       "      <td>11</td>\n",
       "      <td>0.0</td>\n",
       "      <td>10.0</td>\n",
       "    </tr>\n",
       "    <tr>\n",
       "      <th>사고이력</th>\n",
       "      <td>object</td>\n",
       "      <td>0</td>\n",
       "      <td>0.000000</td>\n",
       "      <td>2</td>\n",
       "      <td>NaN</td>\n",
       "      <td>NaN</td>\n",
       "    </tr>\n",
       "    <tr>\n",
       "      <th>연식(년)</th>\n",
       "      <td>int64</td>\n",
       "      <td>0</td>\n",
       "      <td>0.000000</td>\n",
       "      <td>3</td>\n",
       "      <td>0.0</td>\n",
       "      <td>2.0</td>\n",
       "    </tr>\n",
       "    <tr>\n",
       "      <th>가격(백만원)</th>\n",
       "      <td>float64</td>\n",
       "      <td>0</td>\n",
       "      <td>0.000000</td>\n",
       "      <td>3950</td>\n",
       "      <td>9.0</td>\n",
       "      <td>161.09</td>\n",
       "    </tr>\n",
       "  </tbody>\n",
       "</table>\n",
       "</div>"
      ],
      "text/plain": [
       "         data type  #missing   %missing  #unique   min       max\n",
       "ID          object         0   0.000000     7497   NaN       NaN\n",
       "제조사         object         0   0.000000        7   NaN       NaN\n",
       "모델          object         0   0.000000       21   NaN       NaN\n",
       "차량상태        object         0   0.000000        3   NaN       NaN\n",
       "배터리용량      float64      2711  36.161131      194  46.0      99.8\n",
       "구동방식        object         0   0.000000        3   NaN       NaN\n",
       "주행거리(km)     int64         0   0.000000     6916   3.0  199827.0\n",
       "보증기간(년)      int64         0   0.000000       11   0.0      10.0\n",
       "사고이력        object         0   0.000000        2   NaN       NaN\n",
       "연식(년)        int64         0   0.000000        3   0.0       2.0\n",
       "가격(백만원)    float64         0   0.000000     3950   9.0    161.09"
      ]
     },
     "execution_count": 113,
     "metadata": {},
     "output_type": "execute_result"
    }
   ],
   "source": [
    "def summary(df):\n",
    "    print(f'data shape: {df.shape}')\n",
    "    summ = pd.DataFrame(df.dtypes,columns=['data type'])\n",
    "    summ['#missing'] = df.isnull().sum().values\n",
    "    summ['%missing'] = df.isnull().sum().values / len(df) *100\n",
    "    summ['#unique'] = df.nunique().values\n",
    "    desc = pd.DataFrame(df.describe(include='all').transpose())\n",
    "    summ['min'] = desc['min'].values\n",
    "    summ['max'] = desc['max'].values\n",
    "    \n",
    "    return summ\n",
    "summary(train)"
   ]
  },
  {
   "cell_type": "code",
   "execution_count": 114,
   "metadata": {},
   "outputs": [
    {
     "name": "stdout",
     "output_type": "stream",
     "text": [
      "범주형 변수:  ['제조사', '모델', '차량상태', '구동방식', '보증기간(년)', '연식(년)']\n",
      "이산형 변수:  ['사고이력']\n",
      "연속형 변수:  ['배터리용량', '주행거리(km)', '가격(백만원)']\n"
     ]
    }
   ],
   "source": [
    "cat_col = []\n",
    "bin_col = []\n",
    "con_col = []\n",
    "\n",
    "for i in train.columns:\n",
    "    if train[i].nunique() > 21 :\n",
    "        con_col.append(i)\n",
    "    elif (train[i].nunique() <= 21) & (train[i].nunique() > 2):\n",
    "        cat_col.append(i)\n",
    "    else:\n",
    "        bin_col.append(i)\n",
    "        \n",
    "con_col.remove('ID')\n",
    "print('범주형 변수: ',cat_col)\n",
    "print('이산형 변수: ',bin_col)\n",
    "print('연속형 변수: ',con_col)"
   ]
  },
  {
   "cell_type": "markdown",
   "metadata": {},
   "source": [
    "\"한글을 인식하지 못할 상황을 대비한 전처리\"\n"
   ]
  },
  {
   "cell_type": "code",
   "execution_count": 115,
   "metadata": {},
   "outputs": [
    {
     "data": {
      "text/html": [
       "<div>\n",
       "<style scoped>\n",
       "    .dataframe tbody tr th:only-of-type {\n",
       "        vertical-align: middle;\n",
       "    }\n",
       "\n",
       "    .dataframe tbody tr th {\n",
       "        vertical-align: top;\n",
       "    }\n",
       "\n",
       "    .dataframe thead th {\n",
       "        text-align: right;\n",
       "    }\n",
       "</style>\n",
       "<table border=\"1\" class=\"dataframe\">\n",
       "  <thead>\n",
       "    <tr style=\"text-align: right;\">\n",
       "      <th></th>\n",
       "      <th>ID</th>\n",
       "      <th>제조사</th>\n",
       "      <th>모델</th>\n",
       "      <th>차량상태</th>\n",
       "      <th>배터리용량</th>\n",
       "      <th>구동방식</th>\n",
       "      <th>주행거리(km)</th>\n",
       "      <th>보증기간(년)</th>\n",
       "      <th>사고이력</th>\n",
       "      <th>연식(년)</th>\n",
       "      <th>가격(백만원)</th>\n",
       "    </tr>\n",
       "  </thead>\n",
       "  <tbody>\n",
       "    <tr>\n",
       "      <th>0</th>\n",
       "      <td>TRAIN_0000</td>\n",
       "      <td>P</td>\n",
       "      <td>TayGTS</td>\n",
       "      <td>Nearly New</td>\n",
       "      <td>86.077</td>\n",
       "      <td>AWD</td>\n",
       "      <td>13642</td>\n",
       "      <td>0</td>\n",
       "      <td>No</td>\n",
       "      <td>2</td>\n",
       "      <td>159.66</td>\n",
       "    </tr>\n",
       "    <tr>\n",
       "      <th>1</th>\n",
       "      <td>TRAIN_0001</td>\n",
       "      <td>K</td>\n",
       "      <td>Niro</td>\n",
       "      <td>Nearly New</td>\n",
       "      <td>56.000</td>\n",
       "      <td>FWD</td>\n",
       "      <td>10199</td>\n",
       "      <td>6</td>\n",
       "      <td>No</td>\n",
       "      <td>0</td>\n",
       "      <td>28.01</td>\n",
       "    </tr>\n",
       "    <tr>\n",
       "      <th>2</th>\n",
       "      <td>TRAIN_0002</td>\n",
       "      <td>A</td>\n",
       "      <td>eT</td>\n",
       "      <td>Brand New</td>\n",
       "      <td>91.200</td>\n",
       "      <td>AWD</td>\n",
       "      <td>2361</td>\n",
       "      <td>7</td>\n",
       "      <td>No</td>\n",
       "      <td>0</td>\n",
       "      <td>66.27</td>\n",
       "    </tr>\n",
       "    <tr>\n",
       "      <th>3</th>\n",
       "      <td>TRAIN_0003</td>\n",
       "      <td>A</td>\n",
       "      <td>RSeTGT</td>\n",
       "      <td>Nearly New</td>\n",
       "      <td>NaN</td>\n",
       "      <td>AWD</td>\n",
       "      <td>21683</td>\n",
       "      <td>3</td>\n",
       "      <td>No</td>\n",
       "      <td>0</td>\n",
       "      <td>99.16</td>\n",
       "    </tr>\n",
       "    <tr>\n",
       "      <th>4</th>\n",
       "      <td>TRAIN_0004</td>\n",
       "      <td>B</td>\n",
       "      <td>i5</td>\n",
       "      <td>Pre-Owned</td>\n",
       "      <td>61.018</td>\n",
       "      <td>AWD</td>\n",
       "      <td>178205</td>\n",
       "      <td>1</td>\n",
       "      <td>No</td>\n",
       "      <td>0</td>\n",
       "      <td>62.02</td>\n",
       "    </tr>\n",
       "  </tbody>\n",
       "</table>\n",
       "</div>"
      ],
      "text/plain": [
       "           ID 제조사      모델        차량상태   배터리용량 구동방식  주행거리(km)  보증기간(년) 사고이력  \\\n",
       "0  TRAIN_0000   P  TayGTS  Nearly New  86.077  AWD     13642        0   No   \n",
       "1  TRAIN_0001   K    Niro  Nearly New  56.000  FWD     10199        6   No   \n",
       "2  TRAIN_0002   A      eT   Brand New  91.200  AWD      2361        7   No   \n",
       "3  TRAIN_0003   A  RSeTGT  Nearly New     NaN  AWD     21683        3   No   \n",
       "4  TRAIN_0004   B      i5   Pre-Owned  61.018  AWD    178205        1   No   \n",
       "\n",
       "   연식(년)  가격(백만원)  \n",
       "0      2   159.66  \n",
       "1      0    28.01  \n",
       "2      0    66.27  \n",
       "3      0    99.16  \n",
       "4      0    62.02  "
      ]
     },
     "execution_count": 115,
     "metadata": {},
     "output_type": "execute_result"
    }
   ],
   "source": [
    "test['제조사'] = test['제조사'].apply(lambda x: x.replace('사',''))\n",
    "train['제조사'] = train['제조사'].apply(lambda x: x.replace('사',''))\n",
    "train.head()"
   ]
  },
  {
   "cell_type": "markdown",
   "metadata": {},
   "source": [
    "## EDA"
   ]
  },
  {
   "cell_type": "code",
   "execution_count": 116,
   "metadata": {},
   "outputs": [
    {
     "data": {
      "text/html": [
       "<div>\n",
       "<style scoped>\n",
       "    .dataframe tbody tr th:only-of-type {\n",
       "        vertical-align: middle;\n",
       "    }\n",
       "\n",
       "    .dataframe tbody tr th {\n",
       "        vertical-align: top;\n",
       "    }\n",
       "\n",
       "    .dataframe thead th {\n",
       "        text-align: right;\n",
       "    }\n",
       "</style>\n",
       "<table border=\"1\" class=\"dataframe\">\n",
       "  <thead>\n",
       "    <tr style=\"text-align: right;\">\n",
       "      <th></th>\n",
       "      <th>제조사</th>\n",
       "      <th>모델</th>\n",
       "      <th>차량상태</th>\n",
       "      <th>배터리용량</th>\n",
       "      <th>구동방식</th>\n",
       "      <th>주행거리(km)</th>\n",
       "      <th>보증기간(년)</th>\n",
       "      <th>사고이력</th>\n",
       "      <th>연식(년)</th>\n",
       "      <th>가격(백만원)</th>\n",
       "    </tr>\n",
       "  </thead>\n",
       "  <tbody>\n",
       "    <tr>\n",
       "      <th>0</th>\n",
       "      <td>P</td>\n",
       "      <td>TayGTS</td>\n",
       "      <td>Nearly New</td>\n",
       "      <td>86.077</td>\n",
       "      <td>AWD</td>\n",
       "      <td>13642</td>\n",
       "      <td>0</td>\n",
       "      <td>No</td>\n",
       "      <td>2</td>\n",
       "      <td>159.66</td>\n",
       "    </tr>\n",
       "    <tr>\n",
       "      <th>1</th>\n",
       "      <td>K</td>\n",
       "      <td>Niro</td>\n",
       "      <td>Nearly New</td>\n",
       "      <td>56.000</td>\n",
       "      <td>FWD</td>\n",
       "      <td>10199</td>\n",
       "      <td>6</td>\n",
       "      <td>No</td>\n",
       "      <td>0</td>\n",
       "      <td>28.01</td>\n",
       "    </tr>\n",
       "    <tr>\n",
       "      <th>2</th>\n",
       "      <td>A</td>\n",
       "      <td>eT</td>\n",
       "      <td>Brand New</td>\n",
       "      <td>91.200</td>\n",
       "      <td>AWD</td>\n",
       "      <td>2361</td>\n",
       "      <td>7</td>\n",
       "      <td>No</td>\n",
       "      <td>0</td>\n",
       "      <td>66.27</td>\n",
       "    </tr>\n",
       "    <tr>\n",
       "      <th>3</th>\n",
       "      <td>A</td>\n",
       "      <td>RSeTGT</td>\n",
       "      <td>Nearly New</td>\n",
       "      <td>NaN</td>\n",
       "      <td>AWD</td>\n",
       "      <td>21683</td>\n",
       "      <td>3</td>\n",
       "      <td>No</td>\n",
       "      <td>0</td>\n",
       "      <td>99.16</td>\n",
       "    </tr>\n",
       "    <tr>\n",
       "      <th>4</th>\n",
       "      <td>B</td>\n",
       "      <td>i5</td>\n",
       "      <td>Pre-Owned</td>\n",
       "      <td>61.018</td>\n",
       "      <td>AWD</td>\n",
       "      <td>178205</td>\n",
       "      <td>1</td>\n",
       "      <td>No</td>\n",
       "      <td>0</td>\n",
       "      <td>62.02</td>\n",
       "    </tr>\n",
       "  </tbody>\n",
       "</table>\n",
       "</div>"
      ],
      "text/plain": [
       "  제조사      모델        차량상태   배터리용량 구동방식  주행거리(km)  보증기간(년) 사고이력  연식(년)  가격(백만원)\n",
       "0   P  TayGTS  Nearly New  86.077  AWD     13642        0   No      2   159.66\n",
       "1   K    Niro  Nearly New  56.000  FWD     10199        6   No      0    28.01\n",
       "2   A      eT   Brand New  91.200  AWD      2361        7   No      0    66.27\n",
       "3   A  RSeTGT  Nearly New     NaN  AWD     21683        3   No      0    99.16\n",
       "4   B      i5   Pre-Owned  61.018  AWD    178205        1   No      0    62.02"
      ]
     },
     "execution_count": 116,
     "metadata": {},
     "output_type": "execute_result"
    }
   ],
   "source": [
    "df_c = train.copy()\n",
    "df_c.drop('ID',axis=1,inplace=True)\n",
    "df_c.head()"
   ]
  },
  {
   "cell_type": "code",
   "execution_count": 117,
   "metadata": {},
   "outputs": [
    {
     "data": {
      "image/png": "[encoded data removed]",
      "text/plain": [
       "<Figure size 1000x500 with 3 Axes>"
      ]
     },
     "metadata": {},
     "output_type": "display_data"
    }
   ],
   "source": [
    "import matplotlib.pyplot as plt\n",
    "import seaborn as sns\n",
    "plt.rcParams['font.family'] = 'Malgun Gothic'\n",
    "plt.style.use('ggplot')\n",
    "\n",
    "# 각 Feature의 분포도 plot\n",
    "fig,ax = plt.subplots(1,3,figsize=(10,5))\n",
    "ax = ax.flatten()\n",
    "\n",
    "for i,col in enumerate(con_col):\n",
    "    sns.histplot(df_c[col],ax=ax[i])"
   ]
  },
  {
   "cell_type": "code",
   "execution_count": 118,
   "metadata": {},
   "outputs": [
    {
     "data": {
      "text/plain": [
       "<seaborn.axisgrid.FacetGrid at 0x21b48d45f50>"
      ]
     },
     "execution_count": 118,
     "metadata": {},
     "output_type": "execute_result"
    },
    {
     "data": {
      "image/png": "[encoded data removed]",
      "text/plain": [
       "<Figure size 500x500 with 1 Axes>"
      ]
     },
     "metadata": {},
     "output_type": "display_data"
    }
   ],
   "source": [
    "sns.displot(df_c['보증기간(년)'])"
   ]
  },
  {
   "cell_type": "code",
   "execution_count": 119,
   "metadata": {},
   "outputs": [
    {
     "data": {
      "image/png": "[encoded data removed]",
      "text/plain": [
       "<Figure size 800x1000 with 6 Axes>"
      ]
     },
     "metadata": {},
     "output_type": "display_data"
    }
   ],
   "source": [
    "#범주형 변수의 분포\n",
    "fig,ax = plt.subplots(2,3,figsize=(8,10))\n",
    "ax = ax.flatten()\n",
    "for i,col in enumerate(cat_col):\n",
    "    sns.histplot(x=df_c[col],ax=ax[i])"
   ]
  },
  {
   "cell_type": "markdown",
   "metadata": {},
   "source": [
    "### 0. 종속변수(가격)\n",
    "- skewness:1\n",
    "결측치 X"
   ]
  },
  {
   "cell_type": "code",
   "execution_count": 120,
   "metadata": {},
   "outputs": [
    {
     "data": {
      "text/plain": [
       "<seaborn.axisgrid.FacetGrid at 0x21b162ee090>"
      ]
     },
     "execution_count": 120,
     "metadata": {},
     "output_type": "execute_result"
    },
    {
     "data": {
      "image/png": "[encoded data removed]",
      "text/plain": [
       "<Figure size 500x500 with 1 Axes>"
      ]
     },
     "metadata": {},
     "output_type": "display_data"
    }
   ],
   "source": [
    "import matplotlib.pyplot as plt\n",
    "import seaborn as sns\n",
    "\n",
    "plt.rcParams['font.family'] = 'Malgun Gothic'\n",
    "plt.style.use('ggplot')\n",
    "\n",
    "sns.displot(train['가격(백만원)'])"
   ]
  },
  {
   "cell_type": "code",
   "execution_count": 121,
   "metadata": {},
   "outputs": [
    {
     "data": {
      "text/plain": [
       "Index(['ID', '제조사', '모델', '차량상태', '배터리용량', '구동방식', '주행거리(km)', '보증기간(년)',\n",
       "       '사고이력', '연식(년)', '가격(백만원)'],\n",
       "      dtype='object')"
      ]
     },
     "execution_count": 121,
     "metadata": {},
     "output_type": "execute_result"
    }
   ],
   "source": [
    "train.columns"
   ]
  },
  {
   "cell_type": "markdown",
   "metadata": {},
   "source": [
    "### 1. 제조사\n",
    "- 각 제조사별 (7개)의 도수가 비슷함\n",
    "- P 제조사가 가장 차량의 가격이 높다."
   ]
  },
  {
   "cell_type": "code",
   "execution_count": 122,
   "metadata": {},
   "outputs": [
    {
     "data": {
      "text/plain": [
       "<Axes: xlabel='제조사', ylabel='가격(백만원)'>"
      ]
     },
     "execution_count": 122,
     "metadata": {},
     "output_type": "execute_result"
    },
    {
     "data": {
      "image/png": "[encoded data removed]",
      "text/plain": [
       "<Figure size 640x480 with 1 Axes>"
      ]
     },
     "metadata": {},
     "output_type": "display_data"
    }
   ],
   "source": [
    "sns.barplot(y=train['가격(백만원)'],x=train['제조사'])"
   ]
  },
  {
   "cell_type": "markdown",
   "metadata": {},
   "source": [
    "### 2. 모델\n",
    "- 대체로 분포 균일\n",
    "- 'TayGTS'모델의 값이 가장 높으며, IonicQ의 모델 가격이 가장 낮음\n",
    "\n"
   ]
  },
  {
   "cell_type": "code",
   "execution_count": 123,
   "metadata": {},
   "outputs": [
    {
     "data": {
      "text/plain": [
       "array(['TayGTS', 'Niro', 'eT', 'RSeTGT', 'i5', 'ION6', 'MS', 'MY', 'Q4eT',\n",
       "       'ID4', 'TayCT', 'Soul', 'iX', 'MX', 'IONIQ', 'EV6', 'KNE', 'M3',\n",
       "       'i3', 'ION5', 'Tay'], dtype=object)"
      ]
     },
     "execution_count": 123,
     "metadata": {},
     "output_type": "execute_result"
    }
   ],
   "source": [
    "train['모델'].unique()"
   ]
  },
  {
   "cell_type": "code",
   "execution_count": 124,
   "metadata": {},
   "outputs": [
    {
     "data": {
      "text/plain": [
       "<Axes: ylabel='가격(백만원)'>"
      ]
     },
     "execution_count": 124,
     "metadata": {},
     "output_type": "execute_result"
    },
    {
     "data": {
      "image/png": "[encoded data removed]",
      "text/plain": [
       "<Figure size 1000x800 with 1 Axes>"
      ]
     },
     "metadata": {},
     "output_type": "display_data"
    }
   ],
   "source": [
    "plt.figure(figsize=(10,8))\n",
    "sns.barplot(y=train['가격(백만원)'],hue=train['모델'])"
   ]
  },
  {
   "cell_type": "markdown",
   "metadata": {},
   "source": [
    "### 3. 차량상태\n",
    "- 분포도 비슷하고, 차량상태에따른 가격 변동차이도 거의 없음.\n",
    "- **'nearly-new'와 'pre-owned'의 차이점에 대한 궁금증** \n",
    "    - nearly-new 보다는 pre-owned가 더 많은 주행거리를 가지고 있음."
   ]
  },
  {
   "cell_type": "code",
   "execution_count": 125,
   "metadata": {},
   "outputs": [
    {
     "data": {
      "text/plain": [
       "<Axes: ylabel='가격(백만원)'>"
      ]
     },
     "execution_count": 125,
     "metadata": {},
     "output_type": "execute_result"
    },
    {
     "data": {
      "image/png": "[encoded data removed]",
      "text/plain": [
       "<Figure size 640x480 with 1 Axes>"
      ]
     },
     "metadata": {},
     "output_type": "display_data"
    }
   ],
   "source": [
    "sns.barplot(y=train['가격(백만원)'],hue=train['차량상태'])"
   ]
  },
  {
   "cell_type": "code",
   "execution_count": 126,
   "metadata": {},
   "outputs": [
    {
     "name": "stdout",
     "output_type": "stream",
     "text": [
      "Pre-Owned 최소 거리: 11477\n",
      "nearly-new 최소 거리: 10004\n"
     ]
    },
    {
     "data": {
      "image/png": "[encoded data removed]",
      "text/plain": [
       "<Figure size 640x480 with 1 Axes>"
      ]
     },
     "metadata": {},
     "output_type": "display_data"
    }
   ],
   "source": [
    "sns.histplot(train.loc[train['차량상태']=='Nearly New']['주행거리(km)'],label='Nearly-new')\n",
    "sns.histplot(train.loc[train['차량상태']=='Pre-Owned']['주행거리(km)'],label='Pre-owned')\n",
    "\n",
    "plt.legend()\n",
    "\n",
    "print('Pre-Owned 최소 거리:',train.loc[train['차량상태']=='Pre-Owned']['주행거리(km)'].min())\n",
    "print('nearly-new 최소 거리:',train.loc[train['차량상태']=='Nearly New']['주행거리(km)'].min())"
   ]
  },
  {
   "cell_type": "markdown",
   "metadata": {},
   "source": [
    "### 4. 배터리용량 \n",
    "- 용량이 69.397187인 도수가 가장 많은 부분을 차지.\n",
    "- 대체로 배터리용량이 증가할 수록 가격도 상승하는 상관관계"
   ]
  },
  {
   "cell_type": "code",
   "execution_count": 127,
   "metadata": {},
   "outputs": [
    {
     "data": {
      "text/plain": [
       "2711"
      ]
     },
     "execution_count": 127,
     "metadata": {},
     "output_type": "execute_result"
    }
   ],
   "source": [
    "train['배터리용량'].isna().sum()"
   ]
  },
  {
   "cell_type": "code",
   "execution_count": 128,
   "metadata": {},
   "outputs": [],
   "source": [
    "df_missing_train = train.loc[train['배터리용량'].isna()]\n",
    "df_missing_test = test.loc[test['배터리용량'].isna()]"
   ]
  },
  {
   "cell_type": "code",
   "execution_count": 129,
   "metadata": {},
   "outputs": [
    {
     "data": {
      "text/plain": [
       "<Axes: xlabel='배터리용량', ylabel='가격(백만원)'>"
      ]
     },
     "execution_count": 129,
     "metadata": {},
     "output_type": "execute_result"
    },
    {
     "data": {
      "image/png": "[encoded data removed]",
      "text/plain": [
       "<Figure size 640x480 with 1 Axes>"
      ]
     },
     "metadata": {},
     "output_type": "display_data"
    }
   ],
   "source": [
    "sns.regplot(y=train['가격(백만원)'],x=train['배터리용량'])"
   ]
  },
  {
   "cell_type": "markdown",
   "metadata": {},
   "source": [
    "### 5. 구동방식\n",
    "- 분포에는 크게 차이는 없다. AWD의 가격이 많이 높다"
   ]
  },
  {
   "cell_type": "code",
   "execution_count": 130,
   "metadata": {},
   "outputs": [
    {
     "data": {
      "text/plain": [
       "<Axes: ylabel='가격(백만원)'>"
      ]
     },
     "execution_count": 130,
     "metadata": {},
     "output_type": "execute_result"
    },
    {
     "data": {
      "image/png": "[encoded data removed]",
      "text/plain": [
       "<Figure size 640x480 with 1 Axes>"
      ]
     },
     "metadata": {},
     "output_type": "display_data"
    }
   ],
   "source": [
    "sns.barplot(y=train['가격(백만원)'],hue=train['구동방식'])"
   ]
  },
  {
   "cell_type": "markdown",
   "metadata": {},
   "source": [
    "### 6. 주행거리(km)\n",
    "- 주행거리 10000km이하가 전체의 절반 이상을 차지함."
   ]
  },
  {
   "cell_type": "code",
   "execution_count": 131,
   "metadata": {},
   "outputs": [
    {
     "data": {
      "text/plain": [
       "<seaborn.axisgrid.FacetGrid at 0x21b4a156ed0>"
      ]
     },
     "execution_count": 131,
     "metadata": {},
     "output_type": "execute_result"
    },
    {
     "data": {
      "image/png": "[encoded data removed]",
      "text/plain": [
       "<Figure size 500x500 with 1 Axes>"
      ]
     },
     "metadata": {},
     "output_type": "display_data"
    }
   ],
   "source": [
    "sns.displot(train['주행거리(km)'])"
   ]
  },
  {
   "cell_type": "code",
   "execution_count": 132,
   "metadata": {},
   "outputs": [
    {
     "data": {
      "text/plain": [
       "(7497, 11)"
      ]
     },
     "execution_count": 132,
     "metadata": {},
     "output_type": "execute_result"
    },
    {
     "data": {
      "image/png": "[encoded data removed]",
      "text/plain": [
       "<Figure size 500x500 with 1 Axes>"
      ]
     },
     "metadata": {},
     "output_type": "display_data"
    }
   ],
   "source": [
    "sns.displot(train.loc[train['주행거리(km)']<10000,'주행거리(km)'])\n",
    "train.shape"
   ]
  },
  {
   "cell_type": "markdown",
   "metadata": {},
   "source": [
    "## Feature Engineering\n",
    "- 종속변수에 가장 상관관계 -> 배터리용량 / 보증기간"
   ]
  },
  {
   "cell_type": "code",
   "execution_count": 133,
   "metadata": {},
   "outputs": [
    {
     "data": {
      "text/html": [
       "<div>\n",
       "<style scoped>\n",
       "    .dataframe tbody tr th:only-of-type {\n",
       "        vertical-align: middle;\n",
       "    }\n",
       "\n",
       "    .dataframe tbody tr th {\n",
       "        vertical-align: top;\n",
       "    }\n",
       "\n",
       "    .dataframe thead th {\n",
       "        text-align: right;\n",
       "    }\n",
       "</style>\n",
       "<table border=\"1\" class=\"dataframe\">\n",
       "  <thead>\n",
       "    <tr style=\"text-align: right;\">\n",
       "      <th></th>\n",
       "      <th>배터리용량</th>\n",
       "      <th>주행거리(km)</th>\n",
       "      <th>보증기간(년)</th>\n",
       "      <th>연식(년)</th>\n",
       "      <th>가격(백만원)</th>\n",
       "    </tr>\n",
       "  </thead>\n",
       "  <tbody>\n",
       "    <tr>\n",
       "      <th>배터리용량</th>\n",
       "      <td>1.000000</td>\n",
       "      <td>-0.576538</td>\n",
       "      <td>0.558242</td>\n",
       "      <td>-0.021845</td>\n",
       "      <td>0.431668</td>\n",
       "    </tr>\n",
       "    <tr>\n",
       "      <th>주행거리(km)</th>\n",
       "      <td>-0.576538</td>\n",
       "      <td>1.000000</td>\n",
       "      <td>-0.664071</td>\n",
       "      <td>-0.089586</td>\n",
       "      <td>-0.035488</td>\n",
       "    </tr>\n",
       "    <tr>\n",
       "      <th>보증기간(년)</th>\n",
       "      <td>0.558242</td>\n",
       "      <td>-0.664071</td>\n",
       "      <td>1.000000</td>\n",
       "      <td>0.035294</td>\n",
       "      <td>-0.349962</td>\n",
       "    </tr>\n",
       "    <tr>\n",
       "      <th>연식(년)</th>\n",
       "      <td>-0.021845</td>\n",
       "      <td>-0.089586</td>\n",
       "      <td>0.035294</td>\n",
       "      <td>1.000000</td>\n",
       "      <td>-0.058455</td>\n",
       "    </tr>\n",
       "    <tr>\n",
       "      <th>가격(백만원)</th>\n",
       "      <td>0.431668</td>\n",
       "      <td>-0.035488</td>\n",
       "      <td>-0.349962</td>\n",
       "      <td>-0.058455</td>\n",
       "      <td>1.000000</td>\n",
       "    </tr>\n",
       "  </tbody>\n",
       "</table>\n",
       "</div>"
      ],
      "text/plain": [
       "             배터리용량  주행거리(km)   보증기간(년)     연식(년)   가격(백만원)\n",
       "배터리용량     1.000000 -0.576538  0.558242 -0.021845  0.431668\n",
       "주행거리(km) -0.576538  1.000000 -0.664071 -0.089586 -0.035488\n",
       "보증기간(년)   0.558242 -0.664071  1.000000  0.035294 -0.349962\n",
       "연식(년)    -0.021845 -0.089586  0.035294  1.000000 -0.058455\n",
       "가격(백만원)   0.431668 -0.035488 -0.349962 -0.058455  1.000000"
      ]
     },
     "execution_count": 133,
     "metadata": {},
     "output_type": "execute_result"
    }
   ],
   "source": [
    "df_c = train.copy()\n",
    "train_ID = df_c['ID']\n",
    "\n",
    "df1_c = test.copy()\n",
    "test_ID = df1_c['ID']\n",
    "\n",
    "df_c.drop('ID',axis=1,inplace=True)\n",
    "df1_c.drop('ID',axis=1,inplace=True)\n",
    "\n",
    "df_c.corr(numeric_only=True)"
   ]
  },
  {
   "cell_type": "code",
   "execution_count": 134,
   "metadata": {},
   "outputs": [],
   "source": [
    "#df_c['배터리용량'] = df_c['배터리용량'].fillna(df_c['배터리용량'].mean())\n",
    "#df1_c['배터리용량'] = df1_c['배터리용량'].fillna(df1_c['배터리용량'].mean())"
   ]
  },
  {
   "cell_type": "markdown",
   "metadata": {},
   "source": [
    "주행 거리에 따른 등급 feature 추가(A,B,C)\n",
    "- A:0~10000\n",
    "- B:10000~50000\n",
    "- C:50000이상 "
   ]
  },
  {
   "cell_type": "code",
   "execution_count": 139,
   "metadata": {},
   "outputs": [],
   "source": [
    "for i in [df_c,df1_c]:\n",
    "    i['run_dis'] = 'A'\n",
    "    i.loc[i['주행거리(km)']>50000,'run_dis'] = 'C'\n",
    "    i.loc[(i['주행거리(km)']<=50000)&(i['주행거리(km)']>=10000),'run_dis'] = 'B'\n",
    "\n",
    "cat_col.append('run_dis')"
   ]
  },
  {
   "cell_type": "markdown",
   "metadata": {},
   "source": [
    "Label Encoding for Categorical Data"
   ]
  },
  {
   "cell_type": "code",
   "execution_count": 141,
   "metadata": {},
   "outputs": [],
   "source": [
    "from sklearn.preprocessing import LabelEncoder\n",
    "le = LabelEncoder()\n",
    "df_c[cat_col] = df_c[cat_col].apply(lambda x: le.fit_transform(x))\n",
    "df1_c[cat_col] = df1_c[cat_col].apply(lambda x: le.fit_transform(x))\n",
    "\n",
    "df_c['사고이력']  = le.fit_transform(df_c['사고이력'])\n",
    "df1_c['사고이력']  = le.fit_transform(df1_c['사고이력'])"
   ]
  },
  {
   "cell_type": "markdown",
   "metadata": {},
   "source": [
    "## 모델 탐색"
   ]
  },
  {
   "cell_type": "markdown",
   "metadata": {},
   "source": [
    "### XGBRegressor\n",
    "- xgboost 자체처리: 1.473 (아무 파라미터 조정X)\n",
    "- 'run_dis' column 추가: 1.4673"
   ]
  },
  {
   "cell_type": "code",
   "execution_count": 142,
   "metadata": {},
   "outputs": [],
   "source": [
    "from optuna import Trial,visualization\n",
    "from optuna.samplers import TPESampler\n",
    "import optuna\n",
    "from xgboost import XGBRegressor\n",
    "from sklearn.metrics import root_mean_squared_error\n",
    "\n",
    "\n",
    "def objectivexgr(trial:Trial,X,y):\n",
    "    param = {'random_state':42,\n",
    "             'n_estimators':772,\n",
    "             'learning_rate':0.221,\n",
    "             'max_depth':6,\n",
    "             'min_child_weight':5} \n",
    "    model = XGBRegressor(**param)\n",
    "    xgb_model = model.fit(X,y,verbose=False)\n",
    "    answer = xgb_model.predict(X)\n",
    "    score = root_mean_squared_error(y,answer)\n",
    "\n",
    "    return score"
   ]
  },
  {
   "cell_type": "code",
   "execution_count": 143,
   "metadata": {},
   "outputs": [
    {
     "name": "stderr",
     "output_type": "stream",
     "text": [
      "[I 2025-01-09 17:12:41,693] A new study created in memory with name: no-name-cf4e1b10-3f84-4c00-9448-4ff29cdf3ff0\n",
      "[I 2025-01-09 17:12:42,299] Trial 0 finished with value: 0.6796717190072196 and parameters: {}. Best is trial 0 with value: 0.6796717190072196.\n",
      "[I 2025-01-09 17:12:42,891] Trial 1 finished with value: 0.6796717190072196 and parameters: {}. Best is trial 0 with value: 0.6796717190072196.\n",
      "[I 2025-01-09 17:12:43,479] Trial 2 finished with value: 0.6796717190072196 and parameters: {}. Best is trial 0 with value: 0.6796717190072196.\n",
      "[I 2025-01-09 17:12:44,069] Trial 3 finished with value: 0.6796717190072196 and parameters: {}. Best is trial 0 with value: 0.6796717190072196.\n",
      "[I 2025-01-09 17:12:44,657] Trial 4 finished with value: 0.6796717190072196 and parameters: {}. Best is trial 0 with value: 0.6796717190072196.\n",
      "[I 2025-01-09 17:12:45,264] Trial 5 finished with value: 0.6796717190072196 and parameters: {}. Best is trial 0 with value: 0.6796717190072196.\n",
      "[I 2025-01-09 17:12:45,894] Trial 6 finished with value: 0.6796717190072196 and parameters: {}. Best is trial 0 with value: 0.6796717190072196.\n",
      "[I 2025-01-09 17:12:46,502] Trial 7 finished with value: 0.6796717190072196 and parameters: {}. Best is trial 0 with value: 0.6796717190072196.\n",
      "[I 2025-01-09 17:12:47,095] Trial 8 finished with value: 0.6796717190072196 and parameters: {}. Best is trial 0 with value: 0.6796717190072196.\n",
      "[I 2025-01-09 17:12:47,696] Trial 9 finished with value: 0.6796717190072196 and parameters: {}. Best is trial 0 with value: 0.6796717190072196.\n"
     ]
    },
    {
     "name": "stdout",
     "output_type": "stream",
     "text": [
      "Best trial: score: 0.6796717190072196, \n",
      "parmas: {}\n"
     ]
    }
   ],
   "source": [
    "study = optuna.create_study(direction='minimize',sampler=TPESampler(seed=2024))\n",
    "\n",
    "study.optimize(lambda trial: objectivexgr(trial,df_c.drop(columns=['가격(백만원)']),df_c['가격(백만원)']),n_trials=10)\n",
    "print('Best trial: score: {}, \\nparmas: {}'.format(study.best_trial.value,study.best_trial.params))"
   ]
  },
  {
   "cell_type": "code",
   "execution_count": 144,
   "metadata": {},
   "outputs": [
    {
     "data": {
      "application/vnd.plotly.v1+json": {
       "config": {
        "plotlyServerURL": "https://plot.ly"
       },
       "data": [
        {
         "mode": "markers",
         "name": "Objective Value",
         "type": "scatter",
         "x": [
          0,
          1,
          2,
          3,
          4,
          5,
          6,
          7,
          8,
          9
         ],
         "y": [
          0.6796717190072196,
          0.6796717190072196,
          0.6796717190072196,
          0.6796717190072196,
          0.6796717190072196,
          0.6796717190072196,
          0.6796717190072196,
          0.6796717190072196,
          0.6796717190072196,
          0.6796717190072196
         ]
        },
        {
         "mode": "lines",
         "name": "Best Value",
         "type": "scatter",
         "x": [
          0,
          1,
          2,
          3,
          4,
          5,
          6,
          7,
          8,
          9
         ],
         "y": [
          0.6796717190072196,
          0.6796717190072196,
          0.6796717190072196,
          0.6796717190072196,
          0.6796717190072196,
          0.6796717190072196,
          0.6796717190072196,
          0.6796717190072196,
          0.6796717190072196,
          0.6796717190072196
         ]
        },
        {
         "marker": {
          "color": "#cccccc"
         },
         "mode": "markers",
         "name": "Infeasible Trial",
         "showlegend": false,
         "type": "scatter",
         "x": [],
         "y": []
        }
       ],
       "layout": {
        "template": {
         "data": {
          "bar": [
           {
            "error_x": {
             "color": "#2a3f5f"
            },
            "error_y": {
             "color": "#2a3f5f"
            },
            "marker": {
             "line": {
              "color": "#E5ECF6",
              "width": 0.5
             },
             "pattern": {
              "fillmode": "overlay",
              "size": 10,
              "solidity": 0.2
             }
            },
            "type": "bar"
           }
          ],
          "barpolar": [
           {
            "marker": {
             "line": {
              "color": "#E5ECF6",
              "width": 0.5
             },
             "pattern": {
              "fillmode": "overlay",
              "size": 10,
              "solidity": 0.2
             }
            },
            "type": "barpolar"
           }
          ],
          "carpet": [
           {
            "aaxis": {
             "endlinecolor": "#2a3f5f",
             "gridcolor": "white",
             "linecolor": "white",
             "minorgridcolor": "white",
             "startlinecolor": "#2a3f5f"
            },
            "baxis": {
             "endlinecolor": "#2a3f5f",
             "gridcolor": "white",
             "linecolor": "white",
             "minorgridcolor": "white",
             "startlinecolor": "#2a3f5f"
            },
            "type": "carpet"
           }
          ],
          "choropleth": [
           {
            "colorbar": {
             "outlinewidth": 0,
             "ticks": ""
            },
            "type": "choropleth"
           }
          ],
          "contour": [
           {
            "colorbar": {
             "outlinewidth": 0,
             "ticks": ""
            },
            "colorscale": [
             [
              0,
              "#0d0887"
             ],
             [
              0.1111111111111111,
              "#46039f"
             ],
             [
              0.2222222222222222,
              "#7201a8"
             ],
             [
              0.3333333333333333,
              "#9c179e"
             ],
             [
              0.4444444444444444,
              "#bd3786"
             ],
             [
              0.5555555555555556,
              "#d8576b"
             ],
             [
              0.6666666666666666,
              "#ed7953"
             ],
             [
              0.7777777777777778,
              "#fb9f3a"
             ],
             [
              0.8888888888888888,
              "#fdca26"
             ],
             [
              1,
              "#f0f921"
             ]
            ],
            "type": "contour"
           }
          ],
          "contourcarpet": [
           {
            "colorbar": {
             "outlinewidth": 0,
             "ticks": ""
            },
            "type": "contourcarpet"
           }
          ],
          "heatmap": [
           {
            "colorbar": {
             "outlinewidth": 0,
             "ticks": ""
            },
            "colorscale": [
             [
              0,
              "#0d0887"
             ],
             [
              0.1111111111111111,
              "#46039f"
             ],
             [
              0.2222222222222222,
              "#7201a8"
             ],
             [
              0.3333333333333333,
              "#9c179e"
             ],
             [
              0.4444444444444444,
              "#bd3786"
             ],
             [
              0.5555555555555556,
              "#d8576b"
             ],
             [
              0.6666666666666666,
              "#ed7953"
             ],
             [
              0.7777777777777778,
              "#fb9f3a"
             ],
             [
              0.8888888888888888,
              "#fdca26"
             ],
             [
              1,
              "#f0f921"
             ]
            ],
            "type": "heatmap"
           }
          ],
          "heatmapgl": [
           {
            "colorbar": {
             "outlinewidth": 0,
             "ticks": ""
            },
            "colorscale": [
             [
              0,
              "#0d0887"
             ],
             [
              0.1111111111111111,
              "#46039f"
             ],
             [
              0.2222222222222222,
              "#7201a8"
             ],
             [
              0.3333333333333333,
              "#9c179e"
             ],
             [
              0.4444444444444444,
              "#bd3786"
             ],
             [
              0.5555555555555556,
              "#d8576b"
             ],
             [
              0.6666666666666666,
              "#ed7953"
             ],
             [
              0.7777777777777778,
              "#fb9f3a"
             ],
             [
              0.8888888888888888,
              "#fdca26"
             ],
             [
              1,
              "#f0f921"
             ]
            ],
            "type": "heatmapgl"
           }
          ],
          "histogram": [
           {
            "marker": {
             "pattern": {
              "fillmode": "overlay",
              "size": 10,
              "solidity": 0.2
             }
            },
            "type": "histogram"
           }
          ],
          "histogram2d": [
           {
            "colorbar": {
             "outlinewidth": 0,
             "ticks": ""
            },
            "colorscale": [
             [
              0,
              "#0d0887"
             ],
             [
              0.1111111111111111,
              "#46039f"
             ],
             [
              0.2222222222222222,
              "#7201a8"
             ],
             [
              0.3333333333333333,
              "#9c179e"
             ],
             [
              0.4444444444444444,
              "#bd3786"
             ],
             [
              0.5555555555555556,
              "#d8576b"
             ],
             [
              0.6666666666666666,
              "#ed7953"
             ],
             [
              0.7777777777777778,
              "#fb9f3a"
             ],
             [
              0.8888888888888888,
              "#fdca26"
             ],
             [
              1,
              "#f0f921"
             ]
            ],
            "type": "histogram2d"
           }
          ],
          "histogram2dcontour": [
           {
            "colorbar": {
             "outlinewidth": 0,
             "ticks": ""
            },
            "colorscale": [
             [
              0,
              "#0d0887"
             ],
             [
              0.1111111111111111,
              "#46039f"
             ],
             [
              0.2222222222222222,
              "#7201a8"
             ],
             [
              0.3333333333333333,
              "#9c179e"
             ],
             [
              0.4444444444444444,
              "#bd3786"
             ],
             [
              0.5555555555555556,
              "#d8576b"
             ],
             [
              0.6666666666666666,
              "#ed7953"
             ],
             [
              0.7777777777777778,
              "#fb9f3a"
             ],
             [
              0.8888888888888888,
              "#fdca26"
             ],
             [
              1,
              "#f0f921"
             ]
            ],
            "type": "histogram2dcontour"
           }
          ],
          "mesh3d": [
           {
            "colorbar": {
             "outlinewidth": 0,
             "ticks": ""
            },
            "type": "mesh3d"
           }
          ],
          "parcoords": [
           {
            "line": {
             "colorbar": {
              "outlinewidth": 0,
              "ticks": ""
             }
            },
            "type": "parcoords"
           }
          ],
          "pie": [
           {
            "automargin": true,
            "type": "pie"
           }
          ],
          "scatter": [
           {
            "fillpattern": {
             "fillmode": "overlay",
             "size": 10,
             "solidity": 0.2
            },
            "type": "scatter"
           }
          ],
          "scatter3d": [
           {
            "line": {
             "colorbar": {
              "outlinewidth": 0,
              "ticks": ""
             }
            },
            "marker": {
             "colorbar": {
              "outlinewidth": 0,
              "ticks": ""
             }
            },
            "type": "scatter3d"
           }
          ],
          "scattercarpet": [
           {
            "marker": {
             "colorbar": {
              "outlinewidth": 0,
              "ticks": ""
             }
            },
            "type": "scattercarpet"
           }
          ],
          "scattergeo": [
           {
            "marker": {
             "colorbar": {
              "outlinewidth": 0,
              "ticks": ""
             }
            },
            "type": "scattergeo"
           }
          ],
          "scattergl": [
           {
            "marker": {
             "colorbar": {
              "outlinewidth": 0,
              "ticks": ""
             }
            },
            "type": "scattergl"
           }
          ],
          "scattermapbox": [
           {
            "marker": {
             "colorbar": {
              "outlinewidth": 0,
              "ticks": ""
             }
            },
            "type": "scattermapbox"
           }
          ],
          "scatterpolar": [
           {
            "marker": {
             "colorbar": {
              "outlinewidth": 0,
              "ticks": ""
             }
            },
            "type": "scatterpolar"
           }
          ],
          "scatterpolargl": [
           {
            "marker": {
             "colorbar": {
              "outlinewidth": 0,
              "ticks": ""
             }
            },
            "type": "scatterpolargl"
           }
          ],
          "scatterternary": [
           {
            "marker": {
             "colorbar": {
              "outlinewidth": 0,
              "ticks": ""
             }
            },
            "type": "scatterternary"
           }
          ],
          "surface": [
           {
            "colorbar": {
             "outlinewidth": 0,
             "ticks": ""
            },
            "colorscale": [
             [
              0,
              "#0d0887"
             ],
             [
              0.1111111111111111,
              "#46039f"
             ],
             [
              0.2222222222222222,
              "#7201a8"
             ],
             [
              0.3333333333333333,
              "#9c179e"
             ],
             [
              0.4444444444444444,
              "#bd3786"
             ],
             [
              0.5555555555555556,
              "#d8576b"
             ],
             [
              0.6666666666666666,
              "#ed7953"
             ],
             [
              0.7777777777777778,
              "#fb9f3a"
             ],
             [
              0.8888888888888888,
              "#fdca26"
             ],
             [
              1,
              "#f0f921"
             ]
            ],
            "type": "surface"
           }
          ],
          "table": [
           {
            "cells": {
             "fill": {
              "color": "#EBF0F8"
             },
             "line": {
              "color": "white"
             }
            },
            "header": {
             "fill": {
              "color": "#C8D4E3"
             },
             "line": {
              "color": "white"
             }
            },
            "type": "table"
           }
          ]
         },
         "layout": {
          "annotationdefaults": {
           "arrowcolor": "#2a3f5f",
           "arrowhead": 0,
           "arrowwidth": 1
          },
          "autotypenumbers": "strict",
          "coloraxis": {
           "colorbar": {
            "outlinewidth": 0,
            "ticks": ""
           }
          },
          "colorscale": {
           "diverging": [
            [
             0,
             "#8e0152"
            ],
            [
             0.1,
             "#c51b7d"
            ],
            [
             0.2,
             "#de77ae"
            ],
            [
             0.3,
             "#f1b6da"
            ],
            [
             0.4,
             "#fde0ef"
            ],
            [
             0.5,
             "#f7f7f7"
            ],
            [
             0.6,
             "#e6f5d0"
            ],
            [
             0.7,
             "#b8e186"
            ],
            [
             0.8,
             "#7fbc41"
            ],
            [
             0.9,
             "#4d9221"
            ],
            [
             1,
             "#276419"
            ]
           ],
           "sequential": [
            [
             0,
             "#0d0887"
            ],
            [
             0.1111111111111111,
             "#46039f"
            ],
            [
             0.2222222222222222,
             "#7201a8"
            ],
            [
             0.3333333333333333,
             "#9c179e"
            ],
            [
             0.4444444444444444,
             "#bd3786"
            ],
            [
             0.5555555555555556,
             "#d8576b"
            ],
            [
             0.6666666666666666,
             "#ed7953"
            ],
            [
             0.7777777777777778,
             "#fb9f3a"
            ],
            [
             0.8888888888888888,
             "#fdca26"
            ],
            [
             1,
             "#f0f921"
            ]
           ],
           "sequentialminus": [
            [
             0,
             "#0d0887"
            ],
            [
             0.1111111111111111,
             "#46039f"
            ],
            [
             0.2222222222222222,
             "#7201a8"
            ],
            [
             0.3333333333333333,
             "#9c179e"
            ],
            [
             0.4444444444444444,
             "#bd3786"
            ],
            [
             0.5555555555555556,
             "#d8576b"
            ],
            [
             0.6666666666666666,
             "#ed7953"
            ],
            [
             0.7777777777777778,
             "#fb9f3a"
            ],
            [
             0.8888888888888888,
             "#fdca26"
            ],
            [
             1,
             "#f0f921"
            ]
           ]
          },
          "colorway": [
           "#636efa",
           "#EF553B",
           "#00cc96",
           "#ab63fa",
           "#FFA15A",
           "#19d3f3",
           "#FF6692",
           "#B6E880",
           "#FF97FF",
           "#FECB52"
          ],
          "font": {
           "color": "#2a3f5f"
          },
          "geo": {
           "bgcolor": "white",
           "lakecolor": "white",
           "landcolor": "#E5ECF6",
           "showlakes": true,
           "showland": true,
           "subunitcolor": "white"
          },
          "hoverlabel": {
           "align": "left"
          },
          "hovermode": "closest",
          "mapbox": {
           "style": "light"
          },
          "paper_bgcolor": "white",
          "plot_bgcolor": "#E5ECF6",
          "polar": {
           "angularaxis": {
            "gridcolor": "white",
            "linecolor": "white",
            "ticks": ""
           },
           "bgcolor": "#E5ECF6",
           "radialaxis": {
            "gridcolor": "white",
            "linecolor": "white",
            "ticks": ""
           }
          },
          "scene": {
           "xaxis": {
            "backgroundcolor": "#E5ECF6",
            "gridcolor": "white",
            "gridwidth": 2,
            "linecolor": "white",
            "showbackground": true,
            "ticks": "",
            "zerolinecolor": "white"
           },
           "yaxis": {
            "backgroundcolor": "#E5ECF6",
            "gridcolor": "white",
            "gridwidth": 2,
            "linecolor": "white",
            "showbackground": true,
            "ticks": "",
            "zerolinecolor": "white"
           },
           "zaxis": {
            "backgroundcolor": "#E5ECF6",
            "gridcolor": "white",
            "gridwidth": 2,
            "linecolor": "white",
            "showbackground": true,
            "ticks": "",
            "zerolinecolor": "white"
           }
          },
          "shapedefaults": {
           "line": {
            "color": "#2a3f5f"
           }
          },
          "ternary": {
           "aaxis": {
            "gridcolor": "white",
            "linecolor": "white",
            "ticks": ""
           },
           "baxis": {
            "gridcolor": "white",
            "linecolor": "white",
            "ticks": ""
           },
           "bgcolor": "#E5ECF6",
           "caxis": {
            "gridcolor": "white",
            "linecolor": "white",
            "ticks": ""
           }
          },
          "title": {
           "x": 0.05
          },
          "xaxis": {
           "automargin": true,
           "gridcolor": "white",
           "linecolor": "white",
           "ticks": "",
           "title": {
            "standoff": 15
           },
           "zerolinecolor": "white",
           "zerolinewidth": 2
          },
          "yaxis": {
           "automargin": true,
           "gridcolor": "white",
           "linecolor": "white",
           "ticks": "",
           "title": {
            "standoff": 15
           },
           "zerolinecolor": "white",
           "zerolinewidth": 2
          }
         }
        },
        "title": {
         "text": "Optimization History Plot"
        },
        "xaxis": {
         "title": {
          "text": "Trial"
         }
        },
        "yaxis": {
         "title": {
          "text": "Objective Value"
         }
        }
       }
      }
     },
     "metadata": {},
     "output_type": "display_data"
    }
   ],
   "source": [
    "optuna.visualization.plot_optimization_history(study)"
   ]
  },
  {
   "cell_type": "code",
   "execution_count": 145,
   "metadata": {},
   "outputs": [
    {
     "name": "stdout",
     "output_type": "stream",
     "text": [
      "(7497, 11) (846, 10)\n"
     ]
    }
   ],
   "source": [
    "print(df_c.shape,df1_c.shape)\n",
    "X,y = df_c.drop(columns=['가격(백만원)']),df_c['가격(백만원)']\n",
    "X_test = df1_c"
   ]
  },
  {
   "cell_type": "code",
   "execution_count": 146,
   "metadata": {},
   "outputs": [
    {
     "data": {
      "text/plain": [
       "제조사           int64\n",
       "모델            int64\n",
       "차량상태          int64\n",
       "배터리용량       float64\n",
       "구동방식          int64\n",
       "주행거리(km)      int64\n",
       "보증기간(년)       int64\n",
       "사고이력          int64\n",
       "연식(년)         int64\n",
       "run_dis       int32\n",
       "dtype: object"
      ]
     },
     "execution_count": 146,
     "metadata": {},
     "output_type": "execute_result"
    }
   ],
   "source": [
    "X_test.dtypes"
   ]
  },
  {
   "cell_type": "code",
   "execution_count": 148,
   "metadata": {},
   "outputs": [
    {
     "name": "stdout",
     "output_type": "stream",
     "text": [
      "Fold 1 / Fold 5\n",
      "Train RMSE: 0.806642250740836\n",
      "Val RMSE: 1.3279612453103895\n",
      "------------------------------\n",
      "Fold 2 / Fold 5\n",
      "Train RMSE: 0.7772843288424106\n",
      "Val RMSE: 1.5168969171717457\n",
      "------------------------------\n",
      "Fold 3 / Fold 5\n",
      "Train RMSE: 0.7637315105786793\n",
      "Val RMSE: 1.628376837180181\n",
      "------------------------------\n",
      "Fold 4 / Fold 5\n",
      "Train RMSE: 0.7681478708315297\n",
      "Val RMSE: 1.4470327184880667\n",
      "------------------------------\n",
      "Fold 5 / Fold 5\n",
      "Train RMSE: 0.7475100330151205\n",
      "Val RMSE: 1.4163950181585865\n",
      "------------------------------\n",
      "RMSE: 1.4673325472617937\n"
     ]
    }
   ],
   "source": [
    "import numpy as np\n",
    "from sklearn.model_selection import KFold\n",
    "folds = KFold(n_splits=5,shuffle=True,random_state=2025)\n",
    "\n",
    "test_prediction = np.zeros(len(X_test))\n",
    "val_scores = []\n",
    "\n",
    "for idx,(train_idx,val_idx) in enumerate(folds.split(X,y)):\n",
    "    print(f'Fold {idx+1} / Fold {folds.n_splits}')\n",
    "    X_train,y_train = X.iloc[train_idx],y.iloc[train_idx]\n",
    "    X_val,y_val = X.iloc[val_idx],y.iloc[val_idx]\n",
    "\n",
    "    xgb_model = XGBRegressor(**study.best_params)\n",
    "\n",
    "    xgb_model.fit(X_train,y_train)\n",
    "\n",
    "    train_y_pred = xgb_model.predict(X_train)\n",
    "    val_y_pred = xgb_model.predict(X_val)\n",
    "\n",
    "    print(f'Train RMSE: {root_mean_squared_error(y_train,train_y_pred)}')\n",
    "    print(f'Val RMSE: {root_mean_squared_error(y_val,val_y_pred)}')\n",
    "    print('-'*30)\n",
    "\n",
    "    #Average of the Fold's Prediction for test data(X_test) => using as the submission\n",
    "    test_prediction += xgb_model.predict(X_test) / folds.n_splits   #5-fold\n",
    "    y_preds = xgb_model.predict(X_val)\n",
    "    val_scores.append(root_mean_squared_error(y_val,y_preds))\n",
    "\n",
    "print(f'RMSE: {np.array(val_scores).mean()}')"
   ]
  },
  {
   "cell_type": "code",
   "execution_count": 74,
   "metadata": {},
   "outputs": [
    {
     "data": {
      "text/plain": [
       "<Axes: title={'center': 'Feature importance'}, xlabel='F score', ylabel='Features'>"
      ]
     },
     "execution_count": 74,
     "metadata": {},
     "output_type": "execute_result"
    },
    {
     "data": {
      "image/png": "[encoded data removed]",
      "text/plain": [
       "<Figure size 640x480 with 1 Axes>"
      ]
     },
     "metadata": {},
     "output_type": "display_data"
    }
   ],
   "source": [
    "import xgboost\n",
    "xgboost.plot_importance(xgb_model)"
   ]
  },
  {
   "cell_type": "markdown",
   "metadata": {},
   "source": [
    "### Light-GBM\n",
    "- 아무 전처리X : 1.357(실제로는 XGB보다 낮음)"
   ]
  },
  {
   "cell_type": "code",
   "execution_count": 85,
   "metadata": {},
   "outputs": [],
   "source": [
    "from optuna import trial,visualization\n",
    "from optuna.samplers import TPESampler\n",
    "import optuna\n",
    "\n",
    "from lightgbm import LGBMRegressor\n",
    "def objectivelgb(trial:Trial,X,y):\n",
    "    param ={'random_state':2025}\n",
    "\n",
    "    lgb_model = LGBMRegressor(**param)\n",
    "    lgb_model.fit(X,y)\n",
    "\n",
    "    pred = lgb_model.predict(X)\n",
    "    score = root_mean_squared_error(y,pred)\n",
    "\n",
    "    return score"
   ]
  },
  {
   "cell_type": "code",
   "execution_count": 86,
   "metadata": {},
   "outputs": [
    {
     "name": "stderr",
     "output_type": "stream",
     "text": [
      "[I 2025-01-09 16:37:50,443] A new study created in memory with name: no-name-6935c223-15df-47b2-9d35-48c5a0d87d63\n",
      "[I 2025-01-09 16:37:50,788] Trial 0 finished with value: 1.1396787273940583 and parameters: {}. Best is trial 0 with value: 1.1396787273940583.\n",
      "[I 2025-01-09 16:37:50,861] Trial 1 finished with value: 1.1396787273940583 and parameters: {}. Best is trial 0 with value: 1.1396787273940583.\n"
     ]
    },
    {
     "name": "stdout",
     "output_type": "stream",
     "text": [
      "[LightGBM] [Info] Auto-choosing row-wise multi-threading, the overhead of testing was 0.000704 seconds.\n",
      "You can set `force_row_wise=true` to remove the overhead.\n",
      "And if memory is not enough, you can set `force_col_wise=true`.\n",
      "[LightGBM] [Info] Total Bins 408\n",
      "[LightGBM] [Info] Number of data points in the train set: 7497, number of used features: 9\n",
      "[LightGBM] [Info] Start training from score 62.331949\n",
      "[LightGBM] [Info] Auto-choosing row-wise multi-threading, the overhead of testing was 0.000204 seconds.\n",
      "You can set `force_row_wise=true` to remove the overhead.\n",
      "And if memory is not enough, you can set `force_col_wise=true`.\n",
      "[LightGBM] [Info] Total Bins 408\n",
      "[LightGBM] [Info] Number of data points in the train set: 7497, number of used features: 9\n",
      "[LightGBM] [Info] Start training from score 62.331949\n",
      "[LightGBM] [Info] Auto-choosing row-wise multi-threading, the overhead of testing was 0.000216 seconds.\n",
      "You can set `force_row_wise=true` to remove the overhead.\n",
      "And if memory is not enough, you can set `force_col_wise=true`.\n",
      "[LightGBM] [Info] Total Bins 408\n",
      "[LightGBM] [Info] Number of data points in the train set: 7497, number of used features: 9\n",
      "[LightGBM] [Info] Start training from score 62.331949\n"
     ]
    },
    {
     "name": "stderr",
     "output_type": "stream",
     "text": [
      "[I 2025-01-09 16:37:50,932] Trial 2 finished with value: 1.1396787273940583 and parameters: {}. Best is trial 0 with value: 1.1396787273940583.\n",
      "[I 2025-01-09 16:37:50,998] Trial 3 finished with value: 1.1396787273940583 and parameters: {}. Best is trial 0 with value: 1.1396787273940583.\n",
      "[I 2025-01-09 16:37:51,065] Trial 4 finished with value: 1.1396787273940583 and parameters: {}. Best is trial 0 with value: 1.1396787273940583.\n",
      "[I 2025-01-09 16:37:51,134] Trial 5 finished with value: 1.1396787273940583 and parameters: {}. Best is trial 0 with value: 1.1396787273940583.\n"
     ]
    },
    {
     "name": "stdout",
     "output_type": "stream",
     "text": [
      "[LightGBM] [Info] Auto-choosing row-wise multi-threading, the overhead of testing was 0.000203 seconds.\n",
      "You can set `force_row_wise=true` to remove the overhead.\n",
      "And if memory is not enough, you can set `force_col_wise=true`.\n",
      "[LightGBM] [Info] Total Bins 408\n",
      "[LightGBM] [Info] Number of data points in the train set: 7497, number of used features: 9\n",
      "[LightGBM] [Info] Start training from score 62.331949\n",
      "[LightGBM] [Info] Auto-choosing row-wise multi-threading, the overhead of testing was 0.000208 seconds.\n",
      "You can set `force_row_wise=true` to remove the overhead.\n",
      "And if memory is not enough, you can set `force_col_wise=true`.\n",
      "[LightGBM] [Info] Total Bins 408\n",
      "[LightGBM] [Info] Number of data points in the train set: 7497, number of used features: 9\n",
      "[LightGBM] [Info] Start training from score 62.331949\n",
      "[LightGBM] [Info] Auto-choosing row-wise multi-threading, the overhead of testing was 0.000215 seconds.\n",
      "You can set `force_row_wise=true` to remove the overhead.\n",
      "And if memory is not enough, you can set `force_col_wise=true`.\n",
      "[LightGBM] [Info] Total Bins 408\n",
      "[LightGBM] [Info] Number of data points in the train set: 7497, number of used features: 9\n",
      "[LightGBM] [Info] Start training from score 62.331949\n"
     ]
    },
    {
     "name": "stderr",
     "output_type": "stream",
     "text": [
      "[I 2025-01-09 16:37:51,206] Trial 6 finished with value: 1.1396787273940583 and parameters: {}. Best is trial 0 with value: 1.1396787273940583.\n",
      "[I 2025-01-09 16:37:51,272] Trial 7 finished with value: 1.1396787273940583 and parameters: {}. Best is trial 0 with value: 1.1396787273940583.\n",
      "[I 2025-01-09 16:37:51,343] Trial 8 finished with value: 1.1396787273940583 and parameters: {}. Best is trial 0 with value: 1.1396787273940583.\n"
     ]
    },
    {
     "name": "stdout",
     "output_type": "stream",
     "text": [
      "[LightGBM] [Info] Auto-choosing row-wise multi-threading, the overhead of testing was 0.000226 seconds.\n",
      "You can set `force_row_wise=true` to remove the overhead.\n",
      "And if memory is not enough, you can set `force_col_wise=true`.\n",
      "[LightGBM] [Info] Total Bins 408\n",
      "[LightGBM] [Info] Number of data points in the train set: 7497, number of used features: 9\n",
      "[LightGBM] [Info] Start training from score 62.331949\n",
      "[LightGBM] [Info] Auto-choosing row-wise multi-threading, the overhead of testing was 0.000219 seconds.\n",
      "You can set `force_row_wise=true` to remove the overhead.\n",
      "And if memory is not enough, you can set `force_col_wise=true`.\n",
      "[LightGBM] [Info] Total Bins 408\n",
      "[LightGBM] [Info] Number of data points in the train set: 7497, number of used features: 9\n",
      "[LightGBM] [Info] Start training from score 62.331949\n",
      "[LightGBM] [Info] Auto-choosing row-wise multi-threading, the overhead of testing was 0.000214 seconds.\n",
      "You can set `force_row_wise=true` to remove the overhead.\n",
      "And if memory is not enough, you can set `force_col_wise=true`.\n",
      "[LightGBM] [Info] Total Bins 408\n",
      "[LightGBM] [Info] Number of data points in the train set: 7497, number of used features: 9\n",
      "[LightGBM] [Info] Start training from score 62.331949\n"
     ]
    },
    {
     "name": "stderr",
     "output_type": "stream",
     "text": [
      "[I 2025-01-09 16:37:51,414] Trial 9 finished with value: 1.1396787273940583 and parameters: {}. Best is trial 0 with value: 1.1396787273940583.\n"
     ]
    },
    {
     "name": "stdout",
     "output_type": "stream",
     "text": [
      "[LightGBM] [Info] Auto-choosing row-wise multi-threading, the overhead of testing was 0.000212 seconds.\n",
      "You can set `force_row_wise=true` to remove the overhead.\n",
      "And if memory is not enough, you can set `force_col_wise=true`.\n",
      "[LightGBM] [Info] Total Bins 408\n",
      "[LightGBM] [Info] Number of data points in the train set: 7497, number of used features: 9\n",
      "[LightGBM] [Info] Start training from score 62.331949\n",
      "Best trial: score: 1.1396787273940583, \n",
      "parmas: {}\n"
     ]
    }
   ],
   "source": [
    "study = optuna.create_study(direction='minimize',sampler=TPESampler(seed=2025))\n",
    "\n",
    "study.optimize(lambda trial: objectivelgb(trial,df_c.drop(columns=['가격(백만원)']),df_c['가격(백만원)']),n_trials=10)\n",
    "print('Best trial: score: {}, \\nparmas: {}'.format(study.best_trial.value,study.best_trial.params))"
   ]
  },
  {
   "cell_type": "code",
   "execution_count": 87,
   "metadata": {},
   "outputs": [
    {
     "name": "stdout",
     "output_type": "stream",
     "text": [
      "Fold: 1 / Fold: 5\n",
      "[LightGBM] [Info] Auto-choosing row-wise multi-threading, the overhead of testing was 0.000174 seconds.\n",
      "You can set `force_row_wise=true` to remove the overhead.\n",
      "And if memory is not enough, you can set `force_col_wise=true`.\n",
      "[LightGBM] [Info] Total Bins 404\n",
      "[LightGBM] [Info] Number of data points in the train set: 5997, number of used features: 9\n",
      "[LightGBM] [Info] Start training from score 62.548199\n",
      "[LightGBM] [Info] Auto-choosing row-wise multi-threading, the overhead of testing was 0.000174 seconds.\n",
      "You can set `force_row_wise=true` to remove the overhead.\n",
      "And if memory is not enough, you can set `force_col_wise=true`.\n",
      "[LightGBM] [Info] Total Bins 404\n",
      "[LightGBM] [Info] Number of data points in the train set: 5997, number of used features: 9\n",
      "[LightGBM] [Info] Start training from score 62.548199\n",
      "Train RMSE: 1.1587186228044106\n",
      "Val RMSE: 1.2428158267397245\n",
      "------------------------------\n",
      "Fold: 2 / Fold: 5\n",
      "[LightGBM] [Info] Auto-choosing row-wise multi-threading, the overhead of testing was 0.000174 seconds.\n",
      "You can set `force_row_wise=true` to remove the overhead.\n",
      "And if memory is not enough, you can set `force_col_wise=true`.\n",
      "[LightGBM] [Info] Total Bins 404\n",
      "[LightGBM] [Info] Number of data points in the train set: 5997, number of used features: 9\n",
      "[LightGBM] [Info] Start training from score 62.244486\n",
      "[LightGBM] [Info] Auto-choosing row-wise multi-threading, the overhead of testing was 0.000173 seconds.\n",
      "You can set `force_row_wise=true` to remove the overhead.\n",
      "And if memory is not enough, you can set `force_col_wise=true`.\n",
      "[LightGBM] [Info] Total Bins 404\n",
      "[LightGBM] [Info] Number of data points in the train set: 5997, number of used features: 9\n",
      "[LightGBM] [Info] Start training from score 62.244486\n",
      "Train RMSE: 1.125028597383614\n",
      "Val RMSE: 1.3702149327968427\n",
      "------------------------------\n",
      "Fold: 3 / Fold: 5\n",
      "[LightGBM] [Info] Auto-choosing row-wise multi-threading, the overhead of testing was 0.000175 seconds.\n",
      "You can set `force_row_wise=true` to remove the overhead.\n",
      "And if memory is not enough, you can set `force_col_wise=true`.\n",
      "[LightGBM] [Info] Total Bins 404\n",
      "[LightGBM] [Info] Number of data points in the train set: 5998, number of used features: 9\n",
      "[LightGBM] [Info] Start training from score 62.082923\n",
      "[LightGBM] [Info] Auto-choosing row-wise multi-threading, the overhead of testing was 0.000178 seconds.\n",
      "You can set `force_row_wise=true` to remove the overhead.\n",
      "And if memory is not enough, you can set `force_col_wise=true`.\n",
      "[LightGBM] [Info] Total Bins 404\n",
      "[LightGBM] [Info] Number of data points in the train set: 5998, number of used features: 9\n",
      "[LightGBM] [Info] Start training from score 62.082923\n",
      "Train RMSE: 1.0872916921737175\n",
      "Val RMSE: 1.5203208848303096\n",
      "------------------------------\n",
      "Fold: 4 / Fold: 5\n",
      "[LightGBM] [Info] Auto-choosing row-wise multi-threading, the overhead of testing was 0.000177 seconds.\n",
      "You can set `force_row_wise=true` to remove the overhead.\n",
      "And if memory is not enough, you can set `force_col_wise=true`.\n",
      "[LightGBM] [Info] Total Bins 405\n",
      "[LightGBM] [Info] Number of data points in the train set: 5998, number of used features: 9\n",
      "[LightGBM] [Info] Start training from score 62.458715\n",
      "[LightGBM] [Info] Auto-choosing row-wise multi-threading, the overhead of testing was 0.000181 seconds.\n",
      "You can set `force_row_wise=true` to remove the overhead.\n",
      "And if memory is not enough, you can set `force_col_wise=true`.\n",
      "[LightGBM] [Info] Total Bins 405\n",
      "[LightGBM] [Info] Number of data points in the train set: 5998, number of used features: 9\n",
      "[LightGBM] [Info] Start training from score 62.458715\n",
      "Train RMSE: 1.1404938995804985\n",
      "Val RMSE: 1.3756184870263382\n",
      "------------------------------\n",
      "Fold: 5 / Fold: 5\n",
      "[LightGBM] [Info] Auto-choosing row-wise multi-threading, the overhead of testing was 0.000172 seconds.\n",
      "You can set `force_row_wise=true` to remove the overhead.\n",
      "And if memory is not enough, you can set `force_col_wise=true`.\n",
      "[LightGBM] [Info] Total Bins 403\n",
      "[LightGBM] [Info] Number of data points in the train set: 5998, number of used features: 9\n",
      "[LightGBM] [Info] Start training from score 62.325444\n",
      "[LightGBM] [Info] Auto-choosing row-wise multi-threading, the overhead of testing was 0.000180 seconds.\n",
      "You can set `force_row_wise=true` to remove the overhead.\n",
      "And if memory is not enough, you can set `force_col_wise=true`.\n",
      "[LightGBM] [Info] Total Bins 403\n",
      "[LightGBM] [Info] Number of data points in the train set: 5998, number of used features: 9\n",
      "[LightGBM] [Info] Start training from score 62.325444\n",
      "Train RMSE: 1.1495355479454343\n",
      "Val RMSE: 1.2765599923472977\n",
      "------------------------------\n",
      "Average RMSE: 1.3571060247481024\n"
     ]
    }
   ],
   "source": [
    "import numpy as np\n",
    "from sklearn.model_selection import KFold\n",
    "folds = KFold(n_splits=5,shuffle=True,random_state=2025)\n",
    "\n",
    "val_scores_lgb = []\n",
    "test_pred_lgb = np.zeros(len(test))\n",
    "\n",
    "for idx,(train_idx,val_idx) in enumerate(folds.split(X,y)):\n",
    "    print(f'Fold: {idx+1} / Fold: {folds.n_splits}')\n",
    "    X_train,y_train = X.iloc[train_idx],y.iloc[train_idx]\n",
    "    X_val,y_val = X.iloc[val_idx],y.iloc[val_idx]\n",
    "\n",
    "    lgb = LGBMRegressor(**study.best_params)\n",
    "    lgb_model = lgb.fit(X_train,y_train)\n",
    "    lgb_model.fit(X_train,y_train)\n",
    "\n",
    "    train_y_pred = lgb_model.predict(X_train)\n",
    "    val_y_pred = lgb_model.predict(X_val)\n",
    "\n",
    "    print(f'Train RMSE: {root_mean_squared_error(y_train,train_y_pred)}')\n",
    "    print(f'Val RMSE: {root_mean_squared_error(y_val,val_y_pred)}')\n",
    "    print('-' * 30)\n",
    "\n",
    "    test_pred_lgb += lgb_model.predict(X_test) / folds.n_splits\n",
    "    val_scores_lgb.append(root_mean_squared_error(val_y_pred,y_val))\n",
    "\n",
    "print(f'Average RMSE: {np.array(val_scores_lgb).mean()}')"
   ]
  },
  {
   "cell_type": "code",
   "execution_count": 89,
   "metadata": {},
   "outputs": [
    {
     "data": {
      "text/plain": [
       "<Axes: title={'center': 'Feature importance'}, xlabel='Feature importance', ylabel='Features'>"
      ]
     },
     "execution_count": 89,
     "metadata": {},
     "output_type": "execute_result"
    },
    {
     "data": {
      "image/png": "[encoded data removed]",
      "text/plain": [
       "<Figure size 640x480 with 1 Axes>"
      ]
     },
     "metadata": {},
     "output_type": "display_data"
    }
   ],
   "source": [
    "from lightgbm import plot_importance\n",
    "plot_importance(lgb_model)"
   ]
  },
  {
   "cell_type": "markdown",
   "metadata": {},
   "source": [
    "## 결과물 제출"
   ]
  },
  {
   "cell_type": "code",
   "execution_count": 90,
   "metadata": {},
   "outputs": [
    {
     "name": "stderr",
     "output_type": "stream",
     "text": [
      "C:\\Users\\Public\\Documents\\ESTsoft\\CreatorTemp\\ipykernel_30316\\3466293101.py:1: FutureWarning:\n",
      "\n",
      "Setting an item of incompatible dtype is deprecated and will raise in a future error of pandas. Value '[130.56026181  80.02060894  64.92808397  35.0252487   47.85527738\n",
      " 100.66169829  21.88539852  40.05865794  81.14929096  24.57024299\n",
      "  64.04123269  62.65242699  40.24047192 100.15266122  90.93723801\n",
      "  23.14614243 126.09241252  52.54568752  60.08269935  34.76737364\n",
      "  37.77061074 160.79273559  47.12609319  55.8801629   23.12375512\n",
      "  47.84509203  79.00919399  80.09435298  27.90706906 126.14545893\n",
      "  63.69365878  40.83963401 114.85356547  87.99523606  35.63968696\n",
      "  80.02261685  21.75451791  39.94971498  24.73141582 121.17794762\n",
      " 126.65256616  18.51531372 119.43069715  60.83106007  23.10911089\n",
      " 100.18054899  21.71007309  73.94359828  62.4010388   77.87251873\n",
      "  35.78684614  16.87069324  38.75422389 126.49026687  23.72444716\n",
      "  27.89116311 155.89751664  41.08349004 159.47291217  40.25700379\n",
      "  55.89560578 125.0480037   40.89553374 120.92084472  40.11124254\n",
      "  34.19369663  72.3473904   50.3574572   99.87578438  23.01304663\n",
      "  47.86331244  27.87425064  64.286294    38.76039154 124.45421201\n",
      "  22.94083564  40.9709212  121.00299634 160.02993293  79.99627836\n",
      "  28.06927257  41.00564322  17.63678377  34.1904209   33.97462268\n",
      "  39.75884312  57.50012174  88.04309492  64.80233525  53.53036002\n",
      "  40.7989267   69.66009009  20.2104705   80.0707561   21.83621102\n",
      "  24.85633197  65.47975083 126.3095644   65.41224963  97.24453592\n",
      " 126.35217587  27.87425064  74.75966935  40.10848437  23.66860642\n",
      "  22.48914845  98.45069017 101.33190943  23.69496222  34.77114644\n",
      "  52.52964599  34.14524288  25.01112779  24.95600841  34.15474344\n",
      "  19.86399561  63.98210587 119.79261811 156.01671817  47.86685166\n",
      "  64.03324786  37.64876554 160.58176873  60.60974601  16.61147788\n",
      "  37.68610937  72.00231632  80.02389791  27.96784473  81.29749695\n",
      "  76.29450781  17.50183412  24.61719418  40.01818632  21.6950549\n",
      "  80.02418292  59.78173673  63.92814503  71.84369259  28.07809255\n",
      "  27.89112173  55.86247965  24.72208006  72.65580937  21.80357783\n",
      "  73.77699721  70.00922849  27.93720925  53.52179468  65.41671463\n",
      "  64.77485962 130.41697392  77.84664599  37.66756623  63.91558949\n",
      " 151.41890557  23.1097772   65.43361528  97.21207927  81.30786244\n",
      "  40.99122188  60.78028574  38.74616313  53.85314352  47.83186203\n",
      "  71.98421275  40.2252545  126.42419158  81.18566601 151.38425906\n",
      " 151.49181392  97.38150137  60.6174567   38.54901808  23.03672433\n",
      "  23.00316934  50.85663039  47.8461311   57.99882751  23.89758262\n",
      "  99.57915501 159.20436348  58.58273787  21.83400928  27.57730485\n",
      "  38.72224585  58.59733431  37.65765105  23.1734576   27.9288869\n",
      " 151.40012371  24.67012275  38.73154519  97.46418165  20.86292014\n",
      "  79.05920204 100.04838145  47.8540661   39.98508234  23.00128801\n",
      "  35.59497687  98.67341668  55.91002539  58.66473052  35.59497687\n",
      "  22.98283005  71.84369259  57.87052944  70.06083145  35.58743786\n",
      "  35.58695521 155.90009715  40.82809254 100.03977279  74.49005844\n",
      "  21.82059096  65.4596733   80.05856769  63.94644486  47.87651625\n",
      "  37.62891777  46.98972183 114.83781083 160.24161912  71.84369259\n",
      "  37.71105962  77.65455971  58.60157404  40.87694511  69.59280142\n",
      "  79.82512638  80.05068051  39.97776066 156.0089499   99.40065616\n",
      "  34.77804395 124.45421201  53.45335869  69.71278426  83.6058352\n",
      "  53.97173159  99.34787867  40.81702782  59.74545096  63.92277856\n",
      "  80.04287481 159.61737506 120.91880143  80.09517093  34.17713122\n",
      "  40.86960521  34.44228224 126.12735898  40.81011676  64.45290287\n",
      " 160.52884626  22.56962939  63.94082759  74.04514141  79.74183002\n",
      " 130.51187678  27.36955444  28.01038263  17.54318198  23.71378923\n",
      "  34.80836627 120.992958    37.70382673  64.30573393  71.86649323\n",
      "  40.84331414 126.70067637  28.08330082  27.95421129  17.55734645\n",
      "  40.78429548  65.45985359  52.484405    47.84735352  40.01032749\n",
      "  23.75680305  90.82554065  77.92239256  35.79349921 120.8825462\n",
      "  20.57611987  27.90708247 120.54245398 124.82844346  47.84376729\n",
      "  34.77242922 100.18433027  27.4010494   74.01544561  64.27224083\n",
      "  99.28886902  27.96117888  27.88994736  38.56101621  62.58314463\n",
      "  34.77051399  57.69166018  40.86573658  20.57939502  83.20170153\n",
      "  47.8996592  126.3095644   74.22165861  39.95564478  73.74551677\n",
      "  34.3342897   52.52119764  63.6355348   77.9484767  100.43499221\n",
      "  23.10682364  38.55214334  23.06979949 100.14122514  36.81021382\n",
      "  97.40593529  73.97699101  54.52756569  73.99329567  97.35234757\n",
      " 120.88522659  23.86276127  69.69691457  80.00135649  23.75863542\n",
      "  27.39990862 159.30479672  23.70635632  38.76077517  34.19369663\n",
      " 100.1035785   57.52000531  47.22111169  99.32440296  64.96974002\n",
      "  74.84738904  34.7932853   22.99661375  40.01375508 119.46151704\n",
      " 100.11307835 120.92386412  21.83790497 126.41606096  57.70933713\n",
      "  76.32801907  80.03553052  38.8598753   38.8996483   71.84293395\n",
      "  93.63171864  41.11387528  24.97050258  47.84687086 100.03636741\n",
      "  20.37242304  21.76052727  22.50349062  39.70058495  38.84043367\n",
      "  35.78805742  47.84735352  88.02122345  55.89478346  79.89623752\n",
      "  72.00231632 100.00400767  40.17590916  35.58574392  97.28360162\n",
      " 120.67326625  38.76580138  40.86190661  39.98321204  20.51924099\n",
      "  38.90018398  22.44985503  24.67937793  73.61268226  23.85434781\n",
      "  40.85732336 159.61951179  40.04812625  47.85885027  64.05662504\n",
      "  46.890993    64.28731683  24.66643385 125.90542107  38.5559979\n",
      "  60.06029862  35.61760392  93.18497433  40.08215775  28.02391722\n",
      "  22.88526814  99.31033179  34.25733177  17.3875222   63.91362489\n",
      "  38.88526621  34.04818207 100.11032218  80.00719227  58.58500505\n",
      "  34.10859566  64.90607887  27.93231612  64.93381227  69.94658656\n",
      "  59.78978855  38.54408311  40.8211445  124.98404096 130.72005093\n",
      "  40.8607576   99.33505067  57.74747916  27.9626057  155.94921095\n",
      "  64.87413516  27.98880946  60.09121157  37.74506769  80.08030929\n",
      "  38.77360914  63.86092827  54.05043027  17.64762078  72.48439508\n",
      "  23.19502703  38.48858752  79.83641174  37.64010399  77.66509191\n",
      "  75.86468409  41.05268956 100.65261226  73.72807882  73.47761101\n",
      "  53.27779983  34.12433919  57.70933713  63.84334367  80.03201887\n",
      "  83.09938263 100.09966266  17.492353    69.6545465   57.20162061\n",
      "  27.40929911  50.82598477  38.72567045  28.25168289  23.06642112\n",
      "  22.53552698  97.3529579   34.74991656  54.53595372  78.96851629\n",
      " 120.98927866  50.87046461 159.29948577  80.07174989  40.03550778\n",
      "  62.66073935  47.85184151  27.88839456  38.73047778  40.26697063\n",
      "  35.58121766 120.88337108  59.76517205  62.62520005  65.44352574\n",
      "  40.94000693  60.86739689 151.40762121  77.9085582   28.00378534\n",
      "  53.54439966  65.4596733   69.6562116   27.88684994  23.02348833\n",
      "  27.95421129  38.53460107  59.80339836  59.99014525  80.00754369\n",
      "  39.7497505   37.66581933  77.90148856  84.33990779 100.24282047\n",
      "  61.09902885 130.51150824  23.72333454  74.02157904  74.68702482\n",
      "  68.24494033 160.46653926  16.65040549  80.0994611   59.72563693\n",
      "  50.81605284  18.0111485   38.57691858 100.79572983  59.79931757\n",
      "  38.8379265   63.84641527  27.56488037  74.13426541  64.13549205\n",
      "  69.60473784  97.20100166  19.76656807  36.90283928  47.78242576\n",
      "  18.31565132  73.62911274  71.85401748  66.11298328  24.70447527\n",
      " 124.45421201  24.95999899 126.1949104   53.17116412 159.31944507\n",
      "  79.98882655  34.18182206  78.10768494  79.97782359  28.05092636\n",
      " 126.14545893 123.77722022  22.46253875  62.59956148  64.85275406\n",
      " 120.85740695  72.43633761  59.81590867  23.07115056  38.72845989\n",
      "  21.86957845  24.69790853  40.84004953  80.00759161  22.97596418\n",
      "  63.9235104  100.23401423  47.86487965  22.54548785  35.82759817\n",
      "  80.03969078  36.81625598  20.48232137  99.21754262  27.9872853\n",
      "  80.08014083  73.78258038  23.78076562  22.90737297  78.96408413\n",
      "  59.75726418 127.17246862  27.96546343  23.73451767  35.78022372\n",
      "  40.83903669  80.05524189  79.85323333 118.27556541  47.11906495\n",
      "  27.91736729  57.82863886  27.9459587   60.63443719  74.69928662\n",
      "  40.26221354  64.06471541  27.88902391  21.83505101  34.18720877\n",
      " 159.97507832  27.90076225 115.03350828  88.24833114  27.9784438\n",
      "  23.72910094  35.79589041 160.8851417  159.32901366  23.75680305\n",
      "  38.86799016  27.88684994  20.83578196  99.3445779   20.86292014\n",
      "  77.7729816   60.62690468  70.06157446  34.20333159  35.78417837\n",
      " 155.97294936 118.36714952  80.02261685  27.98128806  23.77068569\n",
      "  23.00448188  37.63780328 100.08616681  79.98899683  34.10859566\n",
      "  59.81499492  80.03709659 124.62236863  64.04614399  40.25763527\n",
      "  20.80210494  35.79509136  34.17723554  34.35282695  80.02418292\n",
      "  40.84531074  23.03879591  23.08659361  23.75863542  39.73032816\n",
      " 100.17940468  22.60133751 130.45401569  79.98520996 159.73414156\n",
      " 159.59776482  24.57445758  71.59593206  27.79584521  17.47226685\n",
      "  77.88016987  74.07186466  99.26584846  47.84595191  34.1173189\n",
      "  80.02418292  23.70777514  18.22378644  27.94772042  77.90081377\n",
      "  77.84638123  38.56950707  27.94178976  22.9904052   55.90072824\n",
      "  69.59720989 124.3744312   65.2967453  160.44584336  47.85376831\n",
      " 159.65265554  59.68644753 114.8632846   38.76580138  27.35539284\n",
      "  80.02355371  53.12985771  54.53595372  74.03688023  40.85401273\n",
      "  19.63095613 130.55673313  60.78944828  83.06536551  99.33060659\n",
      " 100.13975521  47.06363751  28.30392162  80.02371102  37.69822837\n",
      "  34.12129545  40.0337851   27.31841887  59.92581829 114.80055656\n",
      "  64.04753003 120.85501816  23.00509521  22.98761525  73.76268811\n",
      "  74.41125603 100.11033185  37.79103464  34.75874687  59.75149702\n",
      "  84.31763621  27.95931288  38.8730448   97.2428223  125.0480037\n",
      "  40.9709212   72.05606111  25.06470632  38.74739463 155.86028483\n",
      " 159.93320179  21.83742231  63.86575414  73.9753332   27.88839456\n",
      "  72.34638282 126.19441391  23.66160013  40.85517336  98.9523444\n",
      "  99.34307246  58.57078017  60.62300476  59.72887291  37.64876554\n",
      "  36.8270844   40.78488938  77.47801695  36.75724797  36.84274773\n",
      "  75.79944891  35.59436477  23.19304286  62.76309558  25.07988354\n",
      " 100.08786747  47.07537659 120.9625877   40.86573658  27.38861386\n",
      "  27.85671393  23.7746674   17.94347361  64.28901137  34.83242167\n",
      "  21.79828284  71.84369259  80.01195373  69.6562116   22.62056501\n",
      "  63.89916877  69.62863251  78.07780758  17.67042259  90.80228128\n",
      "  27.98002186  83.37034766  52.50333005 120.78179983  34.13642691\n",
      "  40.0329389   47.23032291  46.907354    27.5300894   73.97222497\n",
      " 100.09966266 155.89751664  64.82652435  22.94269584  91.46059533\n",
      "  34.78132486  27.9624986   33.9407307   21.6966732   40.25763527\n",
      "  34.14813137  47.06664495  97.25401978  22.45969255  72.31146074\n",
      "  27.90567759  63.84262561 118.54173846  17.62627694 160.32317914\n",
      "  64.65563913  63.94132711 126.49605484  79.98075882  75.08092786\n",
      "  60.09121157  23.08559086 160.33444412 151.40907651  94.2725942\n",
      " 118.30905101  55.89478346  22.90435129  21.59657355  47.85527738\n",
      "  23.07116501  64.78256932  37.70835564  27.96408797 100.70045498\n",
      "  47.81286683  25.0922627   63.84022965  65.42503341 100.1120345\n",
      " 155.95464653  37.59915379 159.86520687  83.32879161  27.99208748\n",
      "  59.82057971  24.58237651  27.33881186 155.94928944 100.07649094\n",
      "  22.95436222  27.41024344  74.29879918  34.26323432  64.89095102\n",
      "  53.8313118   37.60610802  36.84947098 126.53559621 151.42039355\n",
      "  22.46119061 120.95974284 115.02842287  35.58695521  34.79369718\n",
      "  79.89623752  59.68496126  57.75755225 100.10953278  47.84365333\n",
      "  23.10911089 151.46305594  38.73080008  38.81316151  58.60815563\n",
      "  22.50311468]' has dtype incompatible with int64, please explicitly cast to a compatible dtype first.\n",
      "\n"
     ]
    }
   ],
   "source": [
    "submit.loc[submit['ID'].isin(test_ID),'가격(백만원)'] = test_pred_lgb\n",
    "submit.to_csv('submit_nothing_hyperparam_lgb.csv',index=False)"
   ]
  },
  {
   "cell_type": "code",
   "execution_count": 91,
   "metadata": {},
   "outputs": [
    {
     "data": {
      "text/html": [
       "<div>\n",
       "<style scoped>\n",
       "    .dataframe tbody tr th:only-of-type {\n",
       "        vertical-align: middle;\n",
       "    }\n",
       "\n",
       "    .dataframe tbody tr th {\n",
       "        vertical-align: top;\n",
       "    }\n",
       "\n",
       "    .dataframe thead th {\n",
       "        text-align: right;\n",
       "    }\n",
       "</style>\n",
       "<table border=\"1\" class=\"dataframe\">\n",
       "  <thead>\n",
       "    <tr style=\"text-align: right;\">\n",
       "      <th></th>\n",
       "      <th>ID</th>\n",
       "      <th>가격(백만원)</th>\n",
       "    </tr>\n",
       "  </thead>\n",
       "  <tbody>\n",
       "    <tr>\n",
       "      <th>0</th>\n",
       "      <td>TEST_000</td>\n",
       "      <td>130.560262</td>\n",
       "    </tr>\n",
       "    <tr>\n",
       "      <th>1</th>\n",
       "      <td>TEST_001</td>\n",
       "      <td>80.020609</td>\n",
       "    </tr>\n",
       "    <tr>\n",
       "      <th>2</th>\n",
       "      <td>TEST_002</td>\n",
       "      <td>64.928084</td>\n",
       "    </tr>\n",
       "    <tr>\n",
       "      <th>3</th>\n",
       "      <td>TEST_003</td>\n",
       "      <td>35.025249</td>\n",
       "    </tr>\n",
       "    <tr>\n",
       "      <th>4</th>\n",
       "      <td>TEST_004</td>\n",
       "      <td>47.855277</td>\n",
       "    </tr>\n",
       "  </tbody>\n",
       "</table>\n",
       "</div>"
      ],
      "text/plain": [
       "         ID     가격(백만원)\n",
       "0  TEST_000  130.560262\n",
       "1  TEST_001   80.020609\n",
       "2  TEST_002   64.928084\n",
       "3  TEST_003   35.025249\n",
       "4  TEST_004   47.855277"
      ]
     },
     "execution_count": 91,
     "metadata": {},
     "output_type": "execute_result"
    }
   ],
   "source": [
    "submit.head()"
   ]
  }
 ],
 "metadata": {
  "kernelspec": {
   "display_name": "vscode_jupyter",
   "language": "python",
   "name": "python3"
  },
  "language_info": {
   "codemirror_mode": {
    "name": "ipython",
    "version": 3
   },
   "file_extension": ".py",
   "mimetype": "text/x-python",
   "name": "python",
   "nbconvert_exporter": "python",
   "pygments_lexer": "ipython3",
   "version": "3.11.6"
  }
 },
 "nbformat": 4,
 "nbformat_minor": 2
}
