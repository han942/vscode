{
 "cells": [
  {
   "cell_type": "markdown",
   "metadata": {},
   "source": [
    "# 차량 EV 경진대회"
   ]
  },
  {
   "cell_type": "markdown",
   "metadata": {},
   "source": [
    "## Data Import"
   ]
  },
  {
   "cell_type": "code",
   "execution_count": 210,
   "metadata": {},
   "outputs": [],
   "source": [
    "import pandas as pd\n",
    "import os \n",
    "\n",
    "train = pd.read_csv('https://raw.githubusercontent.com/han942/vscode/refs/heads/main/datafile/dacon/CarEV/train.csv')\n",
    "test = pd.read_csv('https://raw.githubusercontent.com/han942/vscode/refs/heads/main/datafile/dacon/CarEV/test.csv')\n",
    "submit = pd.read_csv('https://raw.githubusercontent.com/han942/vscode/refs/heads/main/datafile/dacon/CarEV/sample_submission.csv')"
   ]
  },
  {
   "cell_type": "code",
   "execution_count": 211,
   "metadata": {},
   "outputs": [
    {
     "data": {
      "text/html": [
       "<div>\n",
       "<style scoped>\n",
       "    .dataframe tbody tr th:only-of-type {\n",
       "        vertical-align: middle;\n",
       "    }\n",
       "\n",
       "    .dataframe tbody tr th {\n",
       "        vertical-align: top;\n",
       "    }\n",
       "\n",
       "    .dataframe thead th {\n",
       "        text-align: right;\n",
       "    }\n",
       "</style>\n",
       "<table border=\"1\" class=\"dataframe\">\n",
       "  <thead>\n",
       "    <tr style=\"text-align: right;\">\n",
       "      <th></th>\n",
       "      <th>ID</th>\n",
       "      <th>제조사</th>\n",
       "      <th>모델</th>\n",
       "      <th>차량상태</th>\n",
       "      <th>배터리용량</th>\n",
       "      <th>구동방식</th>\n",
       "      <th>주행거리(km)</th>\n",
       "      <th>보증기간(년)</th>\n",
       "      <th>사고이력</th>\n",
       "      <th>연식(년)</th>\n",
       "      <th>가격(백만원)</th>\n",
       "    </tr>\n",
       "  </thead>\n",
       "  <tbody>\n",
       "    <tr>\n",
       "      <th>0</th>\n",
       "      <td>TRAIN_0000</td>\n",
       "      <td>P사</td>\n",
       "      <td>TayGTS</td>\n",
       "      <td>Nearly New</td>\n",
       "      <td>86.077</td>\n",
       "      <td>AWD</td>\n",
       "      <td>13642</td>\n",
       "      <td>0</td>\n",
       "      <td>No</td>\n",
       "      <td>2</td>\n",
       "      <td>159.66</td>\n",
       "    </tr>\n",
       "    <tr>\n",
       "      <th>1</th>\n",
       "      <td>TRAIN_0001</td>\n",
       "      <td>K사</td>\n",
       "      <td>Niro</td>\n",
       "      <td>Nearly New</td>\n",
       "      <td>56.000</td>\n",
       "      <td>FWD</td>\n",
       "      <td>10199</td>\n",
       "      <td>6</td>\n",
       "      <td>No</td>\n",
       "      <td>0</td>\n",
       "      <td>28.01</td>\n",
       "    </tr>\n",
       "    <tr>\n",
       "      <th>2</th>\n",
       "      <td>TRAIN_0002</td>\n",
       "      <td>A사</td>\n",
       "      <td>eT</td>\n",
       "      <td>Brand New</td>\n",
       "      <td>91.200</td>\n",
       "      <td>AWD</td>\n",
       "      <td>2361</td>\n",
       "      <td>7</td>\n",
       "      <td>No</td>\n",
       "      <td>0</td>\n",
       "      <td>66.27</td>\n",
       "    </tr>\n",
       "    <tr>\n",
       "      <th>3</th>\n",
       "      <td>TRAIN_0003</td>\n",
       "      <td>A사</td>\n",
       "      <td>RSeTGT</td>\n",
       "      <td>Nearly New</td>\n",
       "      <td>NaN</td>\n",
       "      <td>AWD</td>\n",
       "      <td>21683</td>\n",
       "      <td>3</td>\n",
       "      <td>No</td>\n",
       "      <td>0</td>\n",
       "      <td>99.16</td>\n",
       "    </tr>\n",
       "    <tr>\n",
       "      <th>4</th>\n",
       "      <td>TRAIN_0004</td>\n",
       "      <td>B사</td>\n",
       "      <td>i5</td>\n",
       "      <td>Pre-Owned</td>\n",
       "      <td>61.018</td>\n",
       "      <td>AWD</td>\n",
       "      <td>178205</td>\n",
       "      <td>1</td>\n",
       "      <td>No</td>\n",
       "      <td>0</td>\n",
       "      <td>62.02</td>\n",
       "    </tr>\n",
       "  </tbody>\n",
       "</table>\n",
       "</div>"
      ],
      "text/plain": [
       "           ID 제조사      모델        차량상태   배터리용량 구동방식  주행거리(km)  보증기간(년) 사고이력  \\\n",
       "0  TRAIN_0000  P사  TayGTS  Nearly New  86.077  AWD     13642        0   No   \n",
       "1  TRAIN_0001  K사    Niro  Nearly New  56.000  FWD     10199        6   No   \n",
       "2  TRAIN_0002  A사      eT   Brand New  91.200  AWD      2361        7   No   \n",
       "3  TRAIN_0003  A사  RSeTGT  Nearly New     NaN  AWD     21683        3   No   \n",
       "4  TRAIN_0004  B사      i5   Pre-Owned  61.018  AWD    178205        1   No   \n",
       "\n",
       "   연식(년)  가격(백만원)  \n",
       "0      2   159.66  \n",
       "1      0    28.01  \n",
       "2      0    66.27  \n",
       "3      0    99.16  \n",
       "4      0    62.02  "
      ]
     },
     "execution_count": 211,
     "metadata": {},
     "output_type": "execute_result"
    }
   ],
   "source": [
    "train.head()"
   ]
  },
  {
   "cell_type": "code",
   "execution_count": 212,
   "metadata": {},
   "outputs": [
    {
     "data": {
      "text/html": [
       "<div>\n",
       "<style scoped>\n",
       "    .dataframe tbody tr th:only-of-type {\n",
       "        vertical-align: middle;\n",
       "    }\n",
       "\n",
       "    .dataframe tbody tr th {\n",
       "        vertical-align: top;\n",
       "    }\n",
       "\n",
       "    .dataframe thead th {\n",
       "        text-align: right;\n",
       "    }\n",
       "</style>\n",
       "<table border=\"1\" class=\"dataframe\">\n",
       "  <thead>\n",
       "    <tr style=\"text-align: right;\">\n",
       "      <th></th>\n",
       "      <th>ID</th>\n",
       "      <th>제조사</th>\n",
       "      <th>모델</th>\n",
       "      <th>차량상태</th>\n",
       "      <th>배터리용량</th>\n",
       "      <th>구동방식</th>\n",
       "      <th>주행거리(km)</th>\n",
       "      <th>보증기간(년)</th>\n",
       "      <th>사고이력</th>\n",
       "      <th>연식(년)</th>\n",
       "    </tr>\n",
       "  </thead>\n",
       "  <tbody>\n",
       "    <tr>\n",
       "      <th>0</th>\n",
       "      <td>TEST_000</td>\n",
       "      <td>P사</td>\n",
       "      <td>TayCT</td>\n",
       "      <td>Nearly New</td>\n",
       "      <td>76.093</td>\n",
       "      <td>AWD</td>\n",
       "      <td>14057</td>\n",
       "      <td>2</td>\n",
       "      <td>No</td>\n",
       "      <td>0</td>\n",
       "    </tr>\n",
       "    <tr>\n",
       "      <th>1</th>\n",
       "      <td>TEST_001</td>\n",
       "      <td>B사</td>\n",
       "      <td>iX</td>\n",
       "      <td>Brand New</td>\n",
       "      <td>90.000</td>\n",
       "      <td>AWD</td>\n",
       "      <td>7547</td>\n",
       "      <td>8</td>\n",
       "      <td>No</td>\n",
       "      <td>0</td>\n",
       "    </tr>\n",
       "    <tr>\n",
       "      <th>2</th>\n",
       "      <td>TEST_002</td>\n",
       "      <td>B사</td>\n",
       "      <td>i5</td>\n",
       "      <td>Brand New</td>\n",
       "      <td>NaN</td>\n",
       "      <td>RWD</td>\n",
       "      <td>7197</td>\n",
       "      <td>7</td>\n",
       "      <td>Yes</td>\n",
       "      <td>0</td>\n",
       "    </tr>\n",
       "    <tr>\n",
       "      <th>3</th>\n",
       "      <td>TEST_003</td>\n",
       "      <td>H사</td>\n",
       "      <td>ION5</td>\n",
       "      <td>Nearly New</td>\n",
       "      <td>68.479</td>\n",
       "      <td>AWD</td>\n",
       "      <td>10357</td>\n",
       "      <td>7</td>\n",
       "      <td>No</td>\n",
       "      <td>1</td>\n",
       "    </tr>\n",
       "    <tr>\n",
       "      <th>4</th>\n",
       "      <td>TEST_004</td>\n",
       "      <td>K사</td>\n",
       "      <td>EV6</td>\n",
       "      <td>Brand New</td>\n",
       "      <td>NaN</td>\n",
       "      <td>FWD</td>\n",
       "      <td>7597</td>\n",
       "      <td>10</td>\n",
       "      <td>No</td>\n",
       "      <td>0</td>\n",
       "    </tr>\n",
       "  </tbody>\n",
       "</table>\n",
       "</div>"
      ],
      "text/plain": [
       "         ID 제조사     모델        차량상태   배터리용량 구동방식  주행거리(km)  보증기간(년) 사고이력  연식(년)\n",
       "0  TEST_000  P사  TayCT  Nearly New  76.093  AWD     14057        2   No      0\n",
       "1  TEST_001  B사     iX   Brand New  90.000  AWD      7547        8   No      0\n",
       "2  TEST_002  B사     i5   Brand New     NaN  RWD      7197        7  Yes      0\n",
       "3  TEST_003  H사   ION5  Nearly New  68.479  AWD     10357        7   No      1\n",
       "4  TEST_004  K사    EV6   Brand New     NaN  FWD      7597       10   No      0"
      ]
     },
     "execution_count": 212,
     "metadata": {},
     "output_type": "execute_result"
    }
   ],
   "source": [
    "test.head()"
   ]
  },
  {
   "cell_type": "code",
   "execution_count": 213,
   "metadata": {},
   "outputs": [
    {
     "data": {
      "text/html": [
       "<div>\n",
       "<style scoped>\n",
       "    .dataframe tbody tr th:only-of-type {\n",
       "        vertical-align: middle;\n",
       "    }\n",
       "\n",
       "    .dataframe tbody tr th {\n",
       "        vertical-align: top;\n",
       "    }\n",
       "\n",
       "    .dataframe thead th {\n",
       "        text-align: right;\n",
       "    }\n",
       "</style>\n",
       "<table border=\"1\" class=\"dataframe\">\n",
       "  <thead>\n",
       "    <tr style=\"text-align: right;\">\n",
       "      <th></th>\n",
       "      <th>ID</th>\n",
       "      <th>가격(백만원)</th>\n",
       "    </tr>\n",
       "  </thead>\n",
       "  <tbody>\n",
       "    <tr>\n",
       "      <th>0</th>\n",
       "      <td>TEST_000</td>\n",
       "      <td>0</td>\n",
       "    </tr>\n",
       "    <tr>\n",
       "      <th>1</th>\n",
       "      <td>TEST_001</td>\n",
       "      <td>0</td>\n",
       "    </tr>\n",
       "    <tr>\n",
       "      <th>2</th>\n",
       "      <td>TEST_002</td>\n",
       "      <td>0</td>\n",
       "    </tr>\n",
       "    <tr>\n",
       "      <th>3</th>\n",
       "      <td>TEST_003</td>\n",
       "      <td>0</td>\n",
       "    </tr>\n",
       "    <tr>\n",
       "      <th>4</th>\n",
       "      <td>TEST_004</td>\n",
       "      <td>0</td>\n",
       "    </tr>\n",
       "  </tbody>\n",
       "</table>\n",
       "</div>"
      ],
      "text/plain": [
       "         ID  가격(백만원)\n",
       "0  TEST_000        0\n",
       "1  TEST_001        0\n",
       "2  TEST_002        0\n",
       "3  TEST_003        0\n",
       "4  TEST_004        0"
      ]
     },
     "execution_count": 213,
     "metadata": {},
     "output_type": "execute_result"
    }
   ],
   "source": [
    "submit.head()"
   ]
  },
  {
   "cell_type": "code",
   "execution_count": 214,
   "metadata": {},
   "outputs": [
    {
     "name": "stdout",
     "output_type": "stream",
     "text": [
      "data shape: (7497, 11)\n"
     ]
    },
    {
     "data": {
      "text/html": [
       "<div>\n",
       "<style scoped>\n",
       "    .dataframe tbody tr th:only-of-type {\n",
       "        vertical-align: middle;\n",
       "    }\n",
       "\n",
       "    .dataframe tbody tr th {\n",
       "        vertical-align: top;\n",
       "    }\n",
       "\n",
       "    .dataframe thead th {\n",
       "        text-align: right;\n",
       "    }\n",
       "</style>\n",
       "<table border=\"1\" class=\"dataframe\">\n",
       "  <thead>\n",
       "    <tr style=\"text-align: right;\">\n",
       "      <th></th>\n",
       "      <th>data type</th>\n",
       "      <th>#missing</th>\n",
       "      <th>%missing</th>\n",
       "      <th>#unique</th>\n",
       "      <th>min</th>\n",
       "      <th>max</th>\n",
       "    </tr>\n",
       "  </thead>\n",
       "  <tbody>\n",
       "    <tr>\n",
       "      <th>ID</th>\n",
       "      <td>object</td>\n",
       "      <td>0</td>\n",
       "      <td>0.000000</td>\n",
       "      <td>7497</td>\n",
       "      <td>NaN</td>\n",
       "      <td>NaN</td>\n",
       "    </tr>\n",
       "    <tr>\n",
       "      <th>제조사</th>\n",
       "      <td>object</td>\n",
       "      <td>0</td>\n",
       "      <td>0.000000</td>\n",
       "      <td>7</td>\n",
       "      <td>NaN</td>\n",
       "      <td>NaN</td>\n",
       "    </tr>\n",
       "    <tr>\n",
       "      <th>모델</th>\n",
       "      <td>object</td>\n",
       "      <td>0</td>\n",
       "      <td>0.000000</td>\n",
       "      <td>21</td>\n",
       "      <td>NaN</td>\n",
       "      <td>NaN</td>\n",
       "    </tr>\n",
       "    <tr>\n",
       "      <th>차량상태</th>\n",
       "      <td>object</td>\n",
       "      <td>0</td>\n",
       "      <td>0.000000</td>\n",
       "      <td>3</td>\n",
       "      <td>NaN</td>\n",
       "      <td>NaN</td>\n",
       "    </tr>\n",
       "    <tr>\n",
       "      <th>배터리용량</th>\n",
       "      <td>float64</td>\n",
       "      <td>2711</td>\n",
       "      <td>36.161131</td>\n",
       "      <td>194</td>\n",
       "      <td>46.0</td>\n",
       "      <td>99.8</td>\n",
       "    </tr>\n",
       "    <tr>\n",
       "      <th>구동방식</th>\n",
       "      <td>object</td>\n",
       "      <td>0</td>\n",
       "      <td>0.000000</td>\n",
       "      <td>3</td>\n",
       "      <td>NaN</td>\n",
       "      <td>NaN</td>\n",
       "    </tr>\n",
       "    <tr>\n",
       "      <th>주행거리(km)</th>\n",
       "      <td>int64</td>\n",
       "      <td>0</td>\n",
       "      <td>0.000000</td>\n",
       "      <td>6916</td>\n",
       "      <td>3.0</td>\n",
       "      <td>199827.0</td>\n",
       "    </tr>\n",
       "    <tr>\n",
       "      <th>보증기간(년)</th>\n",
       "      <td>int64</td>\n",
       "      <td>0</td>\n",
       "      <td>0.000000</td>\n",
       "      <td>11</td>\n",
       "      <td>0.0</td>\n",
       "      <td>10.0</td>\n",
       "    </tr>\n",
       "    <tr>\n",
       "      <th>사고이력</th>\n",
       "      <td>object</td>\n",
       "      <td>0</td>\n",
       "      <td>0.000000</td>\n",
       "      <td>2</td>\n",
       "      <td>NaN</td>\n",
       "      <td>NaN</td>\n",
       "    </tr>\n",
       "    <tr>\n",
       "      <th>연식(년)</th>\n",
       "      <td>int64</td>\n",
       "      <td>0</td>\n",
       "      <td>0.000000</td>\n",
       "      <td>3</td>\n",
       "      <td>0.0</td>\n",
       "      <td>2.0</td>\n",
       "    </tr>\n",
       "    <tr>\n",
       "      <th>가격(백만원)</th>\n",
       "      <td>float64</td>\n",
       "      <td>0</td>\n",
       "      <td>0.000000</td>\n",
       "      <td>3950</td>\n",
       "      <td>9.0</td>\n",
       "      <td>161.09</td>\n",
       "    </tr>\n",
       "  </tbody>\n",
       "</table>\n",
       "</div>"
      ],
      "text/plain": [
       "         data type  #missing   %missing  #unique   min       max\n",
       "ID          object         0   0.000000     7497   NaN       NaN\n",
       "제조사         object         0   0.000000        7   NaN       NaN\n",
       "모델          object         0   0.000000       21   NaN       NaN\n",
       "차량상태        object         0   0.000000        3   NaN       NaN\n",
       "배터리용량      float64      2711  36.161131      194  46.0      99.8\n",
       "구동방식        object         0   0.000000        3   NaN       NaN\n",
       "주행거리(km)     int64         0   0.000000     6916   3.0  199827.0\n",
       "보증기간(년)      int64         0   0.000000       11   0.0      10.0\n",
       "사고이력        object         0   0.000000        2   NaN       NaN\n",
       "연식(년)        int64         0   0.000000        3   0.0       2.0\n",
       "가격(백만원)    float64         0   0.000000     3950   9.0    161.09"
      ]
     },
     "execution_count": 214,
     "metadata": {},
     "output_type": "execute_result"
    }
   ],
   "source": [
    "def summary(df):\n",
    "    print(f'data shape: {df.shape}')\n",
    "    summ = pd.DataFrame(df.dtypes,columns=['data type'])\n",
    "    summ['#missing'] = df.isnull().sum().values\n",
    "    summ['%missing'] = df.isnull().sum().values / len(df) *100\n",
    "    summ['#unique'] = df.nunique().values\n",
    "    desc = pd.DataFrame(df.describe(include='all').transpose())\n",
    "    summ['min'] = desc['min'].values\n",
    "    summ['max'] = desc['max'].values\n",
    "    \n",
    "    return summ\n",
    "summary(train)"
   ]
  },
  {
   "cell_type": "code",
   "execution_count": 215,
   "metadata": {},
   "outputs": [
    {
     "name": "stdout",
     "output_type": "stream",
     "text": [
      "범주형 변수:  ['제조사', '모델', '차량상태', '구동방식', '보증기간(년)', '연식(년)']\n",
      "이산형 변수:  ['사고이력']\n",
      "연속형 변수:  ['배터리용량', '주행거리(km)', '가격(백만원)']\n"
     ]
    }
   ],
   "source": [
    "cat_col = []\n",
    "bin_col = []\n",
    "con_col = []\n",
    "\n",
    "for i in train.columns:\n",
    "    if train[i].nunique() > 21 :\n",
    "        con_col.append(i)\n",
    "    elif (train[i].nunique() <= 21) & (train[i].nunique() > 2):\n",
    "        cat_col.append(i)\n",
    "    else:\n",
    "        bin_col.append(i)\n",
    "        \n",
    "con_col.remove('ID')\n",
    "print('범주형 변수: ',cat_col)\n",
    "print('이산형 변수: ',bin_col)\n",
    "print('연속형 변수: ',con_col)"
   ]
  },
  {
   "cell_type": "markdown",
   "metadata": {},
   "source": [
    "\"한글을 인식하지 못할 상황을 대비한 전처리\"\n"
   ]
  },
  {
   "cell_type": "code",
   "execution_count": 216,
   "metadata": {},
   "outputs": [
    {
     "data": {
      "text/html": [
       "<div>\n",
       "<style scoped>\n",
       "    .dataframe tbody tr th:only-of-type {\n",
       "        vertical-align: middle;\n",
       "    }\n",
       "\n",
       "    .dataframe tbody tr th {\n",
       "        vertical-align: top;\n",
       "    }\n",
       "\n",
       "    .dataframe thead th {\n",
       "        text-align: right;\n",
       "    }\n",
       "</style>\n",
       "<table border=\"1\" class=\"dataframe\">\n",
       "  <thead>\n",
       "    <tr style=\"text-align: right;\">\n",
       "      <th></th>\n",
       "      <th>ID</th>\n",
       "      <th>제조사</th>\n",
       "      <th>모델</th>\n",
       "      <th>차량상태</th>\n",
       "      <th>배터리용량</th>\n",
       "      <th>구동방식</th>\n",
       "      <th>주행거리(km)</th>\n",
       "      <th>보증기간(년)</th>\n",
       "      <th>사고이력</th>\n",
       "      <th>연식(년)</th>\n",
       "      <th>가격(백만원)</th>\n",
       "    </tr>\n",
       "  </thead>\n",
       "  <tbody>\n",
       "    <tr>\n",
       "      <th>0</th>\n",
       "      <td>TRAIN_0000</td>\n",
       "      <td>P</td>\n",
       "      <td>TayGTS</td>\n",
       "      <td>Nearly New</td>\n",
       "      <td>86.077</td>\n",
       "      <td>AWD</td>\n",
       "      <td>13642</td>\n",
       "      <td>0</td>\n",
       "      <td>No</td>\n",
       "      <td>2</td>\n",
       "      <td>159.66</td>\n",
       "    </tr>\n",
       "    <tr>\n",
       "      <th>1</th>\n",
       "      <td>TRAIN_0001</td>\n",
       "      <td>K</td>\n",
       "      <td>Niro</td>\n",
       "      <td>Nearly New</td>\n",
       "      <td>56.000</td>\n",
       "      <td>FWD</td>\n",
       "      <td>10199</td>\n",
       "      <td>6</td>\n",
       "      <td>No</td>\n",
       "      <td>0</td>\n",
       "      <td>28.01</td>\n",
       "    </tr>\n",
       "    <tr>\n",
       "      <th>2</th>\n",
       "      <td>TRAIN_0002</td>\n",
       "      <td>A</td>\n",
       "      <td>eT</td>\n",
       "      <td>Brand New</td>\n",
       "      <td>91.200</td>\n",
       "      <td>AWD</td>\n",
       "      <td>2361</td>\n",
       "      <td>7</td>\n",
       "      <td>No</td>\n",
       "      <td>0</td>\n",
       "      <td>66.27</td>\n",
       "    </tr>\n",
       "    <tr>\n",
       "      <th>3</th>\n",
       "      <td>TRAIN_0003</td>\n",
       "      <td>A</td>\n",
       "      <td>RSeTGT</td>\n",
       "      <td>Nearly New</td>\n",
       "      <td>NaN</td>\n",
       "      <td>AWD</td>\n",
       "      <td>21683</td>\n",
       "      <td>3</td>\n",
       "      <td>No</td>\n",
       "      <td>0</td>\n",
       "      <td>99.16</td>\n",
       "    </tr>\n",
       "    <tr>\n",
       "      <th>4</th>\n",
       "      <td>TRAIN_0004</td>\n",
       "      <td>B</td>\n",
       "      <td>i5</td>\n",
       "      <td>Pre-Owned</td>\n",
       "      <td>61.018</td>\n",
       "      <td>AWD</td>\n",
       "      <td>178205</td>\n",
       "      <td>1</td>\n",
       "      <td>No</td>\n",
       "      <td>0</td>\n",
       "      <td>62.02</td>\n",
       "    </tr>\n",
       "  </tbody>\n",
       "</table>\n",
       "</div>"
      ],
      "text/plain": [
       "           ID 제조사      모델        차량상태   배터리용량 구동방식  주행거리(km)  보증기간(년) 사고이력  \\\n",
       "0  TRAIN_0000   P  TayGTS  Nearly New  86.077  AWD     13642        0   No   \n",
       "1  TRAIN_0001   K    Niro  Nearly New  56.000  FWD     10199        6   No   \n",
       "2  TRAIN_0002   A      eT   Brand New  91.200  AWD      2361        7   No   \n",
       "3  TRAIN_0003   A  RSeTGT  Nearly New     NaN  AWD     21683        3   No   \n",
       "4  TRAIN_0004   B      i5   Pre-Owned  61.018  AWD    178205        1   No   \n",
       "\n",
       "   연식(년)  가격(백만원)  \n",
       "0      2   159.66  \n",
       "1      0    28.01  \n",
       "2      0    66.27  \n",
       "3      0    99.16  \n",
       "4      0    62.02  "
      ]
     },
     "execution_count": 216,
     "metadata": {},
     "output_type": "execute_result"
    }
   ],
   "source": [
    "test['제조사'] = test['제조사'].apply(lambda x: x.replace('사',''))\n",
    "train['제조사'] = train['제조사'].apply(lambda x: x.replace('사',''))\n",
    "train.head()"
   ]
  },
  {
   "cell_type": "markdown",
   "metadata": {},
   "source": [
    "## EDA"
   ]
  },
  {
   "cell_type": "code",
   "execution_count": 217,
   "metadata": {},
   "outputs": [
    {
     "data": {
      "text/html": [
       "<div>\n",
       "<style scoped>\n",
       "    .dataframe tbody tr th:only-of-type {\n",
       "        vertical-align: middle;\n",
       "    }\n",
       "\n",
       "    .dataframe tbody tr th {\n",
       "        vertical-align: top;\n",
       "    }\n",
       "\n",
       "    .dataframe thead th {\n",
       "        text-align: right;\n",
       "    }\n",
       "</style>\n",
       "<table border=\"1\" class=\"dataframe\">\n",
       "  <thead>\n",
       "    <tr style=\"text-align: right;\">\n",
       "      <th></th>\n",
       "      <th>제조사</th>\n",
       "      <th>모델</th>\n",
       "      <th>차량상태</th>\n",
       "      <th>배터리용량</th>\n",
       "      <th>구동방식</th>\n",
       "      <th>주행거리(km)</th>\n",
       "      <th>보증기간(년)</th>\n",
       "      <th>사고이력</th>\n",
       "      <th>연식(년)</th>\n",
       "      <th>가격(백만원)</th>\n",
       "    </tr>\n",
       "  </thead>\n",
       "  <tbody>\n",
       "    <tr>\n",
       "      <th>0</th>\n",
       "      <td>P</td>\n",
       "      <td>TayGTS</td>\n",
       "      <td>Nearly New</td>\n",
       "      <td>86.077</td>\n",
       "      <td>AWD</td>\n",
       "      <td>13642</td>\n",
       "      <td>0</td>\n",
       "      <td>No</td>\n",
       "      <td>2</td>\n",
       "      <td>159.66</td>\n",
       "    </tr>\n",
       "    <tr>\n",
       "      <th>1</th>\n",
       "      <td>K</td>\n",
       "      <td>Niro</td>\n",
       "      <td>Nearly New</td>\n",
       "      <td>56.000</td>\n",
       "      <td>FWD</td>\n",
       "      <td>10199</td>\n",
       "      <td>6</td>\n",
       "      <td>No</td>\n",
       "      <td>0</td>\n",
       "      <td>28.01</td>\n",
       "    </tr>\n",
       "    <tr>\n",
       "      <th>2</th>\n",
       "      <td>A</td>\n",
       "      <td>eT</td>\n",
       "      <td>Brand New</td>\n",
       "      <td>91.200</td>\n",
       "      <td>AWD</td>\n",
       "      <td>2361</td>\n",
       "      <td>7</td>\n",
       "      <td>No</td>\n",
       "      <td>0</td>\n",
       "      <td>66.27</td>\n",
       "    </tr>\n",
       "    <tr>\n",
       "      <th>3</th>\n",
       "      <td>A</td>\n",
       "      <td>RSeTGT</td>\n",
       "      <td>Nearly New</td>\n",
       "      <td>NaN</td>\n",
       "      <td>AWD</td>\n",
       "      <td>21683</td>\n",
       "      <td>3</td>\n",
       "      <td>No</td>\n",
       "      <td>0</td>\n",
       "      <td>99.16</td>\n",
       "    </tr>\n",
       "    <tr>\n",
       "      <th>4</th>\n",
       "      <td>B</td>\n",
       "      <td>i5</td>\n",
       "      <td>Pre-Owned</td>\n",
       "      <td>61.018</td>\n",
       "      <td>AWD</td>\n",
       "      <td>178205</td>\n",
       "      <td>1</td>\n",
       "      <td>No</td>\n",
       "      <td>0</td>\n",
       "      <td>62.02</td>\n",
       "    </tr>\n",
       "  </tbody>\n",
       "</table>\n",
       "</div>"
      ],
      "text/plain": [
       "  제조사      모델        차량상태   배터리용량 구동방식  주행거리(km)  보증기간(년) 사고이력  연식(년)  가격(백만원)\n",
       "0   P  TayGTS  Nearly New  86.077  AWD     13642        0   No      2   159.66\n",
       "1   K    Niro  Nearly New  56.000  FWD     10199        6   No      0    28.01\n",
       "2   A      eT   Brand New  91.200  AWD      2361        7   No      0    66.27\n",
       "3   A  RSeTGT  Nearly New     NaN  AWD     21683        3   No      0    99.16\n",
       "4   B      i5   Pre-Owned  61.018  AWD    178205        1   No      0    62.02"
      ]
     },
     "execution_count": 217,
     "metadata": {},
     "output_type": "execute_result"
    }
   ],
   "source": [
    "df_c = train.copy()\n",
    "df_c.drop('ID',axis=1,inplace=True)\n",
    "df_c.head()"
   ]
  },
  {
   "cell_type": "code",
   "execution_count": 218,
   "metadata": {},
   "outputs": [
    {
     "data": {
      "image/png": "[encoded data removed]",
      "text/plain": [
       "<Figure size 1000x500 with 3 Axes>"
      ]
     },
     "metadata": {},
     "output_type": "display_data"
    }
   ],
   "source": [
    "import matplotlib.pyplot as plt\n",
    "import seaborn as sns\n",
    "plt.rcParams['font.family'] = 'Malgun Gothic'\n",
    "plt.style.use('ggplot')\n",
    "\n",
    "# 각 Feature의 분포도 plot\n",
    "fig,ax = plt.subplots(1,3,figsize=(10,5))\n",
    "ax = ax.flatten()\n",
    "\n",
    "for i,col in enumerate(con_col):\n",
    "    sns.histplot(df_c[col],ax=ax[i])"
   ]
  },
  {
   "cell_type": "code",
   "execution_count": 219,
   "metadata": {},
   "outputs": [
    {
     "data": {
      "text/plain": [
       "<seaborn.axisgrid.FacetGrid at 0x276ead65490>"
      ]
     },
     "execution_count": 219,
     "metadata": {},
     "output_type": "execute_result"
    },
    {
     "data": {
      "image/png": "[encoded data removed]",
      "text/plain": [
       "<Figure size 500x500 with 1 Axes>"
      ]
     },
     "metadata": {},
     "output_type": "display_data"
    }
   ],
   "source": [
    "sns.displot(df_c['보증기간(년)'])"
   ]
  },
  {
   "cell_type": "code",
   "execution_count": 220,
   "metadata": {},
   "outputs": [
    {
     "data": {
      "image/png": "[encoded data removed]",
      "text/plain": [
       "<Figure size 800x1000 with 6 Axes>"
      ]
     },
     "metadata": {},
     "output_type": "display_data"
    }
   ],
   "source": [
    "#범주형 변수의 분포\n",
    "fig,ax = plt.subplots(2,3,figsize=(8,10))\n",
    "ax = ax.flatten()\n",
    "for i,col in enumerate(cat_col):\n",
    "    sns.histplot(x=df_c[col],ax=ax[i])"
   ]
  },
  {
   "cell_type": "markdown",
   "metadata": {},
   "source": [
    "### 0. 종속변수(가격)\n",
    "- skewness:1\n",
    "결측치 X"
   ]
  },
  {
   "cell_type": "code",
   "execution_count": 221,
   "metadata": {},
   "outputs": [
    {
     "data": {
      "text/plain": [
       "<seaborn.axisgrid.FacetGrid at 0x276e8545b10>"
      ]
     },
     "execution_count": 221,
     "metadata": {},
     "output_type": "execute_result"
    },
    {
     "data": {
      "image/png": "[encoded data removed]",
      "text/plain": [
       "<Figure size 500x500 with 1 Axes>"
      ]
     },
     "metadata": {},
     "output_type": "display_data"
    }
   ],
   "source": [
    "import matplotlib.pyplot as plt\n",
    "import seaborn as sns\n",
    "\n",
    "plt.rcParams['font.family'] = 'Malgun Gothic'\n",
    "plt.style.use('ggplot')\n",
    "\n",
    "sns.displot(train['가격(백만원)'])"
   ]
  },
  {
   "cell_type": "code",
   "execution_count": 222,
   "metadata": {},
   "outputs": [
    {
     "data": {
      "text/plain": [
       "Index(['ID', '제조사', '모델', '차량상태', '배터리용량', '구동방식', '주행거리(km)', '보증기간(년)',\n",
       "       '사고이력', '연식(년)', '가격(백만원)'],\n",
       "      dtype='object')"
      ]
     },
     "execution_count": 222,
     "metadata": {},
     "output_type": "execute_result"
    }
   ],
   "source": [
    "train.columns"
   ]
  },
  {
   "cell_type": "markdown",
   "metadata": {},
   "source": [
    "### 1. 제조사\n",
    "- 각 제조사별 (7개)의 도수가 비슷함\n",
    "- P 제조사가 가장 차량의 가격이 높다."
   ]
  },
  {
   "cell_type": "code",
   "execution_count": 223,
   "metadata": {},
   "outputs": [
    {
     "data": {
      "text/plain": [
       "<Axes: xlabel='제조사', ylabel='가격(백만원)'>"
      ]
     },
     "execution_count": 223,
     "metadata": {},
     "output_type": "execute_result"
    },
    {
     "data": {
      "image/png": "[encoded data removed]",
      "text/plain": [
       "<Figure size 640x480 with 1 Axes>"
      ]
     },
     "metadata": {},
     "output_type": "display_data"
    }
   ],
   "source": [
    "sns.barplot(y=train['가격(백만원)'],x=train['제조사'])"
   ]
  },
  {
   "cell_type": "markdown",
   "metadata": {},
   "source": [
    "### 2. 모델\n",
    "- 대체로 분포 균일\n",
    "- 'TayGTS'모델의 값이 가장 높으며, IonicQ의 모델 가격이 가장 낮음\n",
    "\n"
   ]
  },
  {
   "cell_type": "code",
   "execution_count": 224,
   "metadata": {},
   "outputs": [
    {
     "data": {
      "text/plain": [
       "array(['TayGTS', 'Niro', 'eT', 'RSeTGT', 'i5', 'ION6', 'MS', 'MY', 'Q4eT',\n",
       "       'ID4', 'TayCT', 'Soul', 'iX', 'MX', 'IONIQ', 'EV6', 'KNE', 'M3',\n",
       "       'i3', 'ION5', 'Tay'], dtype=object)"
      ]
     },
     "execution_count": 224,
     "metadata": {},
     "output_type": "execute_result"
    }
   ],
   "source": [
    "train['모델'].unique()"
   ]
  },
  {
   "cell_type": "code",
   "execution_count": 225,
   "metadata": {},
   "outputs": [
    {
     "data": {
      "text/plain": [
       "<Axes: ylabel='가격(백만원)'>"
      ]
     },
     "execution_count": 225,
     "metadata": {},
     "output_type": "execute_result"
    },
    {
     "data": {
      "image/png": "[encoded data removed]",
      "text/plain": [
       "<Figure size 1000x800 with 1 Axes>"
      ]
     },
     "metadata": {},
     "output_type": "display_data"
    }
   ],
   "source": [
    "plt.figure(figsize=(10,8))\n",
    "sns.barplot(y=train['가격(백만원)'],hue=train['모델'])"
   ]
  },
  {
   "cell_type": "markdown",
   "metadata": {},
   "source": [
    "### 3. 차량상태\n",
    "- 분포도 비슷하고, 차량상태에따른 가격 변동차이도 거의 없음."
   ]
  },
  {
   "cell_type": "code",
   "execution_count": 226,
   "metadata": {},
   "outputs": [
    {
     "data": {
      "text/plain": [
       "<Axes: ylabel='가격(백만원)'>"
      ]
     },
     "execution_count": 226,
     "metadata": {},
     "output_type": "execute_result"
    },
    {
     "data": {
      "image/png": "[encoded data removed]",
      "text/plain": [
       "<Figure size 640x480 with 1 Axes>"
      ]
     },
     "metadata": {},
     "output_type": "display_data"
    }
   ],
   "source": [
    "sns.barplot(y=train['가격(백만원)'],hue=train['차량상태'])"
   ]
  },
  {
   "cell_type": "markdown",
   "metadata": {},
   "source": [
    "### 4. 배터리용량 \n",
    "- 용량이 69.397187인 도수가 가장 많은 부분을 차지.\n",
    "- 대체로 배터리용량이 증가할 수록 가격도 상승하는 상관관계"
   ]
  },
  {
   "cell_type": "code",
   "execution_count": 227,
   "metadata": {},
   "outputs": [
    {
     "data": {
      "text/plain": [
       "2711"
      ]
     },
     "execution_count": 227,
     "metadata": {},
     "output_type": "execute_result"
    }
   ],
   "source": [
    "train['배터리용량'].isna().sum()"
   ]
  },
  {
   "cell_type": "code",
   "execution_count": 228,
   "metadata": {},
   "outputs": [],
   "source": [
    "df_missing_train = train.loc[train['배터리용량'].isna()]\n",
    "df_missing_test = test.loc[test['배터리용량'].isna()]"
   ]
  },
  {
   "cell_type": "code",
   "execution_count": 229,
   "metadata": {},
   "outputs": [
    {
     "data": {
      "text/plain": [
       "<Axes: xlabel='배터리용량', ylabel='가격(백만원)'>"
      ]
     },
     "execution_count": 229,
     "metadata": {},
     "output_type": "execute_result"
    },
    {
     "data": {
      "image/png": "[encoded data removed]",
      "text/plain": [
       "<Figure size 640x480 with 1 Axes>"
      ]
     },
     "metadata": {},
     "output_type": "display_data"
    }
   ],
   "source": [
    "sns.regplot(y=train['가격(백만원)'],x=train['배터리용량'])"
   ]
  },
  {
   "cell_type": "markdown",
   "metadata": {},
   "source": [
    "### 5. 구동방식\n",
    "- 분포에는 크게 차이는 없다. AWD의 가격이 많이 높다"
   ]
  },
  {
   "cell_type": "code",
   "execution_count": 230,
   "metadata": {},
   "outputs": [
    {
     "data": {
      "text/plain": [
       "<Axes: ylabel='가격(백만원)'>"
      ]
     },
     "execution_count": 230,
     "metadata": {},
     "output_type": "execute_result"
    },
    {
     "data": {
      "image/png": "[encoded data removed]",
      "text/plain": [
       "<Figure size 640x480 with 1 Axes>"
      ]
     },
     "metadata": {},
     "output_type": "display_data"
    }
   ],
   "source": [
    "sns.barplot(y=train['가격(백만원)'],hue=train['구동방식'])"
   ]
  },
  {
   "cell_type": "markdown",
   "metadata": {},
   "source": [
    "## Feature Engineering\n",
    "- 종속변수에 가장 상관관계 -> 배터리용량 / 보증기간"
   ]
  },
  {
   "cell_type": "code",
   "execution_count": 231,
   "metadata": {},
   "outputs": [
    {
     "data": {
      "text/html": [
       "<div>\n",
       "<style scoped>\n",
       "    .dataframe tbody tr th:only-of-type {\n",
       "        vertical-align: middle;\n",
       "    }\n",
       "\n",
       "    .dataframe tbody tr th {\n",
       "        vertical-align: top;\n",
       "    }\n",
       "\n",
       "    .dataframe thead th {\n",
       "        text-align: right;\n",
       "    }\n",
       "</style>\n",
       "<table border=\"1\" class=\"dataframe\">\n",
       "  <thead>\n",
       "    <tr style=\"text-align: right;\">\n",
       "      <th></th>\n",
       "      <th>배터리용량</th>\n",
       "      <th>주행거리(km)</th>\n",
       "      <th>보증기간(년)</th>\n",
       "      <th>연식(년)</th>\n",
       "      <th>가격(백만원)</th>\n",
       "    </tr>\n",
       "  </thead>\n",
       "  <tbody>\n",
       "    <tr>\n",
       "      <th>배터리용량</th>\n",
       "      <td>1.000000</td>\n",
       "      <td>-0.576538</td>\n",
       "      <td>0.558242</td>\n",
       "      <td>-0.021845</td>\n",
       "      <td>0.431668</td>\n",
       "    </tr>\n",
       "    <tr>\n",
       "      <th>주행거리(km)</th>\n",
       "      <td>-0.576538</td>\n",
       "      <td>1.000000</td>\n",
       "      <td>-0.664071</td>\n",
       "      <td>-0.089586</td>\n",
       "      <td>-0.035488</td>\n",
       "    </tr>\n",
       "    <tr>\n",
       "      <th>보증기간(년)</th>\n",
       "      <td>0.558242</td>\n",
       "      <td>-0.664071</td>\n",
       "      <td>1.000000</td>\n",
       "      <td>0.035294</td>\n",
       "      <td>-0.349962</td>\n",
       "    </tr>\n",
       "    <tr>\n",
       "      <th>연식(년)</th>\n",
       "      <td>-0.021845</td>\n",
       "      <td>-0.089586</td>\n",
       "      <td>0.035294</td>\n",
       "      <td>1.000000</td>\n",
       "      <td>-0.058455</td>\n",
       "    </tr>\n",
       "    <tr>\n",
       "      <th>가격(백만원)</th>\n",
       "      <td>0.431668</td>\n",
       "      <td>-0.035488</td>\n",
       "      <td>-0.349962</td>\n",
       "      <td>-0.058455</td>\n",
       "      <td>1.000000</td>\n",
       "    </tr>\n",
       "  </tbody>\n",
       "</table>\n",
       "</div>"
      ],
      "text/plain": [
       "             배터리용량  주행거리(km)   보증기간(년)     연식(년)   가격(백만원)\n",
       "배터리용량     1.000000 -0.576538  0.558242 -0.021845  0.431668\n",
       "주행거리(km) -0.576538  1.000000 -0.664071 -0.089586 -0.035488\n",
       "보증기간(년)   0.558242 -0.664071  1.000000  0.035294 -0.349962\n",
       "연식(년)    -0.021845 -0.089586  0.035294  1.000000 -0.058455\n",
       "가격(백만원)   0.431668 -0.035488 -0.349962 -0.058455  1.000000"
      ]
     },
     "execution_count": 231,
     "metadata": {},
     "output_type": "execute_result"
    }
   ],
   "source": [
    "df_c = train.copy()\n",
    "train_ID = df_c['ID']\n",
    "\n",
    "df1_c = test.copy()\n",
    "test_ID = df1_c['ID']\n",
    "\n",
    "df_c.drop('ID',axis=1,inplace=True)\n",
    "df1_c.drop('ID',axis=1,inplace=True)\n",
    "\n",
    "df_c.corr(numeric_only=True)"
   ]
  },
  {
   "cell_type": "code",
   "execution_count": 232,
   "metadata": {},
   "outputs": [],
   "source": [
    "#df_c['배터리용량'] = df_c['배터리용량'].fillna(df_c['배터리용량'].mean())\n",
    "#df1_c['배터리용량'] = df1_c['배터리용량'].fillna(df1_c['배터리용량'].mean())"
   ]
  },
  {
   "cell_type": "markdown",
   "metadata": {},
   "source": [
    "Label Encoding for Categorical Data"
   ]
  },
  {
   "cell_type": "code",
   "execution_count": 233,
   "metadata": {},
   "outputs": [],
   "source": [
    "from sklearn.preprocessing import LabelEncoder\n",
    "le = LabelEncoder()\n",
    "df_c[cat_col] = df_c[cat_col].apply(lambda x: le.fit_transform(x))\n",
    "df1_c[cat_col] = df1_c[cat_col].apply(lambda x: le.fit_transform(x))\n",
    "\n",
    "df_c['사고이력']  = le.fit_transform(df_c['사고이력'])\n",
    "df1_c['사고이력']  = le.fit_transform(df1_c['사고이력'])"
   ]
  },
  {
   "cell_type": "markdown",
   "metadata": {},
   "source": [
    "## 모델 탐색"
   ]
  },
  {
   "cell_type": "markdown",
   "metadata": {},
   "source": [
    "### XGBRegressor\n",
    "\n",
    "- column값 삭제 : 1.578\n",
    "- column(배타리 용량)값 평균값 : 1.52\n",
    "- xgboost 자체처리: 1.473 (아무 파라미터 조정X)"
   ]
  },
  {
   "cell_type": "code",
   "execution_count": 234,
   "metadata": {},
   "outputs": [],
   "source": [
    "from optuna import Trial,visualization\n",
    "from optuna.samplers import TPESampler\n",
    "import optuna\n",
    "from xgboost import XGBRegressor\n",
    "from sklearn.metrics import root_mean_squared_error\n",
    "\n",
    "\n",
    "def objectivexgr(trial:Trial,X,y):\n",
    "    param = {'random_state':42,\n",
    "             'n_estimators':772,\n",
    "             'learning_rate':0.221,\n",
    "             'max_depth':6,\n",
    "             'min_child_weight':5} \n",
    "    model = XGBRegressor(**param)\n",
    "    xgb_model = model.fit(X,y,verbose=False)\n",
    "    answer = xgb_model.predict(X)\n",
    "    score = root_mean_squared_error(y,answer)\n",
    "\n",
    "    return score"
   ]
  },
  {
   "cell_type": "code",
   "execution_count": 235,
   "metadata": {},
   "outputs": [
    {
     "name": "stderr",
     "output_type": "stream",
     "text": [
      "[I 2025-01-08 16:55:58,213] A new study created in memory with name: no-name-1d63adba-b991-416a-a2df-6815501c873e\n",
      "[I 2025-01-08 16:55:58,885] Trial 0 finished with value: 0.6810418633917933 and parameters: {}. Best is trial 0 with value: 0.6810418633917933.\n",
      "[I 2025-01-08 16:55:59,490] Trial 1 finished with value: 0.6810418633917933 and parameters: {}. Best is trial 0 with value: 0.6810418633917933.\n",
      "[I 2025-01-08 16:56:00,097] Trial 2 finished with value: 0.6810418633917933 and parameters: {}. Best is trial 0 with value: 0.6810418633917933.\n",
      "[I 2025-01-08 16:56:00,689] Trial 3 finished with value: 0.6810418633917933 and parameters: {}. Best is trial 0 with value: 0.6810418633917933.\n",
      "[I 2025-01-08 16:56:01,286] Trial 4 finished with value: 0.6810418633917933 and parameters: {}. Best is trial 0 with value: 0.6810418633917933.\n",
      "[I 2025-01-08 16:56:01,891] Trial 5 finished with value: 0.6810418633917933 and parameters: {}. Best is trial 0 with value: 0.6810418633917933.\n",
      "[I 2025-01-08 16:56:02,524] Trial 6 finished with value: 0.6810418633917933 and parameters: {}. Best is trial 0 with value: 0.6810418633917933.\n",
      "[I 2025-01-08 16:56:03,119] Trial 7 finished with value: 0.6810418633917933 and parameters: {}. Best is trial 0 with value: 0.6810418633917933.\n",
      "[I 2025-01-08 16:56:03,705] Trial 8 finished with value: 0.6810418633917933 and parameters: {}. Best is trial 0 with value: 0.6810418633917933.\n",
      "[I 2025-01-08 16:56:04,294] Trial 9 finished with value: 0.6810418633917933 and parameters: {}. Best is trial 0 with value: 0.6810418633917933.\n"
     ]
    },
    {
     "name": "stdout",
     "output_type": "stream",
     "text": [
      "Best trial: score 0.6810418633917933, \n",
      "parmas {}\n"
     ]
    }
   ],
   "source": [
    "study = optuna.create_study(direction='minimize',sampler=TPESampler(seed=2024))\n",
    "\n",
    "study.optimize(lambda trial: objectivexgr(trial,df_c.drop(columns=['가격(백만원)']),df_c['가격(백만원)']),n_trials=10)\n",
    "print('Best trial: score: {}, \\nparmas: {}'.format(study.best_trial.value,study.best_trial.params))"
   ]
  },
  {
   "cell_type": "code",
   "execution_count": 236,
   "metadata": {},
   "outputs": [
    {
     "data": {
      "application/vnd.plotly.v1+json": {
       "config": {
        "plotlyServerURL": "https://plot.ly"
       },
       "data": [
        {
         "mode": "markers",
         "name": "Objective Value",
         "type": "scatter",
         "x": [
          0,
          1,
          2,
          3,
          4,
          5,
          6,
          7,
          8,
          9
         ],
         "y": [
          0.6810418633917933,
          0.6810418633917933,
          0.6810418633917933,
          0.6810418633917933,
          0.6810418633917933,
          0.6810418633917933,
          0.6810418633917933,
          0.6810418633917933,
          0.6810418633917933,
          0.6810418633917933
         ]
        },
        {
         "mode": "lines",
         "name": "Best Value",
         "type": "scatter",
         "x": [
          0,
          1,
          2,
          3,
          4,
          5,
          6,
          7,
          8,
          9
         ],
         "y": [
          0.6810418633917933,
          0.6810418633917933,
          0.6810418633917933,
          0.6810418633917933,
          0.6810418633917933,
          0.6810418633917933,
          0.6810418633917933,
          0.6810418633917933,
          0.6810418633917933,
          0.6810418633917933
         ]
        },
        {
         "marker": {
          "color": "#cccccc"
         },
         "mode": "markers",
         "name": "Infeasible Trial",
         "showlegend": false,
         "type": "scatter",
         "x": [],
         "y": []
        }
       ],
       "layout": {
        "template": {
         "data": {
          "bar": [
           {
            "error_x": {
             "color": "#2a3f5f"
            },
            "error_y": {
             "color": "#2a3f5f"
            },
            "marker": {
             "line": {
              "color": "#E5ECF6",
              "width": 0.5
             },
             "pattern": {
              "fillmode": "overlay",
              "size": 10,
              "solidity": 0.2
             }
            },
            "type": "bar"
           }
          ],
          "barpolar": [
           {
            "marker": {
             "line": {
              "color": "#E5ECF6",
              "width": 0.5
             },
             "pattern": {
              "fillmode": "overlay",
              "size": 10,
              "solidity": 0.2
             }
            },
            "type": "barpolar"
           }
          ],
          "carpet": [
           {
            "aaxis": {
             "endlinecolor": "#2a3f5f",
             "gridcolor": "white",
             "linecolor": "white",
             "minorgridcolor": "white",
             "startlinecolor": "#2a3f5f"
            },
            "baxis": {
             "endlinecolor": "#2a3f5f",
             "gridcolor": "white",
             "linecolor": "white",
             "minorgridcolor": "white",
             "startlinecolor": "#2a3f5f"
            },
            "type": "carpet"
           }
          ],
          "choropleth": [
           {
            "colorbar": {
             "outlinewidth": 0,
             "ticks": ""
            },
            "type": "choropleth"
           }
          ],
          "contour": [
           {
            "colorbar": {
             "outlinewidth": 0,
             "ticks": ""
            },
            "colorscale": [
             [
              0,
              "#0d0887"
             ],
             [
              0.1111111111111111,
              "#46039f"
             ],
             [
              0.2222222222222222,
              "#7201a8"
             ],
             [
              0.3333333333333333,
              "#9c179e"
             ],
             [
              0.4444444444444444,
              "#bd3786"
             ],
             [
              0.5555555555555556,
              "#d8576b"
             ],
             [
              0.6666666666666666,
              "#ed7953"
             ],
             [
              0.7777777777777778,
              "#fb9f3a"
             ],
             [
              0.8888888888888888,
              "#fdca26"
             ],
             [
              1,
              "#f0f921"
             ]
            ],
            "type": "contour"
           }
          ],
          "contourcarpet": [
           {
            "colorbar": {
             "outlinewidth": 0,
             "ticks": ""
            },
            "type": "contourcarpet"
           }
          ],
          "heatmap": [
           {
            "colorbar": {
             "outlinewidth": 0,
             "ticks": ""
            },
            "colorscale": [
             [
              0,
              "#0d0887"
             ],
             [
              0.1111111111111111,
              "#46039f"
             ],
             [
              0.2222222222222222,
              "#7201a8"
             ],
             [
              0.3333333333333333,
              "#9c179e"
             ],
             [
              0.4444444444444444,
              "#bd3786"
             ],
             [
              0.5555555555555556,
              "#d8576b"
             ],
             [
              0.6666666666666666,
              "#ed7953"
             ],
             [
              0.7777777777777778,
              "#fb9f3a"
             ],
             [
              0.8888888888888888,
              "#fdca26"
             ],
             [
              1,
              "#f0f921"
             ]
            ],
            "type": "heatmap"
           }
          ],
          "heatmapgl": [
           {
            "colorbar": {
             "outlinewidth": 0,
             "ticks": ""
            },
            "colorscale": [
             [
              0,
              "#0d0887"
             ],
             [
              0.1111111111111111,
              "#46039f"
             ],
             [
              0.2222222222222222,
              "#7201a8"
             ],
             [
              0.3333333333333333,
              "#9c179e"
             ],
             [
              0.4444444444444444,
              "#bd3786"
             ],
             [
              0.5555555555555556,
              "#d8576b"
             ],
             [
              0.6666666666666666,
              "#ed7953"
             ],
             [
              0.7777777777777778,
              "#fb9f3a"
             ],
             [
              0.8888888888888888,
              "#fdca26"
             ],
             [
              1,
              "#f0f921"
             ]
            ],
            "type": "heatmapgl"
           }
          ],
          "histogram": [
           {
            "marker": {
             "pattern": {
              "fillmode": "overlay",
              "size": 10,
              "solidity": 0.2
             }
            },
            "type": "histogram"
           }
          ],
          "histogram2d": [
           {
            "colorbar": {
             "outlinewidth": 0,
             "ticks": ""
            },
            "colorscale": [
             [
              0,
              "#0d0887"
             ],
             [
              0.1111111111111111,
              "#46039f"
             ],
             [
              0.2222222222222222,
              "#7201a8"
             ],
             [
              0.3333333333333333,
              "#9c179e"
             ],
             [
              0.4444444444444444,
              "#bd3786"
             ],
             [
              0.5555555555555556,
              "#d8576b"
             ],
             [
              0.6666666666666666,
              "#ed7953"
             ],
             [
              0.7777777777777778,
              "#fb9f3a"
             ],
             [
              0.8888888888888888,
              "#fdca26"
             ],
             [
              1,
              "#f0f921"
             ]
            ],
            "type": "histogram2d"
           }
          ],
          "histogram2dcontour": [
           {
            "colorbar": {
             "outlinewidth": 0,
             "ticks": ""
            },
            "colorscale": [
             [
              0,
              "#0d0887"
             ],
             [
              0.1111111111111111,
              "#46039f"
             ],
             [
              0.2222222222222222,
              "#7201a8"
             ],
             [
              0.3333333333333333,
              "#9c179e"
             ],
             [
              0.4444444444444444,
              "#bd3786"
             ],
             [
              0.5555555555555556,
              "#d8576b"
             ],
             [
              0.6666666666666666,
              "#ed7953"
             ],
             [
              0.7777777777777778,
              "#fb9f3a"
             ],
             [
              0.8888888888888888,
              "#fdca26"
             ],
             [
              1,
              "#f0f921"
             ]
            ],
            "type": "histogram2dcontour"
           }
          ],
          "mesh3d": [
           {
            "colorbar": {
             "outlinewidth": 0,
             "ticks": ""
            },
            "type": "mesh3d"
           }
          ],
          "parcoords": [
           {
            "line": {
             "colorbar": {
              "outlinewidth": 0,
              "ticks": ""
             }
            },
            "type": "parcoords"
           }
          ],
          "pie": [
           {
            "automargin": true,
            "type": "pie"
           }
          ],
          "scatter": [
           {
            "fillpattern": {
             "fillmode": "overlay",
             "size": 10,
             "solidity": 0.2
            },
            "type": "scatter"
           }
          ],
          "scatter3d": [
           {
            "line": {
             "colorbar": {
              "outlinewidth": 0,
              "ticks": ""
             }
            },
            "marker": {
             "colorbar": {
              "outlinewidth": 0,
              "ticks": ""
             }
            },
            "type": "scatter3d"
           }
          ],
          "scattercarpet": [
           {
            "marker": {
             "colorbar": {
              "outlinewidth": 0,
              "ticks": ""
             }
            },
            "type": "scattercarpet"
           }
          ],
          "scattergeo": [
           {
            "marker": {
             "colorbar": {
              "outlinewidth": 0,
              "ticks": ""
             }
            },
            "type": "scattergeo"
           }
          ],
          "scattergl": [
           {
            "marker": {
             "colorbar": {
              "outlinewidth": 0,
              "ticks": ""
             }
            },
            "type": "scattergl"
           }
          ],
          "scattermapbox": [
           {
            "marker": {
             "colorbar": {
              "outlinewidth": 0,
              "ticks": ""
             }
            },
            "type": "scattermapbox"
           }
          ],
          "scatterpolar": [
           {
            "marker": {
             "colorbar": {
              "outlinewidth": 0,
              "ticks": ""
             }
            },
            "type": "scatterpolar"
           }
          ],
          "scatterpolargl": [
           {
            "marker": {
             "colorbar": {
              "outlinewidth": 0,
              "ticks": ""
             }
            },
            "type": "scatterpolargl"
           }
          ],
          "scatterternary": [
           {
            "marker": {
             "colorbar": {
              "outlinewidth": 0,
              "ticks": ""
             }
            },
            "type": "scatterternary"
           }
          ],
          "surface": [
           {
            "colorbar": {
             "outlinewidth": 0,
             "ticks": ""
            },
            "colorscale": [
             [
              0,
              "#0d0887"
             ],
             [
              0.1111111111111111,
              "#46039f"
             ],
             [
              0.2222222222222222,
              "#7201a8"
             ],
             [
              0.3333333333333333,
              "#9c179e"
             ],
             [
              0.4444444444444444,
              "#bd3786"
             ],
             [
              0.5555555555555556,
              "#d8576b"
             ],
             [
              0.6666666666666666,
              "#ed7953"
             ],
             [
              0.7777777777777778,
              "#fb9f3a"
             ],
             [
              0.8888888888888888,
              "#fdca26"
             ],
             [
              1,
              "#f0f921"
             ]
            ],
            "type": "surface"
           }
          ],
          "table": [
           {
            "cells": {
             "fill": {
              "color": "#EBF0F8"
             },
             "line": {
              "color": "white"
             }
            },
            "header": {
             "fill": {
              "color": "#C8D4E3"
             },
             "line": {
              "color": "white"
             }
            },
            "type": "table"
           }
          ]
         },
         "layout": {
          "annotationdefaults": {
           "arrowcolor": "#2a3f5f",
           "arrowhead": 0,
           "arrowwidth": 1
          },
          "autotypenumbers": "strict",
          "coloraxis": {
           "colorbar": {
            "outlinewidth": 0,
            "ticks": ""
           }
          },
          "colorscale": {
           "diverging": [
            [
             0,
             "#8e0152"
            ],
            [
             0.1,
             "#c51b7d"
            ],
            [
             0.2,
             "#de77ae"
            ],
            [
             0.3,
             "#f1b6da"
            ],
            [
             0.4,
             "#fde0ef"
            ],
            [
             0.5,
             "#f7f7f7"
            ],
            [
             0.6,
             "#e6f5d0"
            ],
            [
             0.7,
             "#b8e186"
            ],
            [
             0.8,
             "#7fbc41"
            ],
            [
             0.9,
             "#4d9221"
            ],
            [
             1,
             "#276419"
            ]
           ],
           "sequential": [
            [
             0,
             "#0d0887"
            ],
            [
             0.1111111111111111,
             "#46039f"
            ],
            [
             0.2222222222222222,
             "#7201a8"
            ],
            [
             0.3333333333333333,
             "#9c179e"
            ],
            [
             0.4444444444444444,
             "#bd3786"
            ],
            [
             0.5555555555555556,
             "#d8576b"
            ],
            [
             0.6666666666666666,
             "#ed7953"
            ],
            [
             0.7777777777777778,
             "#fb9f3a"
            ],
            [
             0.8888888888888888,
             "#fdca26"
            ],
            [
             1,
             "#f0f921"
            ]
           ],
           "sequentialminus": [
            [
             0,
             "#0d0887"
            ],
            [
             0.1111111111111111,
             "#46039f"
            ],
            [
             0.2222222222222222,
             "#7201a8"
            ],
            [
             0.3333333333333333,
             "#9c179e"
            ],
            [
             0.4444444444444444,
             "#bd3786"
            ],
            [
             0.5555555555555556,
             "#d8576b"
            ],
            [
             0.6666666666666666,
             "#ed7953"
            ],
            [
             0.7777777777777778,
             "#fb9f3a"
            ],
            [
             0.8888888888888888,
             "#fdca26"
            ],
            [
             1,
             "#f0f921"
            ]
           ]
          },
          "colorway": [
           "#636efa",
           "#EF553B",
           "#00cc96",
           "#ab63fa",
           "#FFA15A",
           "#19d3f3",
           "#FF6692",
           "#B6E880",
           "#FF97FF",
           "#FECB52"
          ],
          "font": {
           "color": "#2a3f5f"
          },
          "geo": {
           "bgcolor": "white",
           "lakecolor": "white",
           "landcolor": "#E5ECF6",
           "showlakes": true,
           "showland": true,
           "subunitcolor": "white"
          },
          "hoverlabel": {
           "align": "left"
          },
          "hovermode": "closest",
          "mapbox": {
           "style": "light"
          },
          "paper_bgcolor": "white",
          "plot_bgcolor": "#E5ECF6",
          "polar": {
           "angularaxis": {
            "gridcolor": "white",
            "linecolor": "white",
            "ticks": ""
           },
           "bgcolor": "#E5ECF6",
           "radialaxis": {
            "gridcolor": "white",
            "linecolor": "white",
            "ticks": ""
           }
          },
          "scene": {
           "xaxis": {
            "backgroundcolor": "#E5ECF6",
            "gridcolor": "white",
            "gridwidth": 2,
            "linecolor": "white",
            "showbackground": true,
            "ticks": "",
            "zerolinecolor": "white"
           },
           "yaxis": {
            "backgroundcolor": "#E5ECF6",
            "gridcolor": "white",
            "gridwidth": 2,
            "linecolor": "white",
            "showbackground": true,
            "ticks": "",
            "zerolinecolor": "white"
           },
           "zaxis": {
            "backgroundcolor": "#E5ECF6",
            "gridcolor": "white",
            "gridwidth": 2,
            "linecolor": "white",
            "showbackground": true,
            "ticks": "",
            "zerolinecolor": "white"
           }
          },
          "shapedefaults": {
           "line": {
            "color": "#2a3f5f"
           }
          },
          "ternary": {
           "aaxis": {
            "gridcolor": "white",
            "linecolor": "white",
            "ticks": ""
           },
           "baxis": {
            "gridcolor": "white",
            "linecolor": "white",
            "ticks": ""
           },
           "bgcolor": "#E5ECF6",
           "caxis": {
            "gridcolor": "white",
            "linecolor": "white",
            "ticks": ""
           }
          },
          "title": {
           "x": 0.05
          },
          "xaxis": {
           "automargin": true,
           "gridcolor": "white",
           "linecolor": "white",
           "ticks": "",
           "title": {
            "standoff": 15
           },
           "zerolinecolor": "white",
           "zerolinewidth": 2
          },
          "yaxis": {
           "automargin": true,
           "gridcolor": "white",
           "linecolor": "white",
           "ticks": "",
           "title": {
            "standoff": 15
           },
           "zerolinecolor": "white",
           "zerolinewidth": 2
          }
         }
        },
        "title": {
         "text": "Optimization History Plot"
        },
        "xaxis": {
         "title": {
          "text": "Trial"
         }
        },
        "yaxis": {
         "title": {
          "text": "Objective Value"
         }
        }
       }
      }
     },
     "metadata": {},
     "output_type": "display_data"
    }
   ],
   "source": [
    "optuna.visualization.plot_optimization_history(study)"
   ]
  },
  {
   "cell_type": "code",
   "execution_count": 237,
   "metadata": {},
   "outputs": [],
   "source": [
    "df_c.shape,df1_c.shape\n",
    "X,y = df_c.drop(columns=['가격(백만원)']),df_c['가격(백만원)']\n",
    "X_test = df1_c"
   ]
  },
  {
   "cell_type": "code",
   "execution_count": 238,
   "metadata": {},
   "outputs": [
    {
     "data": {
      "text/plain": [
       "제조사           int32\n",
       "모델            int32\n",
       "차량상태          int32\n",
       "배터리용량       float64\n",
       "구동방식          int32\n",
       "주행거리(km)      int64\n",
       "보증기간(년)       int64\n",
       "사고이력          int32\n",
       "연식(년)         int64\n",
       "dtype: object"
      ]
     },
     "execution_count": 238,
     "metadata": {},
     "output_type": "execute_result"
    }
   ],
   "source": [
    "X_test.dtypes"
   ]
  },
  {
   "cell_type": "code",
   "execution_count": 239,
   "metadata": {},
   "outputs": [
    {
     "name": "stdout",
     "output_type": "stream",
     "text": [
      "Fold 1 / Fold 5\n",
      "Train RMSE: 0.7996472980091601\n",
      "Val RMSE: 1.3536349030428765\n",
      "------------------------------\n",
      "Fold 2 / Fold 5\n",
      "Train RMSE: 0.8043971025225828\n",
      "Val RMSE: 1.52278696811948\n",
      "------------------------------\n",
      "Fold 3 / Fold 5\n",
      "Train RMSE: 0.7637315105786793\n",
      "Val RMSE: 1.628376837180181\n",
      "------------------------------\n",
      "Fold 4 / Fold 5\n",
      "Train RMSE: 0.7681508156293643\n",
      "Val RMSE: 1.4470189331190506\n",
      "------------------------------\n",
      "Fold 5 / Fold 5\n",
      "Train RMSE: 0.7485499868594261\n",
      "Val RMSE: 1.418055600760582\n",
      "------------------------------\n",
      "RMSE: 1.4739746484444338\n"
     ]
    }
   ],
   "source": [
    "import numpy as np\n",
    "from sklearn.model_selection import KFold\n",
    "folds = KFold(n_splits=5,shuffle=True,random_state=2025)\n",
    "\n",
    "test_prediction = np.zeros(len(X_test))\n",
    "val_scores = []\n",
    "\n",
    "for idx,(train_idx,val_idx) in enumerate(folds.split(X,y)):\n",
    "    print(f'Fold {idx+1} / Fold {folds.n_splits}')\n",
    "    X_train,y_train = X.iloc[train_idx],y.iloc[train_idx]\n",
    "    X_val,y_val = X.iloc[val_idx],y.iloc[val_idx]\n",
    "\n",
    "    xgb_model = XGBRegressor(**study.best_params)\n",
    "\n",
    "    xgb_model.fit(X_train,y_train)\n",
    "\n",
    "    train_y_pred = xgb_model.predict(X_train)\n",
    "    val_y_pred = xgb_model.predict(X_val)\n",
    "\n",
    "    print(f'Train RMSE: {root_mean_squared_error(y_train,train_y_pred)}')\n",
    "    print(f'Val RMSE: {root_mean_squared_error(y_val,val_y_pred)}')\n",
    "    print('-'*30)\n",
    "\n",
    "    #Average of the Fold's Prediction for test data(X_test) => using as the submission\n",
    "    test_prediction += xgb_model.predict(X_test) / folds.n_splits   #5-fold\n",
    "    y_preds = xgb_model.predict(X_val)\n",
    "    val_scores.append(root_mean_squared_error(y_val,y_preds))\n",
    "\n",
    "print(f'RMSE: {np.array(val_scores).mean()}')"
   ]
  },
  {
   "cell_type": "markdown",
   "metadata": {},
   "source": [
    "### Light-GBM"
   ]
  },
  {
   "cell_type": "code",
   "execution_count": 252,
   "metadata": {},
   "outputs": [],
   "source": [
    "from optuna import trial,visualization\n",
    "from optuna.samplers import TPESampler\n",
    "import optuna\n",
    "\n",
    "from lightgbm import LGBMRegressor\n",
    "def objectivelgb(trial:Trial,X,y):\n",
    "    param ={'random_state':2025}\n",
    "\n",
    "    lgb_model = LGBMRegressor(**param)\n",
    "    lgb_model.fit(X,y)\n",
    "\n",
    "    pred = lgb_model.predict(X)\n",
    "    score = root_mean_squared_error(y,pred)\n",
    "\n",
    "    return score"
   ]
  },
  {
   "cell_type": "code",
   "execution_count": 253,
   "metadata": {},
   "outputs": [
    {
     "name": "stderr",
     "output_type": "stream",
     "text": [
      "[I 2025-01-08 17:30:44,199] A new study created in memory with name: no-name-9d51e048-993e-4f8f-9365-063e268af978\n",
      "[I 2025-01-08 17:30:44,284] Trial 0 finished with value: 1.1396787273940583 and parameters: {}. Best is trial 0 with value: 1.1396787273940583.\n",
      "[I 2025-01-08 17:30:44,367] Trial 1 finished with value: 1.1396787273940583 and parameters: {}. Best is trial 0 with value: 1.1396787273940583.\n",
      "[I 2025-01-08 17:30:44,447] Trial 2 finished with value: 1.1396787273940583 and parameters: {}. Best is trial 0 with value: 1.1396787273940583.\n",
      "[I 2025-01-08 17:30:44,523] Trial 3 finished with value: 1.1396787273940583 and parameters: {}. Best is trial 0 with value: 1.1396787273940583.\n",
      "[I 2025-01-08 17:30:44,602] Trial 4 finished with value: 1.1396787273940583 and parameters: {}. Best is trial 0 with value: 1.1396787273940583.\n",
      "[I 2025-01-08 17:30:44,686] Trial 5 finished with value: 1.1396787273940583 and parameters: {}. Best is trial 0 with value: 1.1396787273940583.\n",
      "[I 2025-01-08 17:30:44,845] Trial 6 finished with value: 1.1396787273940583 and parameters: {}. Best is trial 0 with value: 1.1396787273940583.\n",
      "[I 2025-01-08 17:30:44,918] Trial 7 finished with value: 1.1396787273940583 and parameters: {}. Best is trial 0 with value: 1.1396787273940583.\n",
      "[I 2025-01-08 17:30:44,990] Trial 8 finished with value: 1.1396787273940583 and parameters: {}. Best is trial 0 with value: 1.1396787273940583.\n",
      "[I 2025-01-08 17:30:45,062] Trial 9 finished with value: 1.1396787273940583 and parameters: {}. Best is trial 0 with value: 1.1396787273940583.\n"
     ]
    },
    {
     "name": "stdout",
     "output_type": "stream",
     "text": [
      "Best trial: score: 1.1396787273940583, \n",
      "parmas: {}\n"
     ]
    }
   ],
   "source": [
    "study = optuna.create_study(direction='minimize',sampler=TPESampler(seed=2025))\n",
    "\n",
    "study.optimize(lambda trial: objectivelgb(trial,df_c.drop(columns=['가격(백만원)']),df_c['가격(백만원)']),n_trials=10)\n",
    "print('Best trial: score: {}, \\nparmas: {}'.format(study.best_trial.value,study.best_trial.params))"
   ]
  },
  {
   "cell_type": "code",
   "execution_count": null,
   "metadata": {},
   "outputs": [
    {
     "name": "stdout",
     "output_type": "stream",
     "text": [
      "Fold: 1 / Fold: 5\n",
      "Train RMSE: 1.1587186228044106\n",
      "Val RMSE: 1.2428158267397245\n",
      "------------------------------\n",
      "Fold: 2 / Fold: 5\n",
      "Train RMSE: 1.125028597383614\n",
      "Val RMSE: 1.3702149327968427\n",
      "------------------------------\n",
      "Fold: 3 / Fold: 5\n",
      "Train RMSE: 1.0872916921737175\n",
      "Val RMSE: 1.5203208848303096\n",
      "------------------------------\n",
      "Fold: 4 / Fold: 5\n",
      "Train RMSE: 1.1404938995804985\n",
      "Val RMSE: 1.3756184870263382\n",
      "------------------------------\n",
      "Fold: 5 / Fold: 5\n",
      "Train RMSE: 1.1495355479454343\n",
      "Val RMSE: 1.2765599923472977\n",
      "------------------------------\n",
      "Average RMSE: 1.3571060247481024\n"
     ]
    }
   ],
   "source": [
    "import numpy as np\n",
    "from sklearn.model_selection import KFold\n",
    "folds = KFold(n_splits=5,shuffle=True,random_state=2025)\n",
    "\n",
    "val_scores_lgb = []\n",
    "test_pred_lgb = np.zeros(len(test))\n",
    "\n",
    "for idx,(train_idx,val_idx) in enumerate(folds.split(X,y)):\n",
    "    print(f'Fold: {idx+1} / Fold: {folds.n_splits}')\n",
    "    X_train,y_train = X.iloc[train_idx],y.iloc[train_idx]\n",
    "    X_val,y_val = X.iloc[val_idx],y.iloc[val_idx]\n",
    "\n",
    "    lgb = LGBMRegressor(**study.best_params)\n",
    "    lgb_model = lgb.fit(X_train,y_train)\n",
    "    lgb_model.fit(X_train,y_train)\n",
    "\n",
    "    train_y_pred = lgb_model.predict(X_train)\n",
    "    val_y_pred = lgb_model.predict(X_val)\n",
    "\n",
    "    print(f'Train RMSE: {root_mean_squared_error(y_train,train_y_pred)}')\n",
    "    print(f'Val RMSE: {root_mean_squared_error(y_val,val_y_pred)}')\n",
    "    print('-' * 30)\n",
    "\n",
    "    test_pred_lgb += lgb_model.predict(X_test) / folds.n_splits\n",
    "    val_scores_lgb.append(root_mean_squared_error(val_y_pred,y_val))\n",
    "\n",
    "print(f'Average RMSE: {np.array(val_scores_lgb).mean()}')"
   ]
  },
  {
   "cell_type": "markdown",
   "metadata": {},
   "source": [
    "## 결과물 제출"
   ]
  },
  {
   "cell_type": "code",
   "execution_count": 259,
   "metadata": {},
   "outputs": [],
   "source": [
    "submit.loc[submit['ID'].isin(test_ID),'가격(백만원)'] = test_pred_lgb\n",
    "submit.to_csv('submit_nothing_hyperparam_lgb.csv',index=False)"
   ]
  },
  {
   "cell_type": "code",
   "execution_count": 260,
   "metadata": {},
   "outputs": [
    {
     "data": {
      "text/html": [
       "<div>\n",
       "<style scoped>\n",
       "    .dataframe tbody tr th:only-of-type {\n",
       "        vertical-align: middle;\n",
       "    }\n",
       "\n",
       "    .dataframe tbody tr th {\n",
       "        vertical-align: top;\n",
       "    }\n",
       "\n",
       "    .dataframe thead th {\n",
       "        text-align: right;\n",
       "    }\n",
       "</style>\n",
       "<table border=\"1\" class=\"dataframe\">\n",
       "  <thead>\n",
       "    <tr style=\"text-align: right;\">\n",
       "      <th></th>\n",
       "      <th>ID</th>\n",
       "      <th>가격(백만원)</th>\n",
       "    </tr>\n",
       "  </thead>\n",
       "  <tbody>\n",
       "    <tr>\n",
       "      <th>0</th>\n",
       "      <td>TEST_000</td>\n",
       "      <td>130.560262</td>\n",
       "    </tr>\n",
       "    <tr>\n",
       "      <th>1</th>\n",
       "      <td>TEST_001</td>\n",
       "      <td>80.020609</td>\n",
       "    </tr>\n",
       "    <tr>\n",
       "      <th>2</th>\n",
       "      <td>TEST_002</td>\n",
       "      <td>64.928084</td>\n",
       "    </tr>\n",
       "    <tr>\n",
       "      <th>3</th>\n",
       "      <td>TEST_003</td>\n",
       "      <td>35.025249</td>\n",
       "    </tr>\n",
       "    <tr>\n",
       "      <th>4</th>\n",
       "      <td>TEST_004</td>\n",
       "      <td>47.855277</td>\n",
       "    </tr>\n",
       "  </tbody>\n",
       "</table>\n",
       "</div>"
      ],
      "text/plain": [
       "         ID     가격(백만원)\n",
       "0  TEST_000  130.560262\n",
       "1  TEST_001   80.020609\n",
       "2  TEST_002   64.928084\n",
       "3  TEST_003   35.025249\n",
       "4  TEST_004   47.855277"
      ]
     },
     "execution_count": 260,
     "metadata": {},
     "output_type": "execute_result"
    }
   ],
   "source": [
    "submit.head()"
   ]
  }
 ],
 "metadata": {
  "kernelspec": {
   "display_name": "vscode_jupyter",
   "language": "python",
   "name": "python3"
  },
  "language_info": {
   "codemirror_mode": {
    "name": "ipython",
    "version": 3
   },
   "file_extension": ".py",
   "mimetype": "text/x-python",
   "name": "python",
   "nbconvert_exporter": "python",
   "pygments_lexer": "ipython3",
   "version": "3.11.6"
  }
 },
 "nbformat": 4,
 "nbformat_minor": 2
}
