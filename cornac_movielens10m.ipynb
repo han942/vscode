{
 "cells": [
  {
   "cell_type": "markdown",
   "metadata": {},
   "source": [
    "# LightGCN - Cornac\n",
    "requirements : torch==2.0.0, dgl==1.1.0,numpy<2.0"
   ]
  },
  {
   "cell_type": "code",
   "execution_count": 3,
   "metadata": {},
   "outputs": [],
   "source": [
    "import dgl"
   ]
  },
  {
   "cell_type": "code",
   "execution_count": 7,
   "metadata": {},
   "outputs": [
    {
     "name": "stdout",
     "output_type": "stream",
     "text": [
      "Cornac version: 2.2.2\n",
      "Loading MovieLens 10M dataset...\n",
      "Splitting data into training, validation, and test sets...\n",
      "rating_threshold = 4.0\n",
      "exclude_unknowns = True\n",
      "---\n",
      "Training data:\n",
      "Number of users = 943\n",
      "Number of items = 1635\n",
      "Number of ratings = 70000\n",
      "Max rating = 5.0\n",
      "Min rating = 1.0\n",
      "Global mean = 3.5\n",
      "---\n",
      "Test data:\n",
      "Number of users = 943\n",
      "Number of items = 1635\n",
      "Number of ratings = 19962\n",
      "Number of unknown users = 0\n",
      "Number of unknown items = 0\n",
      "---\n",
      "Validation data:\n",
      "Number of users = 943\n",
      "Number of items = 1635\n",
      "Number of ratings = 9977\n",
      "---\n",
      "Total users = 943\n",
      "Total items = 1635\n",
      "Instantiating LightGCN model...\n",
      "Setting up the experiment...\n",
      "Running the experiment... (This might take a while for MovieLens 10M)\n",
      "\n",
      "[LightGCN] Training started!\n"
     ]
    },
    {
     "name": "stderr",
     "output_type": "stream",
     "text": [
      "                                                                       \r"
     ]
    },
    {
     "name": "stdout",
     "output_type": "stream",
     "text": [
      "\n",
      "[LightGCN] Evaluation started!\n"
     ]
    },
    {
     "name": "stderr",
     "output_type": "stream",
     "text": [
      "Ranking: 100%|██████████| 942/942 [00:01<00:00, 788.15it/s]\n",
      "Ranking: 100%|██████████| 917/917 [00:00<00:00, 968.28it/s]"
     ]
    },
    {
     "name": "stdout",
     "output_type": "stream",
     "text": [
      "\n",
      "VALIDATION:\n",
      "...\n",
      "         |    MAP | NDCG@10 | Precision@10 | Recall@10 | Time (s)\n",
      "-------- + ------ + ------- + ------------ + --------- + --------\n",
      "LightGCN | 0.1014 |  0.1225 |       0.0694 |    0.1395 |   0.9496\n",
      "\n",
      "TEST:\n",
      "...\n",
      "         |    MAP | NDCG@10 | Precision@10 | Recall@10 | Train (s) | Test (s)\n",
      "-------- + ------ + ------- + ------------ + --------- + --------- + --------\n",
      "LightGCN | 0.1364 |  0.1890 |       0.1434 |    0.1484 |  300.2270 |   1.2089\n",
      "\n",
      "Experiment finished.\n"
     ]
    },
    {
     "name": "stderr",
     "output_type": "stream",
     "text": [
      "\n"
     ]
    }
   ],
   "source": [
    "import cornac\n",
    "from cornac.datasets import movielens\n",
    "from cornac.eval_methods import RatioSplit\n",
    "from cornac.models.lightgcn.recom_lightgcn import LightGCN\n",
    "from cornac.metrics import Precision, Recall, NDCG, MAP\n",
    "\n",
    "print(f\"Cornac version: {cornac.__version__}\")\n",
    "\n",
    "# 1. 데이터셋 로드 (MovieLens 10M)\n",
    "# 처음 실행 시 데이터를 다운로드하므로 시간이 걸릴 수 있습니다.\n",
    "print(\"Loading MovieLens 10M dataset...\")\n",
    "ml_10m = movielens.load_feedback(variant=\"100k\")\n",
    "\n",
    "# 2. 데이터 분할 및 전처리\n",
    "# RatioSplit: 데이터를 학습용, 검증용, 테스트용으로 분할합니다.\n",
    "# - rating_threshold=4.0: 평점 4.0 이상만 '긍정적' 상호작용(implicit feedback)으로 간주합니다.\n",
    "# - test_size=0.2: 20%를 테스트 데이터로 사용합니다.\n",
    "# - val_size=0.1: 10%를 검증 데이터로 사용합니다. (나머지 70%는 학습용)\n",
    "print(\"Splitting data into training, validation, and test sets...\")\n",
    "ratio_split = RatioSplit(\n",
    "    data=ml_10m,\n",
    "    test_size=0.2,\n",
    "    val_size=0.1,\n",
    "    rating_threshold=4.0,  # 4점 이상을 긍정적 피드백으로 간주\n",
    "    seed=123,\n",
    "    verbose=True\n",
    ")\n",
    "\n",
    "# 3. 모델 정의 (LightGCN)\n",
    "# LightGCN 모델의 하이퍼파라미터를 설정합니다.\n",
    "# - k: 임베딩 벡터의 차원 (잠재 요인 수)\n",
    "# - n_epochs: 학습 반복 횟수\n",
    "# - n_layers: LightGCN의 레이어 수 (그래프 상에서 이웃 정보를 몇 홉까지 전파할지 결정)\n",
    "# - lambda_reg: 정규화 파라미터 (과적합 방지)\n",
    "print(\"Instantiating LightGCN model...\")\n",
    "lightgcn = LightGCN(\n",
    "    emb_size=64,\n",
    "    num_epochs=30,\n",
    "    num_layers=3,\n",
    "    lambda_reg=1e-4,\n",
    "    learning_rate=0.001,\n",
    "    seed=456,\n",
    "    verbose=True\n",
    ")\n",
    "\n",
    "# 4. 평가 지표 정의\n",
    "# Top-10 추천에 대한 성능을 측정합니다.\n",
    "metrics = [\n",
    "    Precision(k=10),\n",
    "    Recall(k=10),\n",
    "    NDCG(k=10),\n",
    "    MAP()\n",
    "]\n",
    "\n",
    "# 5. 실험 구성 및 실행\n",
    "# Cornac의 Experiment는 데이터, 모델, 평가 지표를 하나로 묶어 실험을 자동화합니다.\n",
    "print(\"Setting up the experiment...\")\n",
    "experiment = cornac.Experiment(\n",
    "    eval_method=ratio_split,\n",
    "    models=[lightgcn],\n",
    "    metrics=metrics,\n",
    "    user_based=True  # 사용자 기반 평가 수행\n",
    ")\n",
    "\n",
    "print(\"Running the experiment... (This might take a while for MovieLens 10M)\")\n",
    "experiment.run()\n",
    "\n",
    "print(\"Experiment finished.\")"
   ]
  }
 ],
 "metadata": {
  "kernelspec": {
   "display_name": "rec",
   "language": "python",
   "name": "python3"
  },
  "language_info": {
   "codemirror_mode": {
    "name": "ipython",
    "version": 3
   },
   "file_extension": ".py",
   "mimetype": "text/x-python",
   "name": "python",
   "nbconvert_exporter": "python",
   "pygments_lexer": "ipython3",
   "version": "3.10.18"
  }
 },
 "nbformat": 4,
 "nbformat_minor": 2
}
