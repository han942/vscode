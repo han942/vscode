{
 "cells": [
  {
   "cell_type": "code",
   "execution_count": null,
   "id": "cbe8358b",
   "metadata": {},
   "outputs": [],
   "source": [
    "import time\n",
    "from selenium import webdriver\n",
    "from selenium.webdriver.common.by import By\n",
    "from bs4 import BeautifulSoup\n",
    "from selenium.webdriver.common.keys import Keys\n",
    "import re"
   ]
  },
  {
   "cell_type": "code",
   "execution_count": 39,
   "id": "e1c3b903",
   "metadata": {},
   "outputs": [],
   "source": [
    "driver = webdriver.Chrome()\n",
    "url = 'https://www.diningcode.com/%EC%84%9C%EC%9A%B8%20%EC%86%A1%ED%8C%8C%EA%B5%AC'\n",
    "driver.get(url)\n",
    "\n",
    "time.sleep(2)"
   ]
  },
  {
   "cell_type": "code",
   "execution_count": 41,
   "id": "72189b7a",
   "metadata": {},
   "outputs": [
    {
     "name": "stdout",
     "output_type": "stream",
     "text": [
      "1. 파스타\n",
      "2. 중식\n",
      "3. 고기집\n",
      "4. 카페\n",
      "5. 베이커리\n",
      "6. 순대국\n",
      "7. 곱창\n",
      "8. 라멘\n",
      "9. 평양냉면\n",
      "10. 멕시코음식\n",
      "11. 초밥\n",
      "12. 칼국수\n",
      "13. 쌀국수\n",
      "14. 술집\n",
      "15. 삼겹살\n",
      "16. 햄버거\n",
      "17. 돈까스\n",
      "18. 인도커리\n",
      "19. 브런치\n",
      "20. 감자탕\n",
      "21. 딤섬\n",
      "22. 오마카세\n",
      "23. 냉면\n",
      "24. 장어덮밥\n",
      "25. 이탈리안레스토랑\n",
      "26. 디저트\n",
      "27. 만두\n",
      "28. 커리\n",
      "29. 태국\n",
      "30. 해장국\n",
      "31. 베이글\n",
      "32. 이자카야\n",
      "33. 스시\n"
     ]
    }
   ],
   "source": [
    "for i in range(10):\n",
    "    driver.find_element(By.TAG_NAME,'body').send_keys(Keys.PAGE_DOWN)\n",
    "    time.sleep(0.5)\n",
    "    \n",
    "html = driver.page_source\n",
    "soup = BeautifulSoup(html,'html.parser')\n",
    "\n",
    "for i in soup.select('h2.Card__Section__Title'):\n",
    "    print(i.text)\n",
    "    if \"33\" in i.text:\n",
    "        break"
   ]
  },
  {
   "cell_type": "code",
   "execution_count": 10,
   "id": "1688be2b",
   "metadata": {},
   "outputs": [],
   "source": [
    "item_name = []\n",
    "item_area = []\n",
    "item_avg_rating = []\n",
    "item_rating_num = []\n",
    "item_spec_area = []\n",
    "\n",
    "user_name = []\n",
    "user_tot_avg_rating = []\n",
    "user_tot_rating_num = []\n",
    "user_tot_follow_num = []\n",
    "\n",
    "user_rating = []\n",
    "user_query = []\n",
    "taste = []\n",
    "price = []\n",
    "service = []\n",
    "menu = []\n",
    "date = []"
   ]
  },
  {
   "cell_type": "code",
   "execution_count": null,
   "id": "1e6d8d1e",
   "metadata": {},
   "outputs": [
    {
     "data": {
      "text/plain": [
       "10"
      ]
     },
     "execution_count": 36,
     "metadata": {},
     "output_type": "execute_result"
    }
   ],
   "source": [
    "# Main 작동 loop\n",
    "\n",
    "for i in range(1,33):\n",
    "    for j in range(1,len(soup.select(f'#root > main > div > section:nth-child({i}) > div.sc-hZDyAQ.cfhxli.Card__Section__Wrap > div.sc-bpUBKd.gsDwGF.Card__Slide__Wrap > ul')[0])):\n",
    "        detail = driver.find_element(By.XPATH,f'//*[@id=\"root\"]/main/div/section[{i}]/div[2]/div[2]/ul/li[{j}]/a')\n",
    "        detail.send_keys(Keys.ENTER)\n",
    "        time.sleep(3)\n",
    "\n",
    "        print('post url : ',driver.current_url)\n",
    "        driver.switch_to.window(driver.window_handles[-1])\n",
    "        print('changed url : ',driver.current_url)\n",
    "\n",
    "        html_detail = driver.page_source\n",
    "        soup_detail = BeautifulSoup(html_detail,'html.parser')\n",
    "\n",
    "        get_item_contents()\n",
    "        full_access()\n",
    "        \n",
    "        driver.close()"
   ]
  },
  {
   "cell_type": "code",
   "execution_count": null,
   "id": "73616833",
   "metadata": {},
   "outputs": [
    {
     "name": "stdout",
     "output_type": "stream",
     "text": [
      "post url :  https://www.diningcode.com/%EC%84%9C%EC%9A%B8%20%EC%86%A1%ED%8C%8C%EA%B5%AC\n",
      "changed url :  https://www.diningcode.com/profile.php?rid=jUfk7PcmWnoq\n"
     ]
    }
   ],
   "source": [
    "#단위 실행 코드\n",
    "detail = driver.find_element(By.XPATH,'//*[@id=\"root\"]/main/div/section[1]/div[2]/div[2]/ul/li[1]/a')\n",
    "detail.send_keys(Keys.ENTER)\n",
    "time.sleep(3)\n",
    "\n",
    "print('post url : ',driver.current_url)\n",
    "driver.switch_to.window(driver.window_handles[-1])\n",
    "print('changed url : ',driver.current_url)\n",
    "\n",
    "html_detail = driver.page_source\n",
    "soup_detail = BeautifulSoup(html_detail,'html.parser')"
   ]
  },
  {
   "cell_type": "code",
   "execution_count": null,
   "id": "8e2b6e8f",
   "metadata": {},
   "outputs": [],
   "source": [
    "def get_item_contents():\n",
    "    item_name.append(soup_detail.select('h1')[0].text)\n",
    "    item_area.append(soup_detail.select('a.area')[0].text)\n",
    "    item_avg_rating.append(soup_detail.select('span.point > strong')[0].text)\n",
    "    item_rating_num.append(re.findall(r'\\d+',soup_detail.select('span.point > span')[0].text))\n",
    "    item_spec_area.append(soup_detail.select('span.profile_jibun')[0].text)\n",
    "\n",
    "    user_name.append()"
   ]
  },
  {
   "cell_type": "code",
   "execution_count": null,
   "id": "f8450e8f",
   "metadata": {},
   "outputs": [
    {
     "data": {
      "text/plain": [
       "'서울특별시 송파구 신천동 29  롯데월드몰 5F'"
      ]
     },
     "execution_count": 5,
     "metadata": {},
     "output_type": "execute_result"
    }
   ],
   "source": [
    "soup_detail.select('h1')[0].text # 식당 이름\n",
    "soup_detail.select('a.area')[0].text #식당 장소\n",
    "soup_detail.select('span.point > strong')[0].text #평균평점\n",
    "re.findall(r'\\d+',soup_detail.select('span.point > span')[0].text) #리뷰 숫자\n",
    "# int(''.join(re.findall(r'\\d+',soup_detail.select('span.point > span')[0].text))) :숫자로 형식 전환\n",
    "soup_detail.select('span.profile_jibun')[0].text #지번 주소"
   ]
  },
  {
   "cell_type": "code",
   "execution_count": null,
   "id": "a3b903c8",
   "metadata": {},
   "outputs": [],
   "source": [
    "def full_access():\n",
    "    # Access to all reviews\n",
    "    c_rate = (int(''.join(re.findall(r'\\d+',soup_detail.select('span.point > span')[0].text))) // 5)\n",
    "    for i in range(c_rate):\n",
    "        try:\n",
    "            button = driver.find_element(By.XPATH,'//*[@id=\"div_more_review\"]')\n",
    "            button.click()\n",
    "            time.sleep(0.5)\n",
    "        except Exception as e:\n",
    "            print(\"더보기 버튼 클릭 중 오류 발생: 더 이상 남은 항목이 없습니다\")\n",
    "            break  # 에러 발생 시 반복문 종료\n",
    "\n",
    "    html_all_reviews = driver.page_source\n",
    "    soup_all_reviews = BeautifulSoup(html_all_reviews,'html.parser')\n",
    "    review = soup_all_reviews.select('div.latter-graph')[0]"
   ]
  },
  {
   "cell_type": "code",
   "execution_count": 7,
   "id": "9791b8d4",
   "metadata": {},
   "outputs": [
    {
     "data": {
      "text/plain": [
       "'8월 14일'"
      ]
     },
     "execution_count": 7,
     "metadata": {},
     "output_type": "execute_result"
    }
   ],
   "source": [
    "#리뷰 특정\n",
    "review = soup_all_reviews.select('div.latter-graph')[0]\n",
    "review.select('p > span')[0].text # user name\n",
    "review.select('p > span.info > span')[0].text # user 평균 평점\n",
    "review.select('p > span.info > span')[1].text # user 평가 개수\n",
    "review.select('p > span.info > span')[2].text # user 팔로워\n",
    "\n",
    "review.select('span.total_score')[0].text # user rating\n",
    "review.select('p.review_contents.btxt')[0].text #user query\n",
    "review.select('span.sub_title')[0].text # user 맛\n",
    "review.select('span.sub_title')[1].text # user 가격\n",
    "review.select('span.sub_title')[2].text # user 응대\n",
    "\n",
    "review.select('p.ordered_menu_list')[0].text #주문 메뉴\n",
    "review.select('span.date')[0].text #평점 날짜"
   ]
  }
 ],
 "metadata": {
  "kernelspec": {
   "display_name": "test",
   "language": "python",
   "name": "python3"
  },
  "language_info": {
   "codemirror_mode": {
    "name": "ipython",
    "version": 3
   },
   "file_extension": ".py",
   "mimetype": "text/x-python",
   "name": "python",
   "nbconvert_exporter": "python",
   "pygments_lexer": "ipython3",
   "version": "3.11.13"
  }
 },
 "nbformat": 4,
 "nbformat_minor": 5
}
