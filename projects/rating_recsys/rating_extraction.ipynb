{
 "cells": [
  {
   "cell_type": "code",
   "execution_count": 28,
   "id": "cbe8358b",
   "metadata": {},
   "outputs": [],
   "source": [
    "import time\n",
    "from selenium import webdriver\n",
    "from selenium.webdriver.common.by import By\n",
    "from bs4 import BeautifulSoup\n",
    "from selenium.webdriver.common.keys import Keys\n",
    "import re\n",
    "import SeleniumAdblock"
   ]
  },
  {
   "cell_type": "code",
   "execution_count": 29,
   "id": "694e060e",
   "metadata": {},
   "outputs": [],
   "source": [
    "options = SeleniumAdblock.SeleniumAdblock()._startAdBlock()\n",
    "# options.add_argument('--disable-blink-features=AutomationControlled')\n",
    "options.add_argument('--disable-dev-shm-usage')\n",
    "options.add_argument('--disable-notifications')\n",
    "options.add_experimental_option('excludeSwitches',['disable-popup-blocking'])"
   ]
  },
  {
   "cell_type": "code",
   "execution_count": 30,
   "id": "e1c3b903",
   "metadata": {},
   "outputs": [],
   "source": [
    "driver = webdriver.Chrome(options=options)\n",
    "url = 'https://www.diningcode.com/%EC%84%9C%EC%9A%B8%20%EC%86%A1%ED%8C%8C%EA%B5%AC'\n",
    "driver.get(url)\n",
    "\n",
    "time.sleep(5)"
   ]
  },
  {
   "cell_type": "code",
   "execution_count": 31,
   "id": "72189b7a",
   "metadata": {},
   "outputs": [
    {
     "name": "stdout",
     "output_type": "stream",
     "text": [
      "1. 파스타\n",
      "2. 중식\n",
      "3. 고기집\n",
      "4. 카페\n",
      "5. 베이커리\n",
      "6. 순대국\n",
      "7. 곱창\n",
      "8. 라멘\n",
      "9. 평양냉면\n",
      "10. 멕시코음식\n",
      "11. 초밥\n",
      "12. 칼국수\n",
      "13. 쌀국수\n",
      "14. 술집\n",
      "15. 삼겹살\n",
      "16. 햄버거\n",
      "17. 돈까스\n",
      "18. 인도커리\n",
      "19. 브런치\n",
      "20. 감자탕\n",
      "21. 딤섬\n",
      "22. 오마카세\n",
      "23. 냉면\n",
      "24. 장어덮밥\n",
      "25. 이탈리안레스토랑\n",
      "26. 디저트\n",
      "27. 만두\n",
      "28. 커리\n",
      "29. 태국\n",
      "30. 해장국\n"
     ]
    }
   ],
   "source": [
    "for i in range(15):\n",
    "    driver.find_element(By.TAG_NAME,'body').send_keys(Keys.PAGE_DOWN)\n",
    "    time.sleep(1)\n",
    "\n",
    "html = driver.page_source\n",
    "soup = BeautifulSoup(html,'html.parser')\n",
    "\n",
    "for i in soup.select('h2.Card__Section__Title'):\n",
    "    if \"33\" in i.text:\n",
    "        break\n",
    "    print(i.text)\n",
    "time.sleep(2)\n",
    "html = driver.page_source\n",
    "soup = BeautifulSoup(html,'html.parser')"
   ]
  },
  {
   "cell_type": "code",
   "execution_count": 32,
   "id": "1688be2b",
   "metadata": {},
   "outputs": [],
   "source": [
    "item_name = []\n",
    "item_area = []\n",
    "item_avg_rating = []\n",
    "item_rating_num = []\n",
    "item_spec_area = []\n",
    "\n",
    "user_name = []\n",
    "user_tot_avg_rating = []\n",
    "user_tot_rating_num = []\n",
    "user_tot_follow_num = []\n",
    "\n",
    "user_rating = []\n",
    "user_query = []\n",
    "taste = []\n",
    "price = []\n",
    "service = []\n",
    "menu = []\n",
    "date = []"
   ]
  },
  {
   "cell_type": "code",
   "execution_count": 33,
   "id": "8e2b6e8f",
   "metadata": {},
   "outputs": [],
   "source": [
    "def get_item_contents():\n",
    "    item_name.append(soup_detail.select('h1')[0].text)\n",
    "    item_area.append(soup_detail.select('a.area')[0].text)\n",
    "    item_avg_rating.append(soup_detail.select('span.point > strong')[0].text)\n",
    "    item_rating_num.append(re.findall(r'\\d+',soup_detail.select('span.point > span')[0].text))\n",
    "    item_spec_area.append(soup_detail.select('span.profile_jibun')[0].text)"
   ]
  },
  {
   "cell_type": "code",
   "execution_count": 34,
   "id": "a3b903c8",
   "metadata": {},
   "outputs": [],
   "source": [
    "def full_access():\n",
    "    # Access to all reviews\n",
    "    c_rate = (int(''.join(re.findall(r'\\d+',soup_detail.select('span.point > span')[0].text))) // 5)\n",
    "    for i in range(c_rate):\n",
    "        try:\n",
    "            button = driver.find_element(By.XPATH,'//*[@id=\"div_more_review\"]')\n",
    "            button.click()\n",
    "            time.sleep(0.5)\n",
    "        except Exception as e:\n",
    "            print(\"더보기 버튼 클릭 중 오류 발생: 더 이상 남은 항목이 없습니다\")\n",
    "            pass # 에러 발생 시 반복문 종료\n",
    "\n",
    "    html_all_reviews = driver.page_source\n",
    "    soup_all_reviews = BeautifulSoup(html_all_reviews,'html.parser')\n",
    "    for i in range(len(soup_all_reviews.select('div.latter-graph'))):\n",
    "        review = soup_all_reviews.select('div.latter-graph')[i]\n",
    "        get_item_contents()\n",
    "\n",
    "        user_name.append(review.select('p > span')[0].text)\n",
    "        user_tot_avg_rating.append(review.select('p > span.info > span')[0].text)\n",
    "        user_tot_rating_num.append(review.select('p > span.info > span')[1].text)\n",
    "        user_tot_follow_num.append(review.select('p > span.info > span')[2].text)\n",
    "        user_rating.append(review.select('span.total_score')[0].text)\n",
    "\n",
    "        try:\n",
    "            user_query.append(review.select('p.review_contents.btxt')[0].text)\n",
    "        except:\n",
    "            user_query.append(\"nan\")\n",
    "        try:\n",
    "            taste.append(review.select('span.sub_title')[0].text)\n",
    "        except:\n",
    "            taste.append(\"nan\")\n",
    "        try:\n",
    "            price.append(review.select('span.sub_title')[1].text)\n",
    "        except:\n",
    "            price.append('nan')\n",
    "        try:\n",
    "            service.append(review.select('span.sub_title')[2].text)\n",
    "        except:\n",
    "            service.append('nan')\n",
    "        try :\n",
    "            menu.append(review.select('p.ordered_menu_list')[0].text)\n",
    "        except:\n",
    "            menu.append(\"nan\")\n",
    "        try:\n",
    "            date.append(review.select('span.date')[0].text) \n",
    "        except:\n",
    "            date.append(\"nan\")"
   ]
  },
  {
   "cell_type": "code",
   "execution_count": 53,
   "id": "94fd37bc",
   "metadata": {},
   "outputs": [
    {
     "data": {
      "text/plain": [
       "<selenium.webdriver.remote.webelement.WebElement (session=\"003e57a2eeb8de551e04d5557f5cb030\", element=\"f.10FC40066C714239DC3743BF13355785.d.2B72887C91DDBE3BDC7CE3E5474321ED.e.47\")>"
      ]
     },
     "execution_count": 53,
     "metadata": {},
     "output_type": "execute_result"
    }
   ],
   "source": [
    "driver.find_element(By.XPATH,f'/html/body/div/main/div/section[1]/div[2]/div[2]/ul/li[8]/a')"
   ]
  },
  {
   "cell_type": "code",
   "execution_count": null,
   "id": "1e6d8d1e",
   "metadata": {},
   "outputs": [
    {
     "name": "stdout",
     "output_type": "stream",
     "text": [
      "10\n",
      "post url :  https://www.diningcode.com/%EC%84%9C%EC%9A%B8%20%EC%86%A1%ED%8C%8C%EA%B5%AC\n",
      "changed url :  https://www.diningcode.com/profile.php?rid=jUfk7PcmWnoq\n",
      "post url :  https://www.diningcode.com/%EC%84%9C%EC%9A%B8%20%EC%86%A1%ED%8C%8C%EA%B5%AC\n",
      "changed url :  https://www.diningcode.com/profile.php?rid=vM5Ku9pMI80Q\n",
      "post url :  https://www.diningcode.com/%EC%84%9C%EC%9A%B8%20%EC%86%A1%ED%8C%8C%EA%B5%AC\n",
      "changed url :  https://www.diningcode.com/profile.php?rid=hsYhNjCeZEHz\n",
      "post url :  https://www.diningcode.com/%EC%84%9C%EC%9A%B8%20%EC%86%A1%ED%8C%8C%EA%B5%AC\n",
      "changed url :  https://www.diningcode.com/profile.php?rid=CUQzGVIjCCzT\n",
      "post url :  https://www.diningcode.com/%EC%84%9C%EC%9A%B8%20%EC%86%A1%ED%8C%8C%EA%B5%AC\n",
      "changed url :  https://www.diningcode.com/profile.php?rid=DZSNBl8WK7H1\n",
      "post url :  https://www.diningcode.com/%EC%84%9C%EC%9A%B8%20%EC%86%A1%ED%8C%8C%EA%B5%AC\n",
      "changed url :  https://www.diningcode.com/profile.php?rid=ThaBOkUioUDx\n",
      "post url :  https://www.diningcode.com/%EC%84%9C%EC%9A%B8%20%EC%86%A1%ED%8C%8C%EA%B5%AC\n",
      "changed url :  https://www.diningcode.com/profile.php?rid=LVipNpDpoMuK\n"
     ]
    },
    {
     "ename": "NoSuchElementException",
     "evalue": "Message: no such element: Unable to locate element: {\"method\":\"xpath\",\"selector\":\"/html/body/div/main/div/section[1]/div[2]/div[2]/ul/li[8]/a\"}\n  (Session info: chrome=140.0.7339.81); For documentation on this error, please visit: https://www.selenium.dev/documentation/webdriver/troubleshooting/errors#nosuchelementexception\nStacktrace:\n\tGetHandleVerifier [0x0x7ff78cf9fca5+79861]\n\tGetHandleVerifier [0x0x7ff78cf9fd00+79952]\n\t(No symbol) [0x0x7ff78cd1cada]\n\t(No symbol) [0x0x7ff78cd74457]\n\t(No symbol) [0x0x7ff78cd7471c]\n\t(No symbol) [0x0x7ff78cdc8217]\n\t(No symbol) [0x0x7ff78cd9cb1f]\n\t(No symbol) [0x0x7ff78cdc4f8b]\n\t(No symbol) [0x0x7ff78cd9c8b3]\n\t(No symbol) [0x0x7ff78cd65272]\n\t(No symbol) [0x0x7ff78cd66043]\n\tGetHandleVerifier [0x0x7ff78d25b9dd+2946349]\n\tGetHandleVerifier [0x0x7ff78d255c5a+2922410]\n\tGetHandleVerifier [0x0x7ff78d2759e7+3052855]\n\tGetHandleVerifier [0x0x7ff78cfbaa8e+189918]\n\tGetHandleVerifier [0x0x7ff78cfc2a2f+222591]\n\tGetHandleVerifier [0x0x7ff78cfa8ac4+116244]\n\tGetHandleVerifier [0x0x7ff78cfa8c79+116681]\n\tGetHandleVerifier [0x0x7ff78cf8f058+11176]\n\tBaseThreadInitThunk [0x0x7ff9b9687374+20]\n\tRtlUserThreadStart [0x0x7ff9b9f9cc91+33]\n",
     "output_type": "error",
     "traceback": [
      "\u001b[31m---------------------------------------------------------------------------\u001b[39m",
      "\u001b[31mNoSuchElementException\u001b[39m                    Traceback (most recent call last)",
      "\u001b[36mCell\u001b[39m\u001b[36m \u001b[39m\u001b[32mIn[36]\u001b[39m\u001b[32m, line 11\u001b[39m\n\u001b[32m      8\u001b[39m \u001b[38;5;28mprint\u001b[39m(k)\n\u001b[32m     10\u001b[39m \u001b[38;5;28;01mfor\u001b[39;00m j \u001b[38;5;129;01min\u001b[39;00m \u001b[38;5;28mrange\u001b[39m(\u001b[32m1\u001b[39m,k):\n\u001b[32m---> \u001b[39m\u001b[32m11\u001b[39m     detail = \u001b[43mdriver\u001b[49m\u001b[43m.\u001b[49m\u001b[43mfind_element\u001b[49m\u001b[43m(\u001b[49m\u001b[43mBy\u001b[49m\u001b[43m.\u001b[49m\u001b[43mXPATH\u001b[49m\u001b[43m,\u001b[49m\u001b[33;43mf\u001b[39;49m\u001b[33;43m'\u001b[39;49m\u001b[33;43m/html/body/div/main/div/section[\u001b[39;49m\u001b[38;5;132;43;01m{\u001b[39;49;00m\u001b[43mi\u001b[49m\u001b[38;5;132;43;01m}\u001b[39;49;00m\u001b[33;43m]/div[2]/div[2]/ul/li[\u001b[39;49m\u001b[38;5;132;43;01m{\u001b[39;49;00m\u001b[43mj\u001b[49m\u001b[38;5;132;43;01m}\u001b[39;49;00m\u001b[33;43m]/a\u001b[39;49m\u001b[33;43m'\u001b[39;49m\u001b[43m)\u001b[49m\n\u001b[32m     12\u001b[39m     detail.send_keys(Keys.ENTER)\n\u001b[32m     13\u001b[39m     time.sleep(\u001b[32m3\u001b[39m)\n",
      "\u001b[36mFile \u001b[39m\u001b[32mc:\\Users\\hananthony1\\AppData\\Local\\miniconda3\\envs\\test\\Lib\\site-packages\\selenium\\webdriver\\remote\\webdriver.py:926\u001b[39m, in \u001b[36mWebDriver.find_element\u001b[39m\u001b[34m(self, by, value)\u001b[39m\n\u001b[32m    923\u001b[39m         \u001b[38;5;28;01mraise\u001b[39;00m NoSuchElementException(\u001b[33mf\u001b[39m\u001b[33m\"\u001b[39m\u001b[33mCannot locate relative element with: \u001b[39m\u001b[38;5;132;01m{\u001b[39;00mby.root\u001b[38;5;132;01m}\u001b[39;00m\u001b[33m\"\u001b[39m)\n\u001b[32m    924\u001b[39m     \u001b[38;5;28;01mreturn\u001b[39;00m elements[\u001b[32m0\u001b[39m]\n\u001b[32m--> \u001b[39m\u001b[32m926\u001b[39m \u001b[38;5;28;01mreturn\u001b[39;00m \u001b[38;5;28;43mself\u001b[39;49m\u001b[43m.\u001b[49m\u001b[43mexecute\u001b[49m\u001b[43m(\u001b[49m\u001b[43mCommand\u001b[49m\u001b[43m.\u001b[49m\u001b[43mFIND_ELEMENT\u001b[49m\u001b[43m,\u001b[49m\u001b[43m \u001b[49m\u001b[43m{\u001b[49m\u001b[33;43m\"\u001b[39;49m\u001b[33;43musing\u001b[39;49m\u001b[33;43m\"\u001b[39;49m\u001b[43m:\u001b[49m\u001b[43m \u001b[49m\u001b[43mby\u001b[49m\u001b[43m,\u001b[49m\u001b[43m \u001b[49m\u001b[33;43m\"\u001b[39;49m\u001b[33;43mvalue\u001b[39;49m\u001b[33;43m\"\u001b[39;49m\u001b[43m:\u001b[49m\u001b[43m \u001b[49m\u001b[43mvalue\u001b[49m\u001b[43m}\u001b[49m\u001b[43m)\u001b[49m[\u001b[33m\"\u001b[39m\u001b[33mvalue\u001b[39m\u001b[33m\"\u001b[39m]\n",
      "\u001b[36mFile \u001b[39m\u001b[32mc:\\Users\\hananthony1\\AppData\\Local\\miniconda3\\envs\\test\\Lib\\site-packages\\selenium\\webdriver\\remote\\webdriver.py:458\u001b[39m, in \u001b[36mWebDriver.execute\u001b[39m\u001b[34m(self, driver_command, params)\u001b[39m\n\u001b[32m    455\u001b[39m response = cast(RemoteConnection, \u001b[38;5;28mself\u001b[39m.command_executor).execute(driver_command, params)\n\u001b[32m    457\u001b[39m \u001b[38;5;28;01mif\u001b[39;00m response:\n\u001b[32m--> \u001b[39m\u001b[32m458\u001b[39m     \u001b[38;5;28;43mself\u001b[39;49m\u001b[43m.\u001b[49m\u001b[43merror_handler\u001b[49m\u001b[43m.\u001b[49m\u001b[43mcheck_response\u001b[49m\u001b[43m(\u001b[49m\u001b[43mresponse\u001b[49m\u001b[43m)\u001b[49m\n\u001b[32m    459\u001b[39m     response[\u001b[33m\"\u001b[39m\u001b[33mvalue\u001b[39m\u001b[33m\"\u001b[39m] = \u001b[38;5;28mself\u001b[39m._unwrap_value(response.get(\u001b[33m\"\u001b[39m\u001b[33mvalue\u001b[39m\u001b[33m\"\u001b[39m, \u001b[38;5;28;01mNone\u001b[39;00m))\n\u001b[32m    460\u001b[39m     \u001b[38;5;28;01mreturn\u001b[39;00m response\n",
      "\u001b[36mFile \u001b[39m\u001b[32mc:\\Users\\hananthony1\\AppData\\Local\\miniconda3\\envs\\test\\Lib\\site-packages\\selenium\\webdriver\\remote\\errorhandler.py:232\u001b[39m, in \u001b[36mErrorHandler.check_response\u001b[39m\u001b[34m(self, response)\u001b[39m\n\u001b[32m    230\u001b[39m         alert_text = value[\u001b[33m\"\u001b[39m\u001b[33malert\u001b[39m\u001b[33m\"\u001b[39m].get(\u001b[33m\"\u001b[39m\u001b[33mtext\u001b[39m\u001b[33m\"\u001b[39m)\n\u001b[32m    231\u001b[39m     \u001b[38;5;28;01mraise\u001b[39;00m exception_class(message, screen, stacktrace, alert_text)  \u001b[38;5;66;03m# type: ignore[call-arg]  # mypy is not smart enough here\u001b[39;00m\n\u001b[32m--> \u001b[39m\u001b[32m232\u001b[39m \u001b[38;5;28;01mraise\u001b[39;00m exception_class(message, screen, stacktrace)\n",
      "\u001b[31mNoSuchElementException\u001b[39m: Message: no such element: Unable to locate element: {\"method\":\"xpath\",\"selector\":\"/html/body/div/main/div/section[1]/div[2]/div[2]/ul/li[8]/a\"}\n  (Session info: chrome=140.0.7339.81); For documentation on this error, please visit: https://www.selenium.dev/documentation/webdriver/troubleshooting/errors#nosuchelementexception\nStacktrace:\n\tGetHandleVerifier [0x0x7ff78cf9fca5+79861]\n\tGetHandleVerifier [0x0x7ff78cf9fd00+79952]\n\t(No symbol) [0x0x7ff78cd1cada]\n\t(No symbol) [0x0x7ff78cd74457]\n\t(No symbol) [0x0x7ff78cd7471c]\n\t(No symbol) [0x0x7ff78cdc8217]\n\t(No symbol) [0x0x7ff78cd9cb1f]\n\t(No symbol) [0x0x7ff78cdc4f8b]\n\t(No symbol) [0x0x7ff78cd9c8b3]\n\t(No symbol) [0x0x7ff78cd65272]\n\t(No symbol) [0x0x7ff78cd66043]\n\tGetHandleVerifier [0x0x7ff78d25b9dd+2946349]\n\tGetHandleVerifier [0x0x7ff78d255c5a+2922410]\n\tGetHandleVerifier [0x0x7ff78d2759e7+3052855]\n\tGetHandleVerifier [0x0x7ff78cfbaa8e+189918]\n\tGetHandleVerifier [0x0x7ff78cfc2a2f+222591]\n\tGetHandleVerifier [0x0x7ff78cfa8ac4+116244]\n\tGetHandleVerifier [0x0x7ff78cfa8c79+116681]\n\tGetHandleVerifier [0x0x7ff78cf8f058+11176]\n\tBaseThreadInitThunk [0x0x7ff9b9687374+20]\n\tRtlUserThreadStart [0x0x7ff9b9f9cc91+33]\n"
     ]
    }
   ],
   "source": [
    "# Main 작동 loop\n",
    "for i in range(1,33):\n",
    "    try:\n",
    "        k= len(soup.select(f'#root > main > div > section:nth-child({i}) > div:nth-of-type(2) > div:nth-of-type(2) > ul')[0])\n",
    "    except:\n",
    "        k = len(soup.select('#root > main > div > section:nth-child(1) > div.sc-jaXxmE.bbcCvK.Card__Section__Wrap > div.sc-kbhJrz.hwQOdA.Card__Slide__Wrap > ul')[0])\n",
    "    \n",
    "    print(k)\n",
    "        \n",
    "    for j in range(1,k):\n",
    "        try:\n",
    "            detail = driver.find_element(By.XPATH,f'/html/body/div/main/div/section[{i}]/div[2]/div[2]/ul/li[{j}]/a')\n",
    "            detail.send_keys(Keys.ENTER)\n",
    "            time.sleep(3)\n",
    "        except:\n",
    "            detail = driver.find_element(By.XPATH,f'/html/body/div/main/div/section[{i}]/div[3]/div[2]/ul/li[{j}]/a')\n",
    "\n",
    "        print('post url : ',driver.current_url)\n",
    "        driver.switch_to.window(driver.window_handles[-1])\n",
    "        print('changed url : ',driver.current_url)\n",
    "\n",
    "        html_detail = driver.page_source\n",
    "        soup_detail = BeautifulSoup(html_detail,'html.parser')\n",
    "\n",
    "        full_access()\n",
    "        driver.switch_to.window(driver.window_handles[0])"
   ]
  },
  {
   "cell_type": "code",
   "execution_count": 86,
   "id": "73616833",
   "metadata": {},
   "outputs": [
    {
     "name": "stdout",
     "output_type": "stream",
     "text": [
      "post url :  https://www.diningcode.com/%EC%84%9C%EC%9A%B8%20%EC%86%A1%ED%8C%8C%EA%B5%AC\n",
      "changed url :  https://www.diningcode.com/profile.php?rid=jUfk7PcmWnoq\n"
     ]
    }
   ],
   "source": [
    "#단위 실행 코드\n",
    "detail = driver.find_element(By.XPATH,'//*[@id=\"root\"]/main/div/section[1]/div[2]/div[2]/ul/li[1]/a')\n",
    "detail.send_keys(Keys.ENTER)\n",
    "time.sleep(3)\n",
    "\n",
    "print('post url : ',driver.current_url)\n",
    "driver.switch_to.window(driver.window_handles[-1])\n",
    "print('changed url : ',driver.current_url)\n",
    "\n",
    "html_detail = driver.page_source\n",
    "soup_detail = BeautifulSoup(html_detail,'html.parser')"
   ]
  },
  {
   "cell_type": "code",
   "execution_count": 89,
   "id": "f8450e8f",
   "metadata": {},
   "outputs": [
    {
     "name": "stdout",
     "output_type": "stream",
     "text": [
      "치즈룸 X 테이스팅룸 월드타워\n",
      "롯데월드몰\n",
      "4.2\n",
      "['72']\n",
      "서울특별시 송파구 신천동 29  롯데월드몰 5F\n"
     ]
    }
   ],
   "source": [
    "print(soup_detail.select('h1')[0].text) # 식당 이름\n",
    "print(soup_detail.select('a.area')[0].text) #식당 장소\n",
    "print(soup_detail.select('span.point > strong')[0].text) #평균평점\n",
    "print(re.findall(r'\\d+',soup_detail.select('span.point > span')[0].text)) #리뷰 숫자\n",
    "# int(''.join(re.findall(r'\\d+',soup_detail.select('span.point > span')[0].text))) :숫자로 형식 전환\n",
    "print(soup_detail.select('span.profile_jibun')[0].text) #지번 주소"
   ]
  },
  {
   "cell_type": "code",
   "execution_count": null,
   "id": "9791b8d4",
   "metadata": {},
   "outputs": [
    {
     "name": "stdout",
     "output_type": "stream",
     "text": [
      "더보기 버튼 클릭 중 오류 발생: 더 이상 남은 항목이 없습니다\n"
     ]
    },
    {
     "data": {
      "text/plain": [
       "'8월 14일'"
      ]
     },
     "execution_count": 93,
     "metadata": {},
     "output_type": "execute_result"
    }
   ],
   "source": [
    "#리뷰 특정\n",
    "c_rate = (int(''.join(re.findall(r'\\d+',soup_detail.select('span.point > span')[0].text))) // 5)\n",
    "for i in range(c_rate):\n",
    "    try:\n",
    "        button = driver.find_element(By.XPATH,'//*[@id=\"div_more_review\"]')\n",
    "        button.click()\n",
    "        time.sleep(0.5)\n",
    "    except Exception as e:\n",
    "        print(\"더보기 버튼 클릭 중 오류 발생: 더 이상 남은 항목이 없습니다\")\n",
    "        break # 에러 발생 시 반복문 종료\n",
    "\n",
    "html_all_reviews = driver.page_source\n",
    "soup_all_reviews = BeautifulSoup(html_all_reviews,'html.parser')\n",
    "\n",
    "review = soup_all_reviews.select('div.latter-graph')[0] # 리뷰 ID\n",
    "review.select('p > span')[0].text # user name\n",
    "review.select('p > span.info > span')[0].text # user 평균 평점\n",
    "review.select('p > span.info > span')[1].text # user 평가 개수\n",
    "review.select('p > span.info > span')[2].text # user 팔로워\n",
    "\n",
    "review.select('span.total_score')[0].text # user rating\n",
    "review.select('p.review_contents.btxt')[0].text #user query\n",
    "review.select('span.sub_title')[0].text # user 맛   \n",
    "review.select('span.sub_title')[1].text # user 가격\n",
    "review.select('span.sub_title')[2].text # user 응대\n",
    "\n",
    "review.select('p.ordered_menu_list')[0].text #주문 메뉴\n",
    "review.select('span.date')[0].text #평점 날짜"
   ]
  }
 ],
 "metadata": {
  "kernelspec": {
   "display_name": "test",
   "language": "python",
   "name": "python3"
  },
  "language_info": {
   "codemirror_mode": {
    "name": "ipython",
    "version": 3
   },
   "file_extension": ".py",
   "mimetype": "text/x-python",
   "name": "python",
   "nbconvert_exporter": "python",
   "pygments_lexer": "ipython3",
   "version": "3.11.13"
  }
 },
 "nbformat": 4,
 "nbformat_minor": 5
}
