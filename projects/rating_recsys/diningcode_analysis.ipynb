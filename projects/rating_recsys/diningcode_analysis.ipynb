{
 "cells": [
  {
   "cell_type": "markdown",
   "id": "0fe74f02",
   "metadata": {},
   "source": [
    "# 다이닝 코드 데이터"
   ]
  },
  {
   "cell_type": "code",
   "execution_count": 50,
   "id": "af865bf0",
   "metadata": {},
   "outputs": [],
   "source": [
    "import pandas as pd\n",
    "data = pd.read_csv('diningcode_data_crawling_20250905_1618.csv')"
   ]
  },
  {
   "cell_type": "code",
   "execution_count": 51,
   "id": "311017ea",
   "metadata": {},
   "outputs": [
    {
     "data": {
      "text/plain": [
       "(3455, 15)"
      ]
     },
     "execution_count": 51,
     "metadata": {},
     "output_type": "execute_result"
    }
   ],
   "source": [
    "data = data.drop(columns=['Unnamed: 0'],axis=1)\n",
    "data.shape"
   ]
  },
  {
   "cell_type": "code",
   "execution_count": 54,
   "id": "a24e6c59",
   "metadata": {},
   "outputs": [],
   "source": [
    "daco_list = dict()\n",
    "name_list = list()\n",
    "for i,val in enumerate(data['user_name']):\n",
    "    if \"다코미식가\" in val:\n",
    "        daco_list[i] = 1\n",
    "    else:\n",
    "        daco_list[i] = 0\n",
    "    name_list.append(data['user_name'][i].replace('다코미식가',''))\n",
    "data['daco_gourmand'] = daco_list"
   ]
  },
  {
   "cell_type": "code",
   "execution_count": 55,
   "id": "bbaf5800",
   "metadata": {},
   "outputs": [
    {
     "data": {
      "application/vnd.microsoft.datawrangler.viewer.v0+json": {
       "columns": [
        {
         "name": "index",
         "rawType": "int64",
         "type": "integer"
        },
        {
         "name": "user_name",
         "rawType": "object",
         "type": "string"
        }
       ],
       "ref": "021715be-3a89-4cc5-a98f-c16b42539665",
       "rows": [
        [
         "0",
         "\r\n배뚱얼통\r\n"
        ],
        [
         "1",
         "\r\n멸치보끔\r\n"
        ],
        [
         "2",
         "\r\n오이시쿠루메론빵\r\n"
        ],
        [
         "3",
         "\r\n다코미식가\r\n햇반\r\n"
        ],
        [
         "4",
         "\r\n제이미제이\r\n"
        ],
        [
         "5",
         "\r\n눈누난나2\r\n"
        ],
        [
         "6",
         "\r\nhellosy\r\n"
        ],
        [
         "7",
         "\r\n뚜벅냠이\r\n"
        ],
        [
         "8",
         "\r\n딸기진\r\n"
        ],
        [
         "9",
         "\r\n먹는행복\r\n"
        ],
        [
         "10",
         "\r\n큠린이\r\n"
        ],
        [
         "11",
         "\r\n배민vip\r\n"
        ],
        [
         "12",
         "\r\n지츄우\r\n"
        ],
        [
         "13",
         "\r\n고롱\r\n"
        ],
        [
         "14",
         "\r\n뇸뇸잉\r\n"
        ],
        [
         "15",
         "\r\n뚜뚜\r\n"
        ],
        [
         "16",
         "\r\nmangolullu\r\n"
        ],
        [
         "17",
         "\r\n꼬치\r\n"
        ],
        [
         "18",
         "\r\n우헤헤힛\r\n"
        ],
        [
         "19",
         "\r\nScaryJason\r\n"
        ],
        [
         "20",
         "\r\nyjyd\r\n"
        ],
        [
         "21",
         "\r\n록맛\r\n"
        ],
        [
         "22",
         "\r\n애플영\r\n"
        ],
        [
         "23",
         "\r\nChanmi\r\n"
        ],
        [
         "24",
         "\r\n오뜨맛있어\r\n"
        ],
        [
         "25",
         "\r\n뚜풍\r\n"
        ],
        [
         "26",
         "\r\nafrica726\r\n"
        ],
        [
         "27",
         "\r\n민물고기조림\r\n"
        ],
        [
         "28",
         "\r\n꼬기먹자\r\n"
        ],
        [
         "29",
         "\r\n스르르륵\r\n"
        ],
        [
         "30",
         "\r\n다코미식가\r\n조이\r\n"
        ],
        [
         "31",
         "\r\n웰커밍\r\n"
        ],
        [
         "32",
         "\r\n꼼지락\r\n"
        ],
        [
         "33",
         "\r\n챠밍키\r\n"
        ],
        [
         "34",
         "\r\n하디\r\n"
        ],
        [
         "35",
         "\r\n다코미식가\r\n먹죽귀\r\n"
        ],
        [
         "36",
         "\r\nurbanflow\r\n"
        ],
        [
         "37",
         "\r\nHANO\r\n"
        ],
        [
         "38",
         "\r\n우쭈뿌\r\n"
        ],
        [
         "39",
         "\r\nㅂㅇㅂ\r\n"
        ],
        [
         "40",
         "\r\n맛있는거조아조아\r\n"
        ],
        [
         "41",
         "\r\n사노글루\r\n"
        ],
        [
         "42",
         "\r\n배부른변덕\r\n"
        ],
        [
         "43",
         "\r\n맛있게먹자23\r\n"
        ],
        [
         "44",
         "\r\n토리리\r\n"
        ],
        [
         "45",
         "\r\n해밭\r\n"
        ],
        [
         "46",
         "\r\nSungeun Rhee\r\n"
        ],
        [
         "47",
         "\r\n코고는고양이\r\n"
        ],
        [
         "48",
         "\r\n고라파덕\r\n"
        ],
        [
         "49",
         "\r\n오로라공주\r\n"
        ]
       ],
       "shape": {
        "columns": 1,
        "rows": 3455
       }
      },
      "text/plain": [
       "0                       \\r\\n배뚱얼통\\r\\n\n",
       "1                       \\r\\n멸치보끔\\r\\n\n",
       "2                   \\r\\n오이시쿠루메론빵\\r\\n\n",
       "3                \\r\\n다코미식가\\r\\n햇반\\r\\n\n",
       "4                      \\r\\n제이미제이\\r\\n\n",
       "                    ...             \n",
       "3450                  \\r\\nHeeeee\\r\\n\n",
       "3451             \\r\\n투샷에두유로바꿔주세요\\r\\n\n",
       "3452    \\r\\n다코미식가\\r\\npicky picky\\r\\n\n",
       "3453                    \\r\\n이구아날\\r\\n\n",
       "3454                      \\r\\n고롱\\r\\n\n",
       "Name: user_name, Length: 3455, dtype: object"
      ]
     },
     "execution_count": 55,
     "metadata": {},
     "output_type": "execute_result"
    }
   ],
   "source": [
    "data['user_name']"
   ]
  }
 ],
 "metadata": {
  "kernelspec": {
   "display_name": "jupytercode",
   "language": "python",
   "name": "python3"
  },
  "language_info": {
   "codemirror_mode": {
    "name": "ipython",
    "version": 3
   },
   "file_extension": ".py",
   "mimetype": "text/x-python",
   "name": "python",
   "nbconvert_exporter": "python",
   "pygments_lexer": "ipython3",
   "version": "3.13.1"
  }
 },
 "nbformat": 4,
 "nbformat_minor": 5
}
