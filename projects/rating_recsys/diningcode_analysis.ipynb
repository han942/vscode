{
 "cells": [
  {
   "cell_type": "markdown",
   "id": "0fe74f02",
   "metadata": {},
   "source": [
    "# 다이닝 코드 데이터"
   ]
  },
  {
   "cell_type": "code",
   "execution_count": 2,
   "id": "af865bf0",
   "metadata": {},
   "outputs": [],
   "source": [
    "from sklearn.preprocessing import LabelEncoder\n",
    "import pandas as pd\n",
    "import numpy as np\n",
    "\n",
    "data = pd.read_csv('diningcode_data_crawling_20250905_1618.csv')"
   ]
  },
  {
   "cell_type": "code",
   "execution_count": 3,
   "id": "311017ea",
   "metadata": {},
   "outputs": [
    {
     "data": {
      "text/plain": [
       "(3455, 15)"
      ]
     },
     "execution_count": 3,
     "metadata": {},
     "output_type": "execute_result"
    }
   ],
   "source": [
    "data = data.drop(columns=['Unnamed: 0'],axis=1)\n",
    "data.shape"
   ]
  },
  {
   "cell_type": "markdown",
   "id": "15acca40",
   "metadata": {},
   "source": [
    "## Preprocessing data\n"
   ]
  },
  {
   "cell_type": "code",
   "execution_count": 4,
   "id": "a24e6c59",
   "metadata": {},
   "outputs": [],
   "source": [
    "# 다코 미식가 / user_name 분리\n",
    "daco_list = dict()\n",
    "name_list = list()\n",
    "for i,val in enumerate(data['user_name']):\n",
    "    if \"다코미식가\" in val:\n",
    "        daco_list[i] = 1\n",
    "    else:\n",
    "        daco_list[i] = 0\n",
    "    name_list.append(data['user_name'][i].replace('다코미식가',''))\n",
    "data['daco_gourmand'] = daco_list\n",
    "\n",
    "name_list = [name.replace('\\r\\n', '') for name in name_list]\n",
    "data['user_name'] = name_list"
   ]
  },
  {
   "cell_type": "code",
   "execution_count": 5,
   "id": "ac0a4f52",
   "metadata": {},
   "outputs": [],
   "source": [
    "data['user_rating'] = data['user_rating'].str.replace('점','').astype(float)"
   ]
  },
  {
   "cell_type": "code",
   "execution_count": 6,
   "id": "12efec5b",
   "metadata": {},
   "outputs": [],
   "source": [
    "unique_vals = data['taste'].unique()\n",
    "mapping_dict = {\n",
    "    unique_vals[0]:3,\n",
    "    unique_vals[1]:2,\n",
    "    unique_vals[2]:1\n",
    "}\n",
    "data['taste_enc'] = data['taste'].map(mapping_dict)\n",
    "del mapping_dict, unique_vals\n",
    "\n",
    "unique_vals = data['service'].unique()\n",
    "mapping_dict = {\n",
    "    unique_vals[0]:3,\n",
    "    unique_vals[1]:2,\n",
    "    unique_vals[2]:1\n",
    "}\n",
    "data['service_enc'] = data['service'].map(mapping_dict)\n",
    "del mapping_dict, unique_vals\n",
    "\n",
    "unique_vals = data['price'].unique()\n",
    "mapping_dict = {\n",
    "    unique_vals[0]:3,\n",
    "    unique_vals[1]:2,\n",
    "    unique_vals[2]:1\n",
    "}\n",
    "data['price_enc'] = data['price'].map(mapping_dict)\n",
    "del mapping_dict, unique_vals"
   ]
  },
  {
   "cell_type": "code",
   "execution_count": 7,
   "id": "5e744005",
   "metadata": {},
   "outputs": [],
   "source": [
    "le = LabelEncoder()\n",
    "data['user_id'] = le.fit_transform(data['user_name'])\n",
    "data['item_id'] = le.fit_transform(data['item_name'])"
   ]
  },
  {
   "cell_type": "markdown",
   "id": "5cc013f1",
   "metadata": {},
   "source": [
    "## EDA"
   ]
  },
  {
   "cell_type": "code",
   "execution_count": 8,
   "id": "7060ccd0",
   "metadata": {},
   "outputs": [
    {
     "data": {
      "text/plain": [
       "<Axes: xlabel='item_id', ylabel='item_avg_rating'>"
      ]
     },
     "execution_count": 8,
     "metadata": {},
     "output_type": "execute_result"
    },
    {
     "data": {
      "image/png": "[encoded data removed]",
      "text/plain": [
       "<Figure size 1000x500 with 1 Axes>"
      ]
     },
     "metadata": {},
     "output_type": "display_data"
    }
   ],
   "source": [
    "import matplotlib.pyplot as plt\n",
    "import seaborn as sns\n",
    "\n",
    "top_20_item = data[['item_id','item_avg_rating']].sort_values(by='item_avg_rating',ascending=False).drop_duplicates()[:20]\n",
    "plt.figure(figsize=(10,5))\n",
    "sns.barplot(data=top_20_item,x='item_id',y='item_avg_rating')"
   ]
  },
  {
   "cell_type": "code",
   "execution_count": 9,
   "id": "268b3fa3",
   "metadata": {},
   "outputs": [
    {
     "name": "stdout",
     "output_type": "stream",
     "text": [
      "sparsity :  0.9819017523700087\n",
      "user_item_mat shape : (118, 1298)\n"
     ]
    }
   ],
   "source": [
    "user_item_mat = pd.pivot_table(data=data,index='item_id',\n",
    "                               columns='user_id',values='user_rating')\n",
    "print('sparsity : ',np.count_nonzero(np.isnan(user_item_mat)) / user_item_mat.size)\n",
    "print(f'user_item_mat shape : {user_item_mat.shape}')"
   ]
  },
  {
   "cell_type": "code",
   "execution_count": 10,
   "id": "29e4e273",
   "metadata": {},
   "outputs": [
    {
     "name": "stdout",
     "output_type": "stream",
     "text": [
      "Epoch : 0 , RMSE : 3.1274\n",
      "Epoch : 5 , RMSE : 2.9207\n",
      "Epoch : 10 , RMSE : 3.3988\n",
      "Epoch : 15 , RMSE : 3.5935\n",
      "Epoch : 20 , RMSE : 3.6617\n",
      "Epoch : 25 , RMSE : 3.6869\n"
     ]
    }
   ],
   "source": [
    "import sys\n",
    "sys.path.append('../..')  # Go up two levels to reach the directory containing 'Study'\n",
    "\n",
    "from Study.RecSys.matrixfactorization import matfac\n",
    "from Study.RecSys.SVD.SVD import SVD\n",
    "R_large = user_item_mat.fillna(0)\n",
    "R = np.array(R_large)\n",
    "\n",
    "k=10\n",
    "lr=0.01\n",
    "reg_param = 0.01\n",
    "epochs=30\n",
    "\n",
    "mf_model = matfac.MatrixFactorization(R,k,lr,reg_param,epochs)\n",
    "\n",
    "mf_model.fit()"
   ]
  },
  {
   "cell_type": "code",
   "execution_count": 11,
   "id": "058067ca",
   "metadata": {},
   "outputs": [
    {
     "data": {
      "text/plain": [
       "(118, 1298)"
      ]
     },
     "execution_count": 11,
     "metadata": {},
     "output_type": "execute_result"
    }
   ],
   "source": [
    "R_pred = mf_model.predict()\n",
    "R_pred.shape"
   ]
  },
  {
   "cell_type": "code",
   "execution_count": 19,
   "id": "6e396228",
   "metadata": {},
   "outputs": [
    {
     "name": "stdout",
     "output_type": "stream",
     "text": [
      "ndcg@k mean: 0.3305156015183604\n"
     ]
    }
   ],
   "source": [
    "def ndcg_at_k(y_true, y_score, k=-1): #Vector의 계산으로 이루어짐\n",
    "    y_true = np.array(y_true)\n",
    "    y_score = np.array(y_score)\n",
    "    n = len(y_true)\n",
    "    # k가 -1 또는 데이터 전체보다 크면 k=n으로 보정\n",
    "    if k == -1 or k > n:\n",
    "        k = n\n",
    "\n",
    "    order = np.argsort(y_score)[::-1]\n",
    "    y_true_sorted = y_true[order[:k]]  # k 길이만큼만 자름\n",
    "    dcg = np.sum((2 ** y_true_sorted - 1) / np.log2(np.arange(2, k + 2)))\n",
    "    best_dcg = np.sum((2 ** np.sort(y_true)[::-1][:k] - 1) / np.log2(np.arange(2, k + 2)))\n",
    "\n",
    "    return dcg / best_dcg if best_dcg > 0 else 0.0\n",
    "\n",
    "ndcg_k = []\n",
    "for i,col in enumerate(R_pred):\n",
    "    ndcg_k.append(ndcg_at_k(R[i],R_pred[i],k=-1))\n",
    "print('ndcg@k mean:' , np.mean(ndcg_k))"
   ]
  }
 ],
 "metadata": {
  "kernelspec": {
   "display_name": "jupytercode",
   "language": "python",
   "name": "python3"
  },
  "language_info": {
   "codemirror_mode": {
    "name": "ipython",
    "version": 3
   },
   "file_extension": ".py",
   "mimetype": "text/x-python",
   "name": "python",
   "nbconvert_exporter": "python",
   "pygments_lexer": "ipython3",
   "version": "3.13.1"
  }
 },
 "nbformat": 4,
 "nbformat_minor": 5
}
