{
 "cells": [
  {
   "cell_type": "code",
   "execution_count": 15,
   "metadata": {},
   "outputs": [
    {
     "name": "stdout",
     "output_type": "stream",
     "text": [
      "Cornac version: 2.3.3\n",
      "rating_threshold = 4.0\n",
      "exclude_unknowns = True\n",
      "---\n",
      "Training data:\n",
      "Number of users = 943\n",
      "Number of items = 1656\n",
      "Number of ratings = 80000\n",
      "Max rating = 5.0\n",
      "Min rating = 1.0\n",
      "Global mean = 3.5\n",
      "---\n",
      "Test data:\n",
      "Number of users = 943\n",
      "Number of items = 1656\n",
      "Number of ratings = 19971\n",
      "Number of unknown users = 0\n",
      "Number of unknown items = 0\n",
      "---\n",
      "Total users = 943\n",
      "Total items = 1656\n",
      "\n",
      "[SANSA] Training started!\n"
     ]
    },
    {
     "ename": "ModuleNotFoundError",
     "evalue": "No module named 'sansa'",
     "output_type": "error",
     "traceback": [
      "\u001b[31m---------------------------------------------------------------------------\u001b[39m",
      "\u001b[31mModuleNotFoundError\u001b[39m                       Traceback (most recent call last)",
      "\u001b[36mCell\u001b[39m\u001b[36m \u001b[39m\u001b[32mIn[15]\u001b[39m\u001b[32m, line 25\u001b[39m\n\u001b[32m     18\u001b[39m metrics = [Precision(\u001b[32m10\u001b[39m), Recall(k=\u001b[32m10\u001b[39m), NDCG(k=\u001b[32m10\u001b[39m), AUC]\n\u001b[32m     20\u001b[39m \u001b[38;5;66;03m# Instantiate and run an experiment\u001b[39;00m\n\u001b[32m     21\u001b[39m \u001b[43mcornac\u001b[49m\u001b[43m.\u001b[49m\u001b[43mExperiment\u001b[49m\u001b[43m(\u001b[49m\n\u001b[32m     22\u001b[39m \u001b[43m    \u001b[49m\u001b[43meval_method\u001b[49m\u001b[43m=\u001b[49m\u001b[43mratio_split\u001b[49m\u001b[43m,\u001b[49m\n\u001b[32m     23\u001b[39m \u001b[43m    \u001b[49m\u001b[43mmodels\u001b[49m\u001b[43m=\u001b[49m\u001b[43m[\u001b[49m\u001b[43mSANSA\u001b[49m\u001b[43m(\u001b[49m\u001b[43ml2\u001b[49m\u001b[43m=\u001b[49m\u001b[32;43m1e-3\u001b[39;49m\u001b[43m,\u001b[49m\u001b[43m \u001b[49m\u001b[43mverbose\u001b[49m\u001b[43m=\u001b[49m\u001b[38;5;28;43;01mTrue\u001b[39;49;00m\u001b[43m,\u001b[49m\u001b[43mseed\u001b[49m\u001b[43m=\u001b[49m\u001b[32;43m42\u001b[39;49m\u001b[43m)\u001b[49m\u001b[43m]\u001b[49m\u001b[43m,\u001b[49m\n\u001b[32m     24\u001b[39m \u001b[43m    \u001b[49m\u001b[43mmetrics\u001b[49m\u001b[43m=\u001b[49m\u001b[43mmetrics\u001b[49m\u001b[43m,\u001b[49m\n\u001b[32m---> \u001b[39m\u001b[32m25\u001b[39m \u001b[43m    \u001b[49m\u001b[43muser_based\u001b[49m\u001b[43m=\u001b[49m\u001b[38;5;28;43;01mTrue\u001b[39;49;00m\u001b[43m)\u001b[49m\u001b[43m.\u001b[49m\u001b[43mrun\u001b[49m\u001b[43m(\u001b[49m\u001b[43m)\u001b[49m\n",
      "\u001b[36mFile \u001b[39m\u001b[32mc:\\Users\\hananthony1\\AppData\\Local\\miniconda3\\envs\\test\\Lib\\site-packages\\cornac\\experiment\\experiment.py:142\u001b[39m, in \u001b[36mExperiment.run\u001b[39m\u001b[34m(self)\u001b[39m\n\u001b[32m    139\u001b[39m         model.verbose = \u001b[38;5;28mself\u001b[39m.verbose\n\u001b[32m    141\u001b[39m \u001b[38;5;28;01mfor\u001b[39;00m model \u001b[38;5;129;01min\u001b[39;00m \u001b[38;5;28mself\u001b[39m.models:\n\u001b[32m--> \u001b[39m\u001b[32m142\u001b[39m     test_result, val_result = \u001b[38;5;28;43mself\u001b[39;49m\u001b[43m.\u001b[49m\u001b[43meval_method\u001b[49m\u001b[43m.\u001b[49m\u001b[43mevaluate\u001b[49m\u001b[43m(\u001b[49m\n\u001b[32m    143\u001b[39m \u001b[43m        \u001b[49m\u001b[43mmodel\u001b[49m\u001b[43m=\u001b[49m\u001b[43mmodel\u001b[49m\u001b[43m,\u001b[49m\n\u001b[32m    144\u001b[39m \u001b[43m        \u001b[49m\u001b[43mmetrics\u001b[49m\u001b[43m=\u001b[49m\u001b[38;5;28;43mself\u001b[39;49m\u001b[43m.\u001b[49m\u001b[43mmetrics\u001b[49m\u001b[43m,\u001b[49m\n\u001b[32m    145\u001b[39m \u001b[43m        \u001b[49m\u001b[43muser_based\u001b[49m\u001b[43m=\u001b[49m\u001b[38;5;28;43mself\u001b[39;49m\u001b[43m.\u001b[49m\u001b[43muser_based\u001b[49m\u001b[43m,\u001b[49m\n\u001b[32m    146\u001b[39m \u001b[43m        \u001b[49m\u001b[43mshow_validation\u001b[49m\u001b[43m=\u001b[49m\u001b[38;5;28;43mself\u001b[39;49m\u001b[43m.\u001b[49m\u001b[43mshow_validation\u001b[49m\u001b[43m,\u001b[49m\n\u001b[32m    147\u001b[39m \u001b[43m    \u001b[49m\u001b[43m)\u001b[49m\n\u001b[32m    149\u001b[39m     \u001b[38;5;28mself\u001b[39m.result.append(test_result)\n\u001b[32m    150\u001b[39m     \u001b[38;5;28;01mif\u001b[39;00m \u001b[38;5;28mself\u001b[39m.val_result \u001b[38;5;129;01mis\u001b[39;00m \u001b[38;5;129;01mnot\u001b[39;00m \u001b[38;5;28;01mNone\u001b[39;00m:\n",
      "\u001b[36mFile \u001b[39m\u001b[32mc:\\Users\\hananthony1\\AppData\\Local\\miniconda3\\envs\\test\\Lib\\site-packages\\cornac\\eval_methods\\base_method.py:734\u001b[39m, in \u001b[36mBaseMethod.evaluate\u001b[39m\u001b[34m(self, model, metrics, user_based, show_validation)\u001b[39m\n\u001b[32m    731\u001b[39m     \u001b[38;5;28mprint\u001b[39m(\u001b[33m\"\u001b[39m\u001b[38;5;130;01m\\n\u001b[39;00m\u001b[33m[\u001b[39m\u001b[38;5;132;01m{}\u001b[39;00m\u001b[33m] Training started!\u001b[39m\u001b[33m\"\u001b[39m.format(model.name))\n\u001b[32m    733\u001b[39m start = time.time()\n\u001b[32m--> \u001b[39m\u001b[32m734\u001b[39m \u001b[43mmodel\u001b[49m\u001b[43m.\u001b[49m\u001b[43mfit\u001b[49m\u001b[43m(\u001b[49m\u001b[38;5;28;43mself\u001b[39;49m\u001b[43m.\u001b[49m\u001b[43mtrain_set\u001b[49m\u001b[43m,\u001b[49m\u001b[43m \u001b[49m\u001b[38;5;28;43mself\u001b[39;49m\u001b[43m.\u001b[49m\u001b[43mval_set\u001b[49m\u001b[43m)\u001b[49m\n\u001b[32m    735\u001b[39m train_time = time.time() - start\n\u001b[32m    737\u001b[39m \u001b[38;5;66;03m##############\u001b[39;00m\n\u001b[32m    738\u001b[39m \u001b[38;5;66;03m# EVALUATION #\u001b[39;00m\n\u001b[32m    739\u001b[39m \u001b[38;5;66;03m##############\u001b[39;00m\n",
      "\u001b[36mFile \u001b[39m\u001b[32mc:\\Users\\hananthony1\\AppData\\Local\\miniconda3\\envs\\test\\Lib\\site-packages\\cornac\\models\\sansa\\recom_sansa.py:129\u001b[39m, in \u001b[36mSANSA.fit\u001b[39m\u001b[34m(self, train_set, val_set)\u001b[39m\n\u001b[32m    113\u001b[39m \u001b[38;5;250m\u001b[39m\u001b[33;03m\"\"\"Fit the model to observations.\u001b[39;00m\n\u001b[32m    114\u001b[39m \n\u001b[32m    115\u001b[39m \u001b[33;03mParameters\u001b[39;00m\n\u001b[32m   (...)\u001b[39m\u001b[32m    125\u001b[39m \u001b[33;03mself : object\u001b[39;00m\n\u001b[32m    126\u001b[39m \u001b[33;03m\"\"\"\u001b[39;00m\n\u001b[32m    127\u001b[39m Recommender.fit(\u001b[38;5;28mself\u001b[39m, train_set, val_set)\n\u001b[32m--> \u001b[39m\u001b[32m129\u001b[39m \u001b[38;5;28;01mfrom\u001b[39;00m\u001b[38;5;250m \u001b[39m\u001b[34;01msansa\u001b[39;00m\u001b[34;01m.\u001b[39;00m\u001b[34;01mcore\u001b[39;00m\u001b[38;5;250m \u001b[39m\u001b[38;5;28;01mimport\u001b[39;00m (\n\u001b[32m    130\u001b[39m     FactorizationMethod,\n\u001b[32m    131\u001b[39m     GramianFactorizer,\n\u001b[32m    132\u001b[39m     CHOLMODGramianFactorizerConfig,\n\u001b[32m    133\u001b[39m     ICFGramianFactorizerConfig,\n\u001b[32m    134\u001b[39m     UnitLowerTriangleInverter,\n\u001b[32m    135\u001b[39m     UMRUnitLowerTriangleInverterConfig,\n\u001b[32m    136\u001b[39m )\n\u001b[32m    137\u001b[39m \u001b[38;5;28;01mfrom\u001b[39;00m\u001b[38;5;250m \u001b[39m\u001b[34;01msansa\u001b[39;00m\u001b[34;01m.\u001b[39;00m\u001b[34;01mutils\u001b[39;00m\u001b[38;5;250m \u001b[39m\u001b[38;5;28;01mimport\u001b[39;00m get_squared_norms_along_compressed_axis, inplace_scale_along_compressed_axis, inplace_scale_along_uncompressed_axis\n\u001b[32m    139\u001b[39m \u001b[38;5;66;03m# User-item interaction matrix (sp.csr_matrix)\u001b[39;00m\n",
      "\u001b[31mModuleNotFoundError\u001b[39m: No module named 'sansa'"
     ]
    }
   ],
   "source": [
    "import cornac\n",
    "from cornac.datasets import movielens\n",
    "from cornac.eval_methods import RatioSplit\n",
    "from cornac.models import SANSA\n",
    "from cornac.metrics import Precision, Recall, NDCG, AUC\n",
    "print(f'Cornac version: {cornac.__version__}')\n",
    "\n",
    "# Load the MovieLens 100k dataset\n",
    "ml_100k = movielens.load_feedback()\n",
    "\n",
    "# Define an evaluation method to split the data into training and testing sets\n",
    "ratio_split = RatioSplit(data=ml_100k, test_size=0.2, rating_threshold=4.0, seed=123, verbose=True)\n",
    "\n",
    "# Instantiate the SANSA model\n",
    "sansa = SANSA(l2=1e-3, verbose=True,seed=42)\n",
    "\n",
    "# Define evaluation metrics\n",
    "metrics = [Precision(10), Recall(k=10), NDCG(k=10), AUC]\n",
    "\n",
    "# Instantiate and run an experiment\n",
    "cornac.Experiment(\n",
    "    eval_method=ratio_split,\n",
    "    models=[SANSA(l2=1e-3, verbose=True,seed=42)],\n",
    "    metrics=metrics,\n",
    "    user_based=True).run()\n"
   ]
  }
 ],
 "metadata": {
  "kernelspec": {
   "display_name": "test",
   "language": "python",
   "name": "python3"
  },
  "language_info": {
   "codemirror_mode": {
    "name": "ipython",
    "version": 3
   },
   "file_extension": ".py",
   "mimetype": "text/x-python",
   "name": "python",
   "nbconvert_exporter": "python",
   "pygments_lexer": "ipython3",
   "version": "3.11.13"
  }
 },
 "nbformat": 4,
 "nbformat_minor": 4
}
