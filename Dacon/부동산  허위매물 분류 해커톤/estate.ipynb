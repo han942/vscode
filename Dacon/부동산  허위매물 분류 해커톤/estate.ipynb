{
 "cells": [
  {
   "cell_type": "markdown",
   "metadata": {},
   "source": [
    "# 부동산 허위매물 분류 해커톤"
   ]
  },
  {
   "cell_type": "markdown",
   "metadata": {},
   "source": [
    "## Data Import\n"
   ]
  },
  {
   "cell_type": "code",
   "execution_count": null,
   "metadata": {},
   "outputs": [],
   "source": [
    "import pandas as pd\n",
    "import numpy as np\n",
    "import seaborn as sns\n",
    "import matplotlib.pyplot as plt\n",
    "import datetime as dt\n",
    "\n",
    "plt.style.use('bmh')\n",
    "plt.rcParams['font.family'] = 'Malgun Gothic'"
   ]
  },
  {
   "cell_type": "code",
   "execution_count": null,
   "metadata": {},
   "outputs": [],
   "source": [
    "train = pd.read_csv('https://raw.githubusercontent.com/han942/vscode/refs/heads/main/datafile/dacon/fakerealestate/train.csv')\n",
    "test = pd.read_csv('https://raw.githubusercontent.com/han942/vscode/refs/heads/main/datafile/dacon/fakerealestate/test.csv')\n",
    "submit = pd.read_csv('https://raw.githubusercontent.com/han942/vscode/refs/heads/main/datafile/dacon/fakerealestate/sample_submission.csv')"
   ]
  },
  {
   "cell_type": "code",
   "execution_count": null,
   "metadata": {},
   "outputs": [],
   "source": [
    "train.head()"
   ]
  },
  {
   "cell_type": "code",
   "execution_count": null,
   "metadata": {},
   "outputs": [],
   "source": [
    "test.head()"
   ]
  },
  {
   "cell_type": "code",
   "execution_count": null,
   "metadata": {},
   "outputs": [],
   "source": [
    "def summary(df):\n",
    "    print(f'data shape: {df.shape}')\n",
    "    summ = pd.DataFrame(df.dtypes,columns=['data type'])\n",
    "    summ['#missing'] = df.isnull().sum().values\n",
    "    summ['%missing'] = df.isnull().sum().values / len(df) *100\n",
    "    summ['#unique'] = df.nunique().values\n",
    "    desc = pd.DataFrame(df.describe(include='all').transpose())\n",
    "    summ['min'] = desc['min'].values\n",
    "    summ['max'] = desc['max'].values\n",
    "    \n",
    "    return summ\n",
    "summary(train)"
   ]
  },
  {
   "cell_type": "code",
   "execution_count": null,
   "metadata": {},
   "outputs": [],
   "source": [
    "for i in [train,test]:\n",
    "    i['제공플랫폼'] = i['제공플랫폼'].apply(lambda x: x.replace('플랫폼',''))\n",
    "    i['게재일'] = pd.to_datetime(i['게재일'],format='%Y-%m-%d')\n",
    "    i['년'] = i['게재일'].dt.year\n",
    "    i['월'] = i['게재일'].dt.month\n",
    "    i['일'] = i['게재일'].dt.day\n",
    "    i['요일'] = i['게재일'].dt.weekday\n",
    "del train['게재일'],test['게재일']"
   ]
  },
  {
   "cell_type": "markdown",
   "metadata": {},
   "source": [
    "## EDA\n",
    "\n",
    "- 결측치 : 전용면적(연속형),해당층,총층,방수,욕실수,총주차대수\n",
    "- 총층와 해당층 관련된 유사관계\n",
    "- 관리비: 0의 의미"
   ]
  },
  {
   "cell_type": "code",
   "execution_count": null,
   "metadata": {},
   "outputs": [],
   "source": [
    "df_tr = train.copy()\n",
    "df_te = test.copy()\n",
    "\n",
    "df_tr = df_tr.drop('ID',axis=1)\n",
    "df_te = df_te.drop('ID',axis=1)"
   ]
  },
  {
   "cell_type": "code",
   "execution_count": null,
   "metadata": {},
   "outputs": [],
   "source": [
    "con_col = ['보증금','월세','전용면적','관리비','해당층','총층','방수','욕실수','총주차대수']\n",
    "cat_col = [col for col in df_tr.columns if col not in con_col]\n",
    "cat_col.remove('중개사무소')\n",
    "cat_col.remove('허위매물여부')"
   ]
  },
  {
   "cell_type": "markdown",
   "metadata": {},
   "source": [
    "### Total Distribution"
   ]
  },
  {
   "cell_type": "code",
   "execution_count": null,
   "metadata": {},
   "outputs": [],
   "source": [
    "con_col"
   ]
  },
  {
   "cell_type": "code",
   "execution_count": null,
   "metadata": {},
   "outputs": [],
   "source": [
    "fig,ax = plt.subplots(3,3,figsize=(10,8))\n",
    "ax = ax.flatten()\n",
    "\n",
    "for i,col in enumerate(con_col):\n",
    "    sns.histplot(df_tr[col],ax=ax[i])"
   ]
  },
  {
   "cell_type": "code",
   "execution_count": null,
   "metadata": {},
   "outputs": [],
   "source": [
    "fig,ax = plt.subplots(4,2,figsize=(12,10))\n",
    "ax = ax.flatten()\n",
    "\n",
    "for i,col in enumerate(cat_col):\n",
    "    sns.histplot(df_tr[col],ax=ax[i])"
   ]
  },
  {
   "cell_type": "code",
   "execution_count": null,
   "metadata": {},
   "outputs": [],
   "source": [
    "fig, ax = plt.subplots(3, 3, figsize=(12,8))\n",
    "ax = ax.flatten()\n",
    "\n",
    "for i, col in enumerate(con_col):\n",
    "    sns.kdeplot(data=df_tr, x=col,ax=ax[i],color='blue')\n",
    "    sns.kdeplot(data=df_te,x=col,ax=ax[i],color='red')\n",
    "    ax[i].set_title(f'{col} KDE',weight='bold')\n"
   ]
  },
  {
   "cell_type": "code",
   "execution_count": null,
   "metadata": {},
   "outputs": [],
   "source": [
    "fig,ax = plt.subplots(3,3,figsize=(11,8))\n",
    "ax = ax.flatten()\n",
    "\n",
    "for i,col in enumerate(con_col):\n",
    "    sns.kdeplot(x=df_tr[col],hue=df_tr['허위매물여부'],ax=ax[i])"
   ]
  },
  {
   "cell_type": "code",
   "execution_count": null,
   "metadata": {},
   "outputs": [],
   "source": [
    "fig,ax = plt.subplots(3,3,figsize=(11,8))\n",
    "ax = ax.flatten()\n",
    "\n",
    "for i,col in enumerate(con_col):\n",
    "    sns.histplot(x=df_tr[col],hue=df_tr['허위매물여부'],ax=ax[i],multiple='dodge')"
   ]
  },
  {
   "cell_type": "markdown",
   "metadata": {},
   "source": [
    "### 1.매물 확인방식"
   ]
  },
  {
   "cell_type": "code",
   "execution_count": null,
   "metadata": {},
   "outputs": [],
   "source": [
    "sns.histplot(x=df_tr['매물확인방식'],hue=df_tr['허위매물여부'],multiple='dodge')"
   ]
  },
  {
   "cell_type": "markdown",
   "metadata": {},
   "source": [
    "### 2. 보증금 & 월세\n",
    "- 허위매물 보증금/월세 분포도 전체 보증금/월세를 따라감 => 별다른 전처리X\n",
    "- 월세와 보증금 간의 관계: 일정부분의 상관관계?\n",
    "- 월세가 0인 데이터도 존재 => 이는 모두 허위매물임"
   ]
  },
  {
   "cell_type": "code",
   "execution_count": null,
   "metadata": {},
   "outputs": [],
   "source": [
    "df_tr.loc[df_tr['월세']<10000]"
   ]
  },
  {
   "cell_type": "code",
   "execution_count": null,
   "metadata": {},
   "outputs": [],
   "source": [
    "sns.histplot(x=df_tr['보증금'].loc[df_tr['허위매물여부']==1])"
   ]
  },
  {
   "cell_type": "code",
   "execution_count": null,
   "metadata": {},
   "outputs": [],
   "source": [
    "sns.regplot(x=df_tr['월세'],y=df_tr['관리비'],line_kws={'color':'red'})"
   ]
  },
  {
   "cell_type": "code",
   "execution_count": null,
   "metadata": {},
   "outputs": [],
   "source": [
    "sns.regplot(x=df_tr['월세'],y=df_tr['보증금'],line_kws={'color':'red'})"
   ]
  },
  {
   "cell_type": "markdown",
   "metadata": {},
   "source": [
    "### 3.전용면적\n",
    "- 결측치가 존재 1/6정도(787개)\n",
    "- 전용면적은 방의 갯수,월세,보증금 등 여럿 변수에 영향을 받는다.\n",
    "- 최소면적인 17.5의 방이 300개\n",
    "    - 당연하게도? 17.5인 방에 허위매물이 많음(**12%**)\n",
    "    \n",
    "- 월세 / 보증금과 그렇게 특이한 부분이 띄진 않음.\n",
    "- 결측치 / 결측치가 아닌 data의 target 비율이 비슷함.\n"
   ]
  },
  {
   "cell_type": "code",
   "execution_count": null,
   "metadata": {},
   "outputs": [],
   "source": [
    "sns.displot(x=df_tr['전용면적'].loc[df_tr['전용면적']==17.5],hue=df_tr['허위매물여부'],multiple='dodge')"
   ]
  },
  {
   "cell_type": "code",
   "execution_count": null,
   "metadata": {},
   "outputs": [],
   "source": [
    "fig,ax = plt.subplots(1,2,figsize=(8,5))\n",
    "sns.histplot(x=df_tr['전용면적'].isna(),hue=df_tr['허위매물여부'],ax=ax[0],stat='percent',multiple='dodge')\n",
    "sns.histplot(df_tr['전용면적'].loc[df_tr['허위매물여부']==1], color='red', stat='percent',ax=ax[1])\n",
    "ax[0].set_title('결측치에 따른 허위매물 분포',weight='bold')\n",
    "ax[1].set_title('허위매물의 전용면적 분포',weight='bold')"
   ]
  },
  {
   "cell_type": "code",
   "execution_count": null,
   "metadata": {},
   "outputs": [],
   "source": [
    "df_tr.loc[df_tr['전용면적'].isna()]"
   ]
  },
  {
   "cell_type": "code",
   "execution_count": null,
   "metadata": {},
   "outputs": [],
   "source": [
    "fig,ax = plt.subplots(2,2,figsize=(11,7))\n",
    "ax=ax.flatten()\n",
    "sns.regplot(x='전용면적',y='보증금',data=df_tr,line_kws={'color':'black'},ax=ax[0])\n",
    "sns.regplot(x='전용면적',y='월세',data=df_tr,line_kws={'color':'black'},ax=ax[1])\n",
    "sns.scatterplot(x='전용면적',y='보증금',data=df_tr,hue='허위매물여부',ax=ax[2],alpha=0.7)\n",
    "sns.scatterplot(x='전용면적',y='월세',data=df_tr,hue='허위매물여부',ax=ax[3],alpha=0.7)"
   ]
  },
  {
   "cell_type": "code",
   "execution_count": null,
   "metadata": {},
   "outputs": [],
   "source": [
    "sns.scatterplot(x=df_tr['총주차대수'],y=df_tr['전용면적'],hue=df_tr['방수'],alpha=0.6)"
   ]
  },
  {
   "cell_type": "markdown",
   "metadata": {},
   "source": [
    "### 4. 해당층 / 총층\n",
    "- 해당층 // 총층의 값을 '층비율' 변수 정의로 하면 좋을듯.\n",
    "\n",
    "- 총층이 결측치면 무조건 해당층도 결측치임. (총층:16개 / 해당층:229)\n",
    "    - 총층 결측치는 삭제해도 괜찮을듯\n",
    "    - 결측치 내부의 허위매물 비율도 별 특징 없는듯\n"
   ]
  },
  {
   "cell_type": "code",
   "execution_count": null,
   "metadata": {},
   "outputs": [],
   "source": [
    "df_tr.loc[df_tr['총층'].isna()]"
   ]
  },
  {
   "cell_type": "code",
   "execution_count": null,
   "metadata": {},
   "outputs": [],
   "source": [
    "fig, ax = plt.subplots(1, 2, figsize=(11, 5))\n",
    "sns.histplot(x=df_tr['해당층'], hue=df_tr['허위매물여부'], multiple='dodge', ax=ax[0])\n",
    "ax[0].set_title('해당층 분포',weight='bold')\n",
    "\n",
    "sns.histplot(x=df_tr['총층'], hue=df_tr['허위매물여부'], multiple='dodge', ax=ax[1])\n",
    "ax[1].set_title('총층 분포',weight='bold')"
   ]
  },
  {
   "cell_type": "code",
   "execution_count": null,
   "metadata": {},
   "outputs": [],
   "source": [
    "fig, ax = plt.subplots(1, 2, figsize=(12, 5))\n",
    "\n",
    "sns.countplot(x=df_tr['해당층'].isna(), hue=df_tr['허위매물여부'], ax=ax[0])\n",
    "ax[0].set_title('해당층 결측치에 따른 허위매물 분포', weight='bold')\n",
    "\n",
    "sns.countplot(x=df_tr['총층'].isna(), hue=df_tr['허위매물여부'], ax=ax[1])\n",
    "ax[1].set_title('총층 결측치에 따른 허위매물 분포', weight='bold')\n",
    "# Adding percentage labels on the bars\n",
    "for a in ax:\n",
    "    for p in a.patches:\n",
    "        height = p.get_height()\n",
    "        total = len(df_tr)\n",
    "        a.text(p.get_x() + p.get_width() / 2., height + 3,\n",
    "               f'{height/total:.1%}', ha=\"center\")"
   ]
  },
  {
   "cell_type": "code",
   "execution_count": null,
   "metadata": {},
   "outputs": [],
   "source": [
    "sns.scatterplot(data=df_tr, x='총층', y='해당층', alpha=0.5)"
   ]
  },
  {
   "cell_type": "markdown",
   "metadata": {},
   "source": [
    "### 5. 방향"
   ]
  },
  {
   "cell_type": "code",
   "execution_count": null,
   "metadata": {},
   "outputs": [],
   "source": [
    "sns.histplot(x=df_tr['방향'],hue=df_tr['허위매물여부'],multiple='dodge',stat='percent')"
   ]
  },
  {
   "cell_type": "markdown",
   "metadata": {},
   "source": [
    "### 6. 방수 / 욕실수\n",
    "- 결측치가 별로 없음. (방수:16 / 욕실:18)\n",
    "    - 방수,총층의 결측치(16개)가 모두 겹침(이부분은 제거하는게 맞을듯)\n",
    "    - 결측치의 합집합은 1171 칼럼.\n",
    "- 방 수에 따라서 허위매물에 영향을 끼치는게 있을듯. (특히 2개)"
   ]
  },
  {
   "cell_type": "code",
   "execution_count": null,
   "metadata": {},
   "outputs": [],
   "source": [
    "df_tr[['전용면적','해당층','총층','방수','욕실수','총주차대수']][df_tr.isna().any(axis=1)]"
   ]
  },
  {
   "cell_type": "code",
   "execution_count": null,
   "metadata": {},
   "outputs": [],
   "source": [
    "df_tr.loc[df_tr['방수'].isna() & df_tr['총층'].isna()]"
   ]
  },
  {
   "cell_type": "code",
   "execution_count": null,
   "metadata": {},
   "outputs": [],
   "source": [
    "fig, ax = plt.subplots(1, 2, figsize=(12, 5))\n",
    "sns.countplot(x=df_tr['방수'], hue=df_tr['허위매물여부'], ax=ax[0])\n",
    "ax[0].set_title('방수에 따른 허위매물 분포', weight='bold')\n",
    "\n",
    "sns.countplot(x=df_tr['욕실수'], hue=df_tr['허위매물여부'], ax=ax[1])\n",
    "ax[1].set_title('욕실수에 따른 허위매물 분포', weight='bold')\n",
    "\n",
    "# Adding percentage labels on the bars\n",
    "for p in ax[0].patches:\n",
    "    height = p.get_height()\n",
    "    total = len(df_tr)\n",
    "    ax[0].text(p.get_x() + p.get_width() / 2., height + 3,\n",
    "               f'{height/total:.1%}', ha=\"center\")\n",
    "\n",
    "for p in ax[1].patches:\n",
    "    height = p.get_height()\n",
    "    total = len(df_tr)\n",
    "    ax[1].text(p.get_x() + p.get_width() / 2., height + 3,\n",
    "               f'{height/total:.1%}', ha=\"center\")"
   ]
  },
  {
   "cell_type": "code",
   "execution_count": null,
   "metadata": {},
   "outputs": [],
   "source": [
    "fig, ax = plt.subplots(1, 2, figsize=(12, 5))\n",
    "\n",
    "sns.countplot(x=df_tr['방수'].isna(), hue=df_tr['허위매물여부'], ax=ax[0])\n",
    "ax[0].set_title('방수 결측치에 따른 허위매물 분포', weight='bold')\n",
    "\n",
    "sns.countplot(x=df_tr['욕실수'].isna(), hue=df_tr['허위매물여부'], ax=ax[1])\n",
    "ax[1].set_title('욕실수 결측치에 따른 허위매물 분포', weight='bold')\n",
    "# Adding percentage labels on the bars\n",
    "for a in ax:\n",
    "    for p in a.patches:\n",
    "        height = p.get_height()\n",
    "        total = len(df_tr)\n",
    "        a.text(p.get_x() + p.get_width() / 2., height + 3,\n",
    "               f'{height/total:.1%}', ha=\"center\")"
   ]
  },
  {
   "cell_type": "markdown",
   "metadata": {},
   "source": [
    "### 7.주차가능여부 / 총주차대수\n",
    "- 총주차대수의 결측치에 꽤 많은 허위매물이 존재함.\n",
    "- 100~300대의 주차공간이 가능한 매물 / 600개 이상의 주차공간을 가진 곳도 존재\n",
    "    - 이상치로 치부할것인가? => **이상치 고려X**\n",
    "\n",
    "- 주차가능여부가 불가능인데 총주차대수가 기록되어있는 데이터??\n",
    "    - 총 데이터는 630개\n",
    "    - 하지만 결측치가 있는 데이터 696개\n",
    "    "
   ]
  },
  {
   "cell_type": "code",
   "execution_count": null,
   "metadata": {},
   "outputs": [],
   "source": [
    "df_tr.loc[df_tr['총주차대수'].isna()][['주차가능여부','총주차대수']]"
   ]
  },
  {
   "cell_type": "code",
   "execution_count": null,
   "metadata": {},
   "outputs": [],
   "source": [
    "df_tr.loc[df_tr['총주차대수'].isna()]['주차가능여부'].value_counts()"
   ]
  },
  {
   "cell_type": "code",
   "execution_count": null,
   "metadata": {},
   "outputs": [],
   "source": [
    "fig, ax = plt.subplots(1, 2, figsize=(12, 5))\n",
    "\n",
    "sns.histplot(x=df_tr['주차가능여부'], hue=df_tr['허위매물여부'], multiple='dodge', ax=ax[0])\n",
    "ax[0].set_title('주차가능여부에 따른 허위매물 분포', weight='bold')\n",
    " \n",
    "sns.histplot(x=df_tr['총주차대수'], hue=df_tr['허위매물여부'], ax=ax[1],multiple='dodge')\n",
    "ax[1].set_title('총주차대수에 따른 허위매물 분포', weight='bold')\n",
    "ax[1].set_xlim(0,300)\n",
    "# Adding percentage labels on the bars\n",
    "for a in ax:\n",
    "    for p in a.patches:\n",
    "        height = p.get_height()\n",
    "        total = len(df_tr)\n",
    "        if height / total > 0.0:\n",
    "            a.text(p.get_x() + p.get_width() / 2., height + 3,\n",
    "               f'{height/total:.1%}', ha=\"center\")\n",
    "plt.tight_layout()"
   ]
  },
  {
   "cell_type": "code",
   "execution_count": null,
   "metadata": {},
   "outputs": [],
   "source": [
    "df_miss = df_tr.loc[(df_tr['주차가능여부']=='불가능')][['허위매물여부','총주차대수']]\n",
    "df_miss.fillna(-1, inplace=True)\n",
    "fig, ax = plt.subplots(figsize=(15, 5))\n",
    "sns.countplot(x=df_miss['총주차대수'].loc[df_miss['총주차대수']<50], hue=df_miss['허위매물여부'], ax=ax)\n",
    "# Adding percentage labels on the bars\n",
    "total = len(df_miss)\n",
    "for p in ax.patches:\n",
    "    height = p.get_height()\n",
    "    if height / total > 0.0:\n",
    "        ax.text(p.get_x() + p.get_width() / 2., height + 3,\n",
    "                f'{height/total:.1%}', ha=\"center\")"
   ]
  },
  {
   "cell_type": "code",
   "execution_count": null,
   "metadata": {},
   "outputs": [],
   "source": [
    "fig, ax = plt.subplots(1, 2, figsize=(12, 5))\n",
    "\n",
    "sns.histplot(x=df_tr['총주차대수'].isna(), hue=df_tr['허위매물여부'], multiple='dodge', stat='percent', ax=ax[0])\n",
    "ax[0].set_title('총주차대수 결측치에 따른 허위매물 분포', weight='bold')\n",
    "sns.histplot(x=df_tr['총주차대수'].loc[df_tr['허위매물여부']==1], ax=ax[1],color='red')\n",
    "ax[1].set_title('허위매물의 총주차대수 분포', weight='bold')"
   ]
  },
  {
   "cell_type": "markdown",
   "metadata": {},
   "source": [
    "### 8. 관리비\n",
    "- 관리비에 이상치가 몇개 존재하는듯\n",
    "    \n",
    "- 관리비가 0인 데이터가 많음 => 0의 의미?"
   ]
  },
  {
   "cell_type": "code",
   "execution_count": null,
   "metadata": {},
   "outputs": [],
   "source": [
    "print(df_tr['관리비'].loc[df_tr['허위매물여부']==1].value_counts(normalize=True)[:5])\n",
    "df_tr.loc[df_tr['관리비']>20].sort_values('관리비',ascending=False)"
   ]
  },
  {
   "cell_type": "code",
   "execution_count": null,
   "metadata": {},
   "outputs": [],
   "source": [
    "#0인 허위매물의 비율이 30%\n",
    "sns.displot(x=df_tr['관리비'].loc[df_tr['관리비']<20],hue=df_tr['허위매물여부'],multiple='dodge')"
   ]
  },
  {
   "cell_type": "markdown",
   "metadata": {},
   "source": [
    "### 9. 중개사무소 / 제공플랫폼\n",
    "- 중개사무소에서 사기가 시작될 확률이 높다.\n",
    "    - 특정 중개사무소에 꽤 사건이 발생했음.\n",
    "    - 총 132개의 중개사무소에서 허위매물이 발생했음\n"
   ]
  },
  {
   "cell_type": "code",
   "execution_count": null,
   "metadata": {},
   "outputs": [],
   "source": [
    "df_tr['제공플랫폼'].value_counts()"
   ]
  },
  {
   "cell_type": "code",
   "execution_count": null,
   "metadata": {},
   "outputs": [],
   "source": [
    "#허위매물이 있는 중개사무소 이름 (허위매물이 많은 순서대로)\n",
    "estate_agency = df_tr.loc[df_tr['허위매물여부']==1].value_counts(subset=['중개사무소']).to_frame().reset_index()['중개사무소'].to_list()"
   ]
  },
  {
   "cell_type": "code",
   "execution_count": null,
   "metadata": {},
   "outputs": [],
   "source": [
    "df_tr.loc[(df_tr['중개사무소'].isin(estate_agency[:2]))&(df_tr['허위매물여부']==1)]"
   ]
  },
  {
   "cell_type": "code",
   "execution_count": null,
   "metadata": {},
   "outputs": [],
   "source": [
    "df_tr.loc[(df_tr['중개사무소']=='G52Iz8V2B9') & (df_tr['허위매물여부']==1)]"
   ]
  },
  {
   "cell_type": "code",
   "execution_count": null,
   "metadata": {},
   "outputs": [],
   "source": [
    "fig, ax = plt.subplots(figsize=(12, 5))\n",
    "sns.histplot(x=df_tr['제공플랫폼'], hue=df_tr['허위매물여부'], multiple='dodge', ax=ax)\n",
    "\n",
    "# Adding percentage labels on the bars\n",
    "total = len(df_tr)\n",
    "for p in ax.patches:\n",
    "    height = p.get_height()\n",
    "    if height > 0:\n",
    "        ax.text(p.get_x() + p.get_width() / 2., height + 3,\n",
    "                f'{height/total:.1%}', ha=\"center\")"
   ]
  },
  {
   "cell_type": "markdown",
   "metadata": {},
   "source": [
    "### 10. 년/월/일/요일\n",
    "- 요일에 따라서는 진짜 구분이 없음. => 요일 feature 삭제 고려"
   ]
  },
  {
   "cell_type": "code",
   "execution_count": null,
   "metadata": {},
   "outputs": [],
   "source": [
    "fig, ax = plt.subplots(2, 2, figsize=(11, 7))\n",
    "sns.histplot(df_tr['년'], ax=ax[0, 0])\n",
    "ax[0, 0].set_title('년 분포', weight='bold')\n",
    "\n",
    "sns.histplot(df_tr['월'], ax=ax[0, 1])\n",
    "ax[0, 1].set_title('월 분포', weight='bold')\n",
    "\n",
    "sns.histplot(df_tr['일'], ax=ax[1, 0])\n",
    "ax[1, 0].set_title('일 분포', weight='bold')\n",
    "\n",
    "sns.histplot(df_tr['요일'], ax=ax[1, 1])\n",
    "ax[1, 1].set_title('요일 분포', weight='bold')"
   ]
  },
  {
   "cell_type": "code",
   "execution_count": null,
   "metadata": {},
   "outputs": [],
   "source": [
    "df_tr.loc[(df_tr['허위매물여부']==1)&(df_tr['월']==4)]"
   ]
  },
  {
   "cell_type": "code",
   "execution_count": null,
   "metadata": {},
   "outputs": [],
   "source": [
    "fig, ax = plt.subplots(2, 2, figsize=(11, 7))\n",
    "\n",
    "sns.histplot(x=df_tr['년'], hue=df_tr['허위매물여부'], multiple='dodge', ax=ax[0, 0])\n",
    "ax[0, 0].set_title('년 분포', weight='bold')\n",
    "\n",
    "sns.histplot(x=df_tr['월'], hue=df_tr['허위매물여부'], multiple='dodge', ax=ax[0, 1])\n",
    "ax[0, 1].set_title('월 분포', weight='bold')\n",
    "\n",
    "sns.histplot(x=df_tr['일'], hue=df_tr['허위매물여부'], multiple='dodge', ax=ax[1, 0])\n",
    "ax[1, 0].set_title('일 분포', weight='bold')\n",
    "\n",
    "sns.histplot(x=df_tr['요일'], hue=df_tr['허위매물여부'], multiple='dodge', ax=ax[1, 1])\n",
    "ax[1, 1].set_title('요일 분포', weight='bold')\n"
   ]
  },
  {
   "cell_type": "code",
   "execution_count": null,
   "metadata": {},
   "outputs": [],
   "source": [
    "plt.figure(figsize=(10,10))\n",
    "sns.heatmap(df_tr.corr(numeric_only=True),annot=True)"
   ]
  },
  {
   "cell_type": "markdown",
   "metadata": {},
   "source": [
    "## Feature Engineering\n",
    "- <조건1> : 층비율, 결측치 16개 삭제, 요일삭제, 전용면적 평균 대체\n",
    "- KNN Imputer 이용한 결측치 보간"
   ]
  },
  {
   "cell_type": "code",
   "execution_count": null,
   "metadata": {},
   "outputs": [],
   "source": [
    "#층비율 파생변수 생성\n",
    "df_tr['층비율'] = df_tr['해당층'] / df_tr['총층']\n",
    "df_te['층비율'] = df_te['해당층'] / df_te['총층']\n",
    "print(df_tr.shape)"
   ]
  },
  {
   "cell_type": "code",
   "execution_count": null,
   "metadata": {},
   "outputs": [],
   "source": [
    "#전용면적 결측치 보간\n",
    "df_tr['전용면적'] = df_tr['전용면적'].fillna(df_tr['전용면적'].mean())\n",
    "df_tr['전용면적'].isna().sum()"
   ]
  },
  {
   "cell_type": "code",
   "execution_count": null,
   "metadata": {},
   "outputs": [],
   "source": [
    "#결측치 16개 삭제\n",
    "df_tr = df_tr.dropna(subset=['방수'],axis=0)\n",
    "print(df_tr.shape)"
   ]
  },
  {
   "cell_type": "code",
   "execution_count": null,
   "metadata": {},
   "outputs": [],
   "source": [
    "df_tr = df_tr.drop(columns=['요일'],axis=1)\n",
    "df_te = df_te.drop(columns=['요일'],axis=1)\n",
    "print(df_tr.shape)\n",
    "\n",
    "cat_col.remove('요일')\n",
    "cat_col.append('중개사무소')"
   ]
  },
  {
   "cell_type": "code",
   "execution_count": null,
   "metadata": {},
   "outputs": [],
   "source": [
    "from sklearn.preprocessing import LabelEncoder\n",
    "le = LabelEncoder()\n",
    "df_tr[cat_col] = df_tr[cat_col].apply(lambda x:le.fit_transform(x))\n",
    "df_te[cat_col] = df_te[cat_col].apply(lambda x:le.fit_transform(x))\n",
    "\n",
    "from sklearn.preprocessing import MinMaxScaler\n",
    "mn = MinMaxScaler()\n",
    "for col in [['보증금','월세']]:\n",
    "    df_tr[col] = mn.fit_transform(df_tr[col])\n",
    "    df_te[col] = mn.fit_transform(df_te[col])\n",
    "\n",
    "df_tr.head()"
   ]
  },
  {
   "cell_type": "code",
   "execution_count": null,
   "metadata": {},
   "outputs": [],
   "source": [
    "plt.figure(figsize=(11,11))\n",
    "sns.heatmap(df_tr.corr(),annot=True)"
   ]
  },
  {
   "cell_type": "code",
   "execution_count": null,
   "metadata": {},
   "outputs": [],
   "source": [
    "print(df_tr.shape,df_te.shape)\n",
    "X,y = df_tr.drop('허위매물여부',axis=1),df_tr['허위매물여부']\n",
    "X_test = df_te"
   ]
  },
  {
   "cell_type": "markdown",
   "metadata": {},
   "source": [
    "## 모델 설계"
   ]
  },
  {
   "cell_type": "code",
   "execution_count": null,
   "metadata": {},
   "outputs": [],
   "source": [
    "from lightgbm import LGBMClassifier\n",
    "from xgboost import XGBClassifier\n",
    "from sklearn.ensemble import RandomForestClassifier\n",
    "from optuna import Trial,visualization\n",
    "from optuna.samplers import TPESampler\n",
    "from sklearn.metrics import f1_score\n",
    "import optuna \n",
    "\n",
    "from sklearn.model_selection import StratifiedKFold"
   ]
  },
  {
   "cell_type": "markdown",
   "metadata": {},
   "source": [
    "### RandomForest\n",
    "- baseline : 0.72\n",
    "- 요일 삭제 : 0.76\n",
    "- 요일 삭제+dropna16 : 0.743\n",
    "- 요일삭제+dropna16+전용면적보간 : 0.73"
   ]
  },
  {
   "cell_type": "code",
   "execution_count": null,
   "metadata": {},
   "outputs": [],
   "source": [
    "rf_val_preds = np.zeros(X.shape[0])\n",
    "rf_test_preds = np.zeros(X_test.shape[0])\n",
    "\n",
    "folds = StratifiedKFold(n_splits=5,shuffle=True,random_state=2025)\n",
    "f1_rf = []\n",
    "\n",
    "for idx,(train_idx,val_idx) in enumerate(folds.split(X,y)):\n",
    "    print(f'Fold {idx+1} / Fold {folds.n_splits}')\n",
    "    X_train,y_train = X.iloc[train_idx],y.iloc[train_idx]\n",
    "    X_val,y_val = X.iloc[val_idx],y.iloc[val_idx]\n",
    "\n",
    "    rf = RandomForestClassifier(random_state=2025)\n",
    "    rf.fit(X_train,y_train)\n",
    "    rf_val_preds[val_idx] += rf.predict(X_val)\n",
    "    \n",
    "    \n",
    "    print(f'Train f1_score: {f1_score(y_train,rf.predict(X_train))}')\n",
    "    print(f'Valid f1_score: {f1_score(y_val,rf.predict(X_val))}')\n",
    "    print('-'*30)\n",
    "\n",
    "    rf_test_preds += rf.predict(X_test)/folds.n_splits\n",
    "    \n",
    "    f1_rf.append(f1_score(y_val,rf_val_preds[val_idx]))\n",
    "\n",
    "print(f'F1-Score: {np.array(f1_rf).mean()}')"
   ]
  },
  {
   "cell_type": "code",
   "execution_count": null,
   "metadata": {},
   "outputs": [],
   "source": [
    "sns.barplot(pd.Series(rf.feature_importances_,index=X_test.columns),orient='h')"
   ]
  },
  {
   "cell_type": "markdown",
   "metadata": {},
   "source": [
    "### LightGBM\n",
    "- 결측치 (16개) 삭제 : 0.826 (실제로는 낮게 측정되어 나옴)\n",
    "- 0.819 : 요일 삭제\n",
    "- 요일+결측치+층비율 : 0.816 <조건2>\n",
    "- 요일+결측치(16,전용면적)+층비율 : 0.818 <조건1> (public best)\n",
    "- ~~조건1+년도 삭제 : 0.758~~\n",
    "- ~~총주차대수 결측치 0 대입: 최악~~\n",
    "- 조건1+관리비 이상치 삭제: 0.829 (실제로 낮음)\n",
    "- 조건1+'일' 삭제: 0.821\n",
    "- ~~조건1에 minmaxscaler : 0.823~~\n",
    "- 조건1+해당층,총층 삭제: 0.822\n",
    "- 조건1 + 총주차대수 결측치 평균으로 대체: 0.820\n",
    "- 조건2 + 전용면적(방수 참고해서 fillna) : 0.819"
   ]
  },
  {
   "cell_type": "markdown",
   "metadata": {},
   "source": [
    "#### baseline\n",
    "- 0.845 : 말그대로 아무것도X\n",
    "- 0.823 : 게재일 삭제, 년/월/일/요일 파생변수 생성\n"
   ]
  },
  {
   "cell_type": "code",
   "execution_count": null,
   "metadata": {},
   "outputs": [],
   "source": [
    "lgb_val_preds = np.zeros(X.shape[0])\n",
    "lgb_test_preds = np.zeros(X_test.shape[0])\n",
    "lgb_val_pred_proba = np.zeros(X.shape[0])\n",
    "\n",
    "folds = StratifiedKFold(n_splits=5,shuffle=True,random_state=2025)\n",
    "f1_lgb = []\n",
    "evals_result_all = []\n",
    "\n",
    "for idx,(train_idx,val_idx) in enumerate(folds.split(X,y)):\n",
    "    print(f'Fold {idx+1} / Fold {folds.n_splits}')\n",
    "    X_train,y_train = X.iloc[train_idx],y.iloc[train_idx]\n",
    "    X_val,y_val = X.iloc[val_idx],y.iloc[val_idx]\n",
    "\n",
    "    lgb = LGBMClassifier(random_state=2025, objective='binary',\n",
    "                         n_estimators=70,learning_rate=0.22)\n",
    "    lgb.fit(X_train,y_train,eval_set=[(X_train,y_train),(X_val,y_val)])\n",
    "    lgb_val_preds[val_idx] = lgb.predict(X_val)\n",
    "    lgb_val_pred_proba[val_idx] = lgb.predict_proba(X_val)[:,1]\n",
    "    \n",
    "    print(f'Train f1_score: {f1_score(y_train,lgb.predict(X_train))}')\n",
    "    print(f'Valid f1_score: {f1_score(y_val,lgb.predict(X_val))}')\n",
    "    print('-'*30)\n",
    "\n",
    "    lgb_test_preds += lgb.predict(X_test)/folds.n_splits\n",
    "    f1_lgb.append(f1_score(y_val,lgb_val_preds[val_idx]))\n",
    "\n",
    "    evals_result_all.append(lgb.evals_result_)\n",
    "\n",
    "print(f'F1-Score: {np.array(f1_lgb).mean()}')"
   ]
  },
  {
   "cell_type": "code",
   "execution_count": null,
   "metadata": {},
   "outputs": [],
   "source": [
    "from lightgbm import plot_importance\n",
    "plot_importance(lgb)"
   ]
  },
  {
   "cell_type": "code",
   "execution_count": null,
   "metadata": {},
   "outputs": [],
   "source": [
    "# Plot the learning curves\n",
    "fig, axes = plt.subplots(1, 5, figsize=(30, 5), sharey=True)\n",
    "for i, evals_result in enumerate(evals_result_all):\n",
    "    train_logloss = evals_result['training']['binary_logloss']\n",
    "    valid_logloss = evals_result['valid_1']['binary_logloss']\n",
    "    axes[i].plot(train_logloss, label='Training Log Loss')\n",
    "    axes[i].plot(valid_logloss, label='Validation Log Loss')\n",
    "    axes[i].set_title(f'Fold {i+1}')\n",
    "    axes[i].set_xlabel('Iterations')\n",
    "    axes[i].set_ylabel('Log Loss')\n",
    "    axes[i].legend()\n"
   ]
  },
  {
   "cell_type": "code",
   "execution_count": null,
   "metadata": {},
   "outputs": [],
   "source": [
    "#예측을 잘 못하는 데이터 값 추출\n",
    "pred_proba_lgb_list = abs(y_val - lgb_val_pred_proba[val_idx]).sort_values(ascending=False)\n",
    "X_val.loc[pred_proba_lgb_list.index][:20]"
   ]
  },
  {
   "cell_type": "markdown",
   "metadata": {},
   "source": [
    "#### optuna"
   ]
  },
  {
   "cell_type": "code",
   "execution_count": null,
   "metadata": {},
   "outputs": [],
   "source": [
    "def objectivelgb(trial:Trial,X,y):\n",
    "    from sklearn.model_selection import train_test_split\n",
    "    X_train_op,y_train_op,X_val_op,y_val_op = train_test_split(X,y,test_size=0.2,random_state=2025)\n",
    "    \n",
    "    global lgb_param\n",
    "    lgb_param = {'random_state':2025,\n",
    "                 'objective':'binary'}\n",
    "    model = LGBMClassifier(**lgb_param)\n",
    "    model.fit(X_train_op,y_train_op,eval_set=[(X_val_op,y_val_op)])\n",
    "    \n",
    "    answer = model.predict(X_val_op)\n",
    "    score = f1_score(answer,y_val_op)\n",
    "    \n",
    "    return score"
   ]
  },
  {
   "cell_type": "code",
   "execution_count": null,
   "metadata": {},
   "outputs": [],
   "source": [
    "study = optuna.create_study(direction='maximize',sampler=TPESampler(seed=2025))\n",
    "study.optimize(lambda trial: objectivelgb(trial,X,y),n_trials=20)\n",
    "print('Best trial: f1-score {},\\nparams : {}'.format(study.best_trial.value,study.best_trial.params))"
   ]
  },
  {
   "cell_type": "markdown",
   "metadata": {},
   "source": [
    "## 결과물 제출"
   ]
  },
  {
   "cell_type": "code",
   "execution_count": null,
   "metadata": {},
   "outputs": [],
   "source": [
    "submit['허위매물여부'] = lgb_test_preds\n",
    "submit['허위매물여부'] = submit['허위매물여부'].apply(lambda x: 1 if x > 0.5 else 0)\n",
    "submit.head()"
   ]
  },
  {
   "cell_type": "code",
   "execution_count": null,
   "metadata": {},
   "outputs": [],
   "source": [
    "submit.to_csv('lgb_term1_hyperparam2.csv',index=False)"
   ]
  }
 ],
 "metadata": {
  "kernelspec": {
   "display_name": "jupytercode",
   "language": "python",
   "name": "python3"
  },
  "language_info": {
   "codemirror_mode": {
    "name": "ipython",
    "version": 3
   },
   "file_extension": ".py",
   "mimetype": "text/x-python",
   "name": "python",
   "nbconvert_exporter": "python",
   "pygments_lexer": "ipython3",
   "version": "3.13.1"
  }
 },
 "nbformat": 4,
 "nbformat_minor": 2
}
