{
 "cells": [
  {
   "cell_type": "code",
   "execution_count": null,
   "metadata": {},
   "outputs": [],
   "source": [
    "# %% \n",
    "# Stress Predcition Hackerton\n",
    "## feature importance : SHAP, feature importance, gini index, permutation importance\n",
    "###"
   ]
  },
  {
   "cell_type": "code",
   "execution_count": null,
   "metadata": {},
   "outputs": [],
   "source": [
    "import pandas as pd\n",
    "import numpy as np\n",
    "import matplotlib.pyplot as plt\n",
    "import seaborn as sns\n",
    "plt.style.use('ggplot')"
   ]
  },
  {
   "cell_type": "code",
   "execution_count": null,
   "metadata": {},
   "outputs": [],
   "source": [
    "train = pd.read_csv('C:/Users/hananthony1/.vscode/lab_git/vscode/datafile/dacon/basic_stress_prediction/train.csv')\n",
    "test = pd.read_csv('C:/Users/hananthony1/.vscode/lab_git/vscode/datafile/dacon/basic_stress_prediction/test.csv')\n",
    "sample_submission = pd.read_csv('C:/Users/hananthony1/.vscode/lab_git/vscode/datafile/dacon/basic_stress_prediction/sample_submission.csv')\n",
    "\n",
    "train.shape, test.shape, sample_submission.shape"
   ]
  },
  {
   "cell_type": "code",
   "execution_count": null,
   "metadata": {},
   "outputs": [],
   "source": [
    "sns.heatmap(train.corr(numeric_only=True), annot=True, fmt=\".2f\", cmap='coolwarm', cbar=True, square=True, linewidths=0.5)"
   ]
  },
  {
   "cell_type": "code",
   "execution_count": null,
   "metadata": {},
   "outputs": [],
   "source": [
    "df_train = train.copy()\n",
    "df_test = test.copy()\n",
    "\n",
    "df_train.drop(columns=['ID'], inplace=True)\n",
    "df_test.drop(columns=['ID'], inplace=True)"
   ]
  },
  {
   "cell_type": "code",
   "execution_count": null,
   "metadata": {},
   "outputs": [],
   "source": [
    "plt.figure(figsize=(12,10))\n",
    "sns.heatmap(df_train.corr(numeric_only=True), annot=True, fmt=\".2f\", cmap='coolwarm', cbar=True, square=True, linewidths=0.7)"
   ]
  },
  {
   "cell_type": "code",
   "execution_count": null,
   "metadata": {},
   "outputs": [],
   "source": [
    "# #Create age_group column\n",
    "# df_train['age_group'] = pd.cut(df_train['age'], bins=range(0,101,10), labels=[f'{i}s' for i in range(0,100,10)])\n",
    "# df_test['age_group'] = pd.cut(df_test['age'], bins=range(0,101,10), labels=[f'{i}s' for i in range(0,100,10)])\n",
    "\n",
    "# #Convert to category dtype\n",
    "# df_train['age_group'] = df_train['age_group'].astype('category')\n",
    "# df_test['age_group'] = df_test['age_group'].astype('category')"
   ]
  },
  {
   "cell_type": "code",
   "execution_count": null,
   "metadata": {},
   "outputs": [],
   "source": [
    "cat_col_tr = df_train.select_dtypes(include='object').columns\n",
    "cat_col_te = df_test.select_dtypes(include='object').columns"
   ]
  },
  {
   "cell_type": "code",
   "execution_count": null,
   "metadata": {},
   "outputs": [],
   "source": [
    "df_train[cat_col_tr] = df_train[cat_col_tr].astype('category')\n",
    "df_test[cat_col_te] = df_test[cat_col_te].astype('category')\n",
    "\n",
    "# from sklearn.preprocessing import LabelEncoder\n",
    "# le = LabelEncoder()\n",
    "# for col in cat_col_tr:\n",
    "#     df_train[col] = le.fit_transform(df_train[col])\n",
    "\n",
    "# plt.figure(figsize=(12,8))\n",
    "# sns.heatmap(df_train.corr(), cbar=False,annot=True,)  # No missing values in train set"
   ]
  },
  {
   "cell_type": "code",
   "execution_count": null,
   "metadata": {},
   "outputs": [],
   "source": [
    "df_train.dtypes"
   ]
  },
  {
   "cell_type": "code",
   "execution_count": null,
   "metadata": {},
   "outputs": [],
   "source": [
    "from missforest import MissForest\n",
    "from sklearn.model_selection import train_test_split\n",
    "\n",
    "mf = MissForest(categorical=[cat_col_tr])\n",
    "mf.fit(x=df_train)\n",
    "df_train_imputed = mf.transform(df_train)"
   ]
  },
  {
   "cell_type": "code",
   "execution_count": null,
   "metadata": {},
   "outputs": [],
   "source": [
    "#missing values filling\n",
    "for col in []:\n",
    "    df_train[col] = df_train[col].fillna(df_train[col].median())\n",
    "    df_test[col] = df_test[col].fillna(df_test[col].median())\n",
    "\n",
    "df_train = pd.get_dummies(df_train, columns=cat_col_tr, drop_first=True)\n",
    "df_test = pd.get_dummies(df_test, columns=cat_col_te, drop_first=True)"
   ]
  },
  {
   "cell_type": "markdown",
   "metadata": {},
   "source": [
    "# Models + Submission"
   ]
  },
  {
   "cell_type": "markdown",
   "metadata": {},
   "source": [
    "## RandomForest\n",
    "### baseline"
   ]
  },
  {
   "cell_type": "code",
   "execution_count": null,
   "metadata": {},
   "outputs": [],
   "source": [
    "from sklearn.pipeline import Pipeline\n",
    "from sklearn.preprocessing import MaxAbsScaler,StandardScaler\n",
    "from sklearn.ensemble import RandomForestRegressor\n",
    "from sklearn.model_selection import train_test_split\n",
    "from sklearn.metrics import mean_absolute_error\n",
    "\n",
    "pipe = Pipeline(steps=[\n",
    "    ('scaler', StandardScaler()),\n",
    "    ('model', RandomForestRegressor(random_state=42))\n",
    "])\n",
    "\n",
    "X = df_train.drop(columns=['stress_score'])\n",
    "y= df_train['stress_score']\n",
    "X_train, X_val, y_train, y_val = train_test_split(X, y, test_size=0.2, random_state=42,shuffle=True)\n",
    "\n",
    "pipe.fit(X_train, y_train)\n",
    "y_pred = pipe.predict(X_val)\n",
    "\n",
    "mae = mean_absolute_error(y_val, y_pred)\n",
    "print(f'Mean Absolute Error: {mae:.4f}')"
   ]
  },
  {
   "cell_type": "markdown",
   "metadata": {},
   "source": [
    "### submission"
   ]
  },
  {
   "cell_type": "code",
   "execution_count": null,
   "metadata": {},
   "outputs": [],
   "source": [
    "pipe.fit(X, y)\n",
    "y_test = pipe.predict(df_test)"
   ]
  },
  {
   "cell_type": "code",
   "execution_count": null,
   "metadata": {},
   "outputs": [],
   "source": [
    "sample_submission['stress_score'] = y_test\n",
    "sample_submission.to_csv('rf_drop_3features.csv', index=False)"
   ]
  },
  {
   "cell_type": "markdown",
   "metadata": {},
   "source": [
    "## XGBoost\n",
    "### Baseline"
   ]
  },
  {
   "cell_type": "code",
   "execution_count": null,
   "metadata": {},
   "outputs": [],
   "source": [
    "# 3-Fold CV with XGBoost\n",
    "from xgboost import XGBRegressor\n",
    "from sklearn.model_selection import train_test_split\n",
    "from sklearn.metrics import mean_absolute_error\n",
    "from sklearn.model_selection import KFold\n",
    "\n",
    "X = df_train.drop(columns=['stress_score'])\n",
    "y= df_train['stress_score']\n",
    "\n",
    "folds = KFold(n_splits=3, shuffle=True, random_state=42)\n",
    "val_scores = []\n",
    "results = []\n",
    "\n",
    "for idx,(train_idx,val_idx) in enumerate(folds.split(X,y)):\n",
    "    print(f'Fold {idx+1} / Fold {folds.n_splits}')\n",
    "    X_train,y_train = X.iloc[train_idx],y.iloc[train_idx]\n",
    "    X_val,y_val = X.iloc[val_idx],y.iloc[val_idx]\n",
    "\n",
    "    print(f'Data Shape:{X_train.shape,y_train.shape,X_val.shape,y_val.shape}\\n')\n",
    "\n",
    "    xgb = XGBRegressor(random_state=42,enable_categorical=True)\n",
    "    xgb.fit(X_train,y_train,eval_set=[(X_train,y_train),(X_val,y_val)],verbose=False)\n",
    "    \n",
    "    xgb_train_pred = xgb.predict(X_train)\n",
    "    xgb_val_pred = xgb.predict(X_val)\n",
    "\n",
    "    print(f'Train MAE: {mean_absolute_error(y_train,xgb_train_pred):.5f}')\n",
    "    print(f'Val MAE: {mean_absolute_error(y_val,xgb_val_pred):.5f}')\n",
    "    print('-'*30)\n",
    "\n",
    "    val_scores.append(mean_absolute_error(y_val,xgb_val_pred))\n",
    "    results.append(xgb.evals_result())\n",
    "\n",
    "print(f'MAE: {np.array(val_scores).mean()}')"
   ]
  },
  {
   "cell_type": "code",
   "execution_count": null,
   "metadata": {},
   "outputs": [],
   "source": [
    "fig,ax = plt.subplots(1,3,figsize=(15,5))\n",
    "for idx,result in enumerate(results):\n",
    "    ax[idx].plot(result['validation_0']['rmse'], label='Train')\n",
    "    ax[idx].plot(result['validation_1']['rmse'], label='Val')\n",
    "    ax[idx].set_xlabel('Iterations')\n",
    "    ax[idx].set_ylabel('MAE')\n",
    "    ax[idx].legend()\n",
    "    ax[idx].set_title(f'Fold {idx+1} Learning Curve')"
   ]
  },
  {
   "cell_type": "code",
   "execution_count": null,
   "metadata": {},
   "outputs": [],
   "source": [
    "import shap\n",
    "explainer = shap.Explainer(xgb)\n",
    "shap_values = explainer(X)\n",
    "shap.plots.beeswarm(shap_values)"
   ]
  },
  {
   "cell_type": "code",
   "execution_count": null,
   "metadata": {},
   "outputs": [],
   "source": [
    "from xgboost import plot_importance\n",
    "plot_importance(xgb)"
   ]
  },
  {
   "cell_type": "code",
   "execution_count": null,
   "metadata": {},
   "outputs": [],
   "source": [
    "from xgboost import XGBRegressor\n",
    "from sklearn.model_selection import train_test_split\n",
    "from sklearn.metrics import mean_absolute_error\n",
    "\n",
    "#XGBoost Baseline\n",
    "X = df_train.drop(columns=['stress_score'])\n",
    "y = df_train['stress_score']\n",
    "X_train, X_val, y_train, y_val = train_test_split(X, y, test_size=0.2, random_state=42,shuffle=True)\n",
    "\n",
    "model = XGBRegressor(random_state=42,enable_categorical=True)\n",
    "model.fit(X_train, y_train,eval_set=[(X_train,y_train),(X_val, y_val)],verbose=False)\n",
    "y_pred = model.predict(X_val)\n",
    "\n",
    "mae = mean_absolute_error(y_val, y_pred)\n",
    "print(f'XGBoost Baseline MAE: {mae:.4f}')"
   ]
  },
  {
   "cell_type": "markdown",
   "metadata": {},
   "source": [
    "### Submission"
   ]
  },
  {
   "cell_type": "code",
   "execution_count": null,
   "metadata": {},
   "outputs": [],
   "source": [
    "from xgboost import XGBRegressor\n",
    "xgb = XGBRegressor(random_state=42,enable_categorical=True)\n",
    "\n",
    "xgb.fit(X,y)\n",
    "y_test = xgb.predict(df_test)"
   ]
  },
  {
   "cell_type": "code",
   "execution_count": null,
   "metadata": {},
   "outputs": [],
   "source": [
    "sample_submission['stress_score'] = y_test\n",
    "sample_submission.to_csv('xgboost_add_features.csv', index=False)"
   ]
  }
 ],
 "metadata": {
  "kernelspec": {
   "display_name": "Python 3",
   "language": "python",
   "name": "python3"
  },
  "language_info": {
   "codemirror_mode": {
    "name": "ipython",
    "version": 3
   },
   "file_extension": ".py",
   "mimetype": "text/x-python",
   "name": "python",
   "nbconvert_exporter": "python",
   "pygments_lexer": "ipython3",
   "version": "3.10.9"
  }
 },
 "nbformat": 4,
 "nbformat_minor": 4
}
